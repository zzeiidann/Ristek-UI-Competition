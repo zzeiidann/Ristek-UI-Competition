{
 "cells": [
  {
   "cell_type": "markdown",
   "metadata": {},
   "source": [
    "# **Pendahuluan**\n"
   ]
  },
  {
   "cell_type": "markdown",
   "metadata": {},
   "source": [
    "## ***Deskripsi***\n",
    "\n",
    "Tindak penipuan dalam transaksi daring makin menjadi sumber kekhawatiran bagi masyarakat, terutama dengan peningkatan laporan yang signifikan. Berdasarkan data terbaru dari Pusat Pelaporan dan Analisis Transaksi Keuangan (PPATK), jumlah laporan transaksi keuangan mencurigakan (LKTM) telah mencapai angka mencengangkan sebanyak 130.472. Angka ini menunjukkan peningkatan yang besar, yakni 43,78% dari periode yang sama pada tahun sebelumnya yang tercatat sebanyak 90.742 laporan.\n",
    "\n",
    "Dalam menghadapi masalah penipuan daring yang makin kompleks, peran ilmuwan data menjadi sangat penting. Anda dihadapkan pada tantangan untuk membantu mengurangi prevalensi kejadian penipuan serupa di masa yang akan datang. Melalui partisipasi dalam playground ini, tugas Anda bukan hanya mengidentifikasi karakteristik umum dari pelaku penipuan, tetapi juga mengembangkan model prediksi yang dapat secara akurat mengidentifikasi individu atau transaksi yang berpotensi melakukan penipuan berdasarkan data yang tersedia.\n",
    "Dapatkah Anda menjawab tantangan ini?\n",
    "\n",
    "---------------------------------------------------------------------------------------------------------------------------------------------------------------------------------------------\n",
    "\n",
    "## ***Evaluasi***\n",
    "\n",
    "Evaluasi\n",
    "Submisi dievaluasi menggunakan metrik Balanced Accuracy Score.\n",
    "\n",
    "$$\\text{Balanced Accuracy} = \\frac{1}{2} \\left( \\frac{TP}{TP + FN} + \\frac{TN}{TN + FP} \\right)$$\n",
    "\n",
    "\n",
    "dengan TP adalah banyaknya true positive, TN banyaknya true negative, FP banyaknya false positive, dan FN banyaknya false negative.\n",
    "\n",
    "---------------------------------------------------------------------------------------------------------------------------------------------------------------------------------------------\n",
    "\n",
    "## ***Referensi***\n",
    "**Sumber:**\n",
    "\n",
    "Royalx. (2021, June 14). 8 Tips on Processing Online Payments for Small Businesses. Get Business Strategy. https://getbusinessstrategy.com/8-tips-on-processing-online-payments-for-small-businesses/\n",
    "\n",
    "Laporan Transaksi Keuangan Mencurigakan Naik 43,78% pada 2023 | Databoks. (n.d.). Databoks.katadata.co.id. Retrieved June 14, 2024, from https://databoks.katadata.co.id/datapublish/2024/01/28/laporan-transaksi-keuangan-mencurigakan-naik-4378-pada-2023\n",
    "\n",
    "eCommerce Fraud: The Ultimate Merchant’s Guide for 2023. (n.d.). Chargebacks911. https://chargebacks911.com/ecommerce-fraud/\n",
    "\n",
    "---------------------------------------------------------------------------------------------------------------------------------------------------------------------------------------------\n",
    "\n",
    "## ***Dataset***\n",
    "\n",
    "### **Train & Test**\n",
    "\n",
    "| Nama Variabel             | Deskripsi                                                                 | Dtype   |\n",
    "|---------------------------|---------------------------------------------------------------------------|---------|\n",
    "| id_pengguna               | Identifikasi unik untuk setiap pengguna yang terdaftar di platform e-commerce. | int64   |\n",
    "| waktu_pendaftaran_akun    | Waktu ketika pengguna mendaftar di platform e-commerce.                   | object  |\n",
    "| waktu_pembelian           | Waktu ketika pengguna melakukan pembelian di platform e-commerce.         | object  |\n",
    "| total_harga_pembelian     | Nilai transaksi dari pembelian yang dilakukan oleh pengguna.               | int64   |\n",
    "| id_perangkat              | Identifikasi unik dari perangkat yang digunakan oleh pengguna untuk mengakses platform e-commerce. | object  |\n",
    "| sumber                    | Sumber atau kanal dari mana pengguna menemukan atau mengakses platform e-commerce (misalnya iklan, pencarian organik, dll.). | object  |\n",
    "| browser                   | Jenis peramban yang digunakan oleh pengguna untuk mengakses platform e-commerce. | object  |\n",
    "| gender                    | Jenis kelamin pengguna yang terdaftar di platform e-commerce.             | object  |\n",
    "| umur                      | Usia pengguna yang terdaftar di platform e-commerce.                      | int64   |\n",
    "| alamat_IP                 | Alamat IP yang digunakan oleh perangkat pengguna saat mengakses platform e-commerce. | float64 |\n",
    "| fraud                     | Klasifikasi transaksi apakah termasuk penipuan atau tidak. (Tidak ada dalam test.csv) | int64   |\n",
    "\n",
    "\n",
    "### **IP Adress Mapping**\n",
    "\n",
    "\n",
    "| Nama Variabel              | Deskripsi                                                                                          | Dtype   |\n",
    "|----------------------------|----------------------------------------------------------------------------------------------------|---------|\n",
    "| batas_bawah_alamat_IP       | Batas bawah rentang alamat IP yang digunakan untuk menentukan lokasi geografis pengguna.           | int64   |\n",
    "| batas_atas_alamat_IP        | Batas atas rentang alamat IP yang digunakan untuk menentukan lokasi geografis pengguna.            | int64   |\n",
    "| negara                     | Negara asal pengguna berdasarkan alamat IP yang digunakan saat mengakses platform e-commerce.       | object  |"
   ]
  },
  {
   "cell_type": "markdown",
   "metadata": {},
   "source": [
    "# **Libraries**"
   ]
  },
  {
   "cell_type": "markdown",
   "metadata": {},
   "source": [
    "\n",
    "```python\n",
    "import pandas as pd\n",
    "import numpy as np\n",
    "import matplotlib.pyplot as plt\n",
    "from imblearn.under_sampling import RandomUnderSampler\n",
    "import statsmodels.api as sm\n",
    "import seaborn as sns\n",
    "import warnings \n",
    "from itertools import product\n",
    "from sklearn.preprocessing import StandardScaler, RobustScaler, MinMaxScaler, KBinsDiscretizer\n",
    "from sklearn.inspection import permutation_importance\n",
    "from sklearn.model_selection import train_test_split\n",
    "from catboost import CatBoostClassifier\n",
    "from sklearn.metrics import classification_report, confusion_matrix, balanced_accuracy_score\n",
    "from sklearn.utils import class_weight\n",
    "```\n",
    "\n",
    "--------------------------------------------------------------------------------------------------------------------------------------------------------------------------------------------"
   ]
  },
  {
   "cell_type": "markdown",
   "metadata": {},
   "source": [
    "# **Main Notebook**\n"
   ]
  },
  {
   "cell_type": "code",
   "execution_count": 219,
   "metadata": {},
   "outputs": [],
   "source": [
    "import warnings \n",
    "warnings.filterwarnings('ignore') #ignore warnings"
   ]
  },
  {
   "cell_type": "markdown",
   "metadata": {},
   "source": [
    "## **Import Libraries**"
   ]
  },
  {
   "cell_type": "code",
   "execution_count": 220,
   "metadata": {},
   "outputs": [],
   "source": [
    "import pandas as pd\n",
    "import numpy as np\n",
    "import matplotlib.pyplot as plt\n",
    "from imblearn.under_sampling import RandomUnderSampler\n",
    "import statsmodels.api as sm\n",
    "import seaborn as sns\n",
    "from itertools import product\n",
    "from sklearn.preprocessing import StandardScaler, RobustScaler, MinMaxScaler, KBinsDiscretizer\n",
    "from sklearn.inspection import permutation_importance\n",
    "from sklearn.model_selection import train_test_split\n",
    "from catboost import CatBoostClassifier\n",
    "from sklearn.metrics import classification_report, confusion_matrix, balanced_accuracy_score\n",
    "from sklearn.utils import class_weight"
   ]
  },
  {
   "cell_type": "markdown",
   "metadata": {},
   "source": [
    "## **Assessing Data**"
   ]
  },
  {
   "cell_type": "code",
   "execution_count": 221,
   "metadata": {},
   "outputs": [],
   "source": [
    "train = pd.read_csv('~/Documents/Code/Ristek Play Ground/Data/train.csv')\n",
    "mapping = pd.read_csv('~/Documents/Code/Ristek Play Ground/Data//ip_address_mapping.csv')\n",
    "test = pd.read_csv('~/Documents/Code/Ristek Play Ground/Data//test.csv')"
   ]
  },
  {
   "cell_type": "markdown",
   "metadata": {},
   "source": [
    "### **Train Data**"
   ]
  },
  {
   "cell_type": "code",
   "execution_count": 222,
   "metadata": {},
   "outputs": [
    {
     "data": {
      "text/html": [
       "<div>\n",
       "<style scoped>\n",
       "    .dataframe tbody tr th:only-of-type {\n",
       "        vertical-align: middle;\n",
       "    }\n",
       "\n",
       "    .dataframe tbody tr th {\n",
       "        vertical-align: top;\n",
       "    }\n",
       "\n",
       "    .dataframe thead th {\n",
       "        text-align: right;\n",
       "    }\n",
       "</style>\n",
       "<table border=\"1\" class=\"dataframe\">\n",
       "  <thead>\n",
       "    <tr style=\"text-align: right;\">\n",
       "      <th></th>\n",
       "      <th>id_pengguna</th>\n",
       "      <th>waktu_pendaftaran_akun</th>\n",
       "      <th>waktu_pembelian</th>\n",
       "      <th>total_harga_pembelian</th>\n",
       "      <th>id_perangkat</th>\n",
       "      <th>sumber</th>\n",
       "      <th>browser</th>\n",
       "      <th>gender</th>\n",
       "      <th>umur</th>\n",
       "      <th>alamat_IP</th>\n",
       "      <th>fraud</th>\n",
       "    </tr>\n",
       "  </thead>\n",
       "  <tbody>\n",
       "    <tr>\n",
       "      <th>0</th>\n",
       "      <td>286873</td>\n",
       "      <td>6/7/2015 12:58</td>\n",
       "      <td>9/27/2015 16:32</td>\n",
       "      <td>14</td>\n",
       "      <td>DNTIEECGGDXHF</td>\n",
       "      <td>Iklan</td>\n",
       "      <td>Opera</td>\n",
       "      <td>F</td>\n",
       "      <td>38</td>\n",
       "      <td>2.417207e+08</td>\n",
       "      <td>0</td>\n",
       "    </tr>\n",
       "    <tr>\n",
       "      <th>1</th>\n",
       "      <td>244392</td>\n",
       "      <td>5/1/2015 15:29</td>\n",
       "      <td>8/27/2015 14:21</td>\n",
       "      <td>11</td>\n",
       "      <td>MECRFNJGDPGOB</td>\n",
       "      <td>SEO</td>\n",
       "      <td>Chrome</td>\n",
       "      <td>M</td>\n",
       "      <td>36</td>\n",
       "      <td>4.172794e+09</td>\n",
       "      <td>0</td>\n",
       "    </tr>\n",
       "    <tr>\n",
       "      <th>2</th>\n",
       "      <td>20720</td>\n",
       "      <td>3/29/2015 18:04</td>\n",
       "      <td>6/13/2015 6:50</td>\n",
       "      <td>52</td>\n",
       "      <td>WLTSYVLLASJOZ</td>\n",
       "      <td>SEO</td>\n",
       "      <td>Internet Explorer</td>\n",
       "      <td>M</td>\n",
       "      <td>26</td>\n",
       "      <td>1.113433e+09</td>\n",
       "      <td>0</td>\n",
       "    </tr>\n",
       "    <tr>\n",
       "      <th>3</th>\n",
       "      <td>198755</td>\n",
       "      <td>1/29/2015 0:49</td>\n",
       "      <td>2/17/2015 21:49</td>\n",
       "      <td>13</td>\n",
       "      <td>TWGNWOWURZFMY</td>\n",
       "      <td>SEO</td>\n",
       "      <td>Safari</td>\n",
       "      <td>F</td>\n",
       "      <td>38</td>\n",
       "      <td>1.339309e+09</td>\n",
       "      <td>0</td>\n",
       "    </tr>\n",
       "    <tr>\n",
       "      <th>4</th>\n",
       "      <td>64996</td>\n",
       "      <td>1/17/2015 19:30</td>\n",
       "      <td>3/1/2015 9:17</td>\n",
       "      <td>23</td>\n",
       "      <td>XMQENRCEILYAJ</td>\n",
       "      <td>Langsung</td>\n",
       "      <td>Safari</td>\n",
       "      <td>F</td>\n",
       "      <td>19</td>\n",
       "      <td>4.602382e+08</td>\n",
       "      <td>0</td>\n",
       "    </tr>\n",
       "  </tbody>\n",
       "</table>\n",
       "</div>"
      ],
      "text/plain": [
       "   id_pengguna waktu_pendaftaran_akun  waktu_pembelian  total_harga_pembelian  \\\n",
       "0       286873         6/7/2015 12:58  9/27/2015 16:32                     14   \n",
       "1       244392         5/1/2015 15:29  8/27/2015 14:21                     11   \n",
       "2        20720        3/29/2015 18:04   6/13/2015 6:50                     52   \n",
       "3       198755         1/29/2015 0:49  2/17/2015 21:49                     13   \n",
       "4        64996        1/17/2015 19:30    3/1/2015 9:17                     23   \n",
       "\n",
       "    id_perangkat    sumber            browser gender  umur     alamat_IP  \\\n",
       "0  DNTIEECGGDXHF     Iklan              Opera      F    38  2.417207e+08   \n",
       "1  MECRFNJGDPGOB       SEO             Chrome      M    36  4.172794e+09   \n",
       "2  WLTSYVLLASJOZ       SEO  Internet Explorer      M    26  1.113433e+09   \n",
       "3  TWGNWOWURZFMY       SEO             Safari      F    38  1.339309e+09   \n",
       "4  XMQENRCEILYAJ  Langsung             Safari      F    19  4.602382e+08   \n",
       "\n",
       "   fraud  \n",
       "0      0  \n",
       "1      0  \n",
       "2      0  \n",
       "3      0  \n",
       "4      0  "
      ]
     },
     "execution_count": 222,
     "metadata": {},
     "output_type": "execute_result"
    }
   ],
   "source": [
    "train.head()"
   ]
  },
  {
   "cell_type": "markdown",
   "metadata": {},
   "source": [
    "Tidak ada nilai yang hilang, tetapi beberapa fitur masih memiliki tipe data yang salah (misalnya: `waktu_pendaftaran_akun` dan `waktu_pembelian` seharusnya berupa objek datetime)."
   ]
  },
  {
   "cell_type": "code",
   "execution_count": 223,
   "metadata": {},
   "outputs": [
    {
     "name": "stdout",
     "output_type": "stream",
     "text": [
      "n of duplicated rows: 0\n"
     ]
    }
   ],
   "source": [
    "print('n of duplicated rows:', train.duplicated().sum())"
   ]
  },
  {
   "cell_type": "markdown",
   "metadata": {},
   "source": [
    "Tidak ada duplikat dalam data `train`.\n",
    "Sekarang kita cek distribusi dari setiap fitur numerik untuk menilai ketidaknormalan dalam dataset `train`."
   ]
  },
  {
   "cell_type": "code",
   "execution_count": 224,
   "metadata": {},
   "outputs": [
    {
     "data": {
      "image/png": "[encoded data removed]",
      "text/plain": [
       "<Figure size 1500x500 with 5 Axes>"
      ]
     },
     "metadata": {},
     "output_type": "display_data"
    }
   ],
   "source": [
    "def boxplot_features(df, ncols=5):\n",
    "    numeric_cols = df.select_dtypes(include=['int64', 'int32', 'float64', 'timedelta64[ns]']).columns\n",
    "\n",
    "    n = len(numeric_cols)\n",
    "    nrows = n // ncols if n % ncols == 0 else n // ncols + 1\n",
    "\n",
    "    fig, axs = plt.subplots(nrows=nrows, ncols=ncols, figsize=(ncols*3, nrows*5))\n",
    "\n",
    "    for ax, column in zip(axs.flatten(), numeric_cols):\n",
    "        sns.boxplot(x='fraud', y=df[column], data=df, ax=ax, palette='Set2')\n",
    "        ax.set_title(f'Boxplot of {column}')\n",
    "\n",
    "    plt.tight_layout()\n",
    "    plt.show()\n",
    "\n",
    "boxplot_features(train, ncols=5)"
   ]
  },
  {
   "cell_type": "markdown",
   "metadata": {},
   "source": [
    "Dari boxplot di atas, tidak terlihat ketidaknormalan selain <span style=\"color:red\">***outlier***</span> pada beberapa fitur. Namun, outlier ini tidak akan diimputasi karena dalam fraud detection, observasi outlier biasanya memberikan informasi penting dalam mengklasifikasikan transaksi penipuan."
   ]
  },
  {
   "cell_type": "code",
   "execution_count": 225,
   "metadata": {},
   "outputs": [
    {
     "data": {
      "image/png": "[encoded data removed]",
      "text/plain": [
       "<Figure size 1500x500 with 2 Axes>"
      ]
     },
     "metadata": {},
     "output_type": "display_data"
    }
   ],
   "source": [
    "fig , ax = plt.subplots(1, 2, figsize=(15, 5))\n",
    "\n",
    "sns.countplot(x='fraud', data=train, palette='Set2', ax=ax[0])\n",
    "ax[0].set_title('Count of Fraud')\n",
    "\n",
    "train['fraud'].value_counts().plot.pie(autopct='%1.1f%%', ax=ax[1], colors=sns.color_palette('Set2'))\n",
    "ax[1].set_title('Fraud Distribution')\n",
    "\n",
    "plt.show()\n"
   ]
  },
  {
   "cell_type": "markdown",
   "metadata": {},
   "source": [
    "Jumlah transaksi penipuan yang sedikit dibandingkan dengan semua transaksi menunjukkan <span style=\"color:red\">***dataset yang tidak seimbang***</span>. Oleh karena itu, kita perlu melakukan beberapa preprocessing sebelum membuat model klasifikasi."
   ]
  },
  {
   "cell_type": "markdown",
   "metadata": {},
   "source": [
    "### **Test Data**"
   ]
  },
  {
   "cell_type": "code",
   "execution_count": 226,
   "metadata": {},
   "outputs": [
    {
     "data": {
      "text/html": [
       "<div>\n",
       "<style scoped>\n",
       "    .dataframe tbody tr th:only-of-type {\n",
       "        vertical-align: middle;\n",
       "    }\n",
       "\n",
       "    .dataframe tbody tr th {\n",
       "        vertical-align: top;\n",
       "    }\n",
       "\n",
       "    .dataframe thead th {\n",
       "        text-align: right;\n",
       "    }\n",
       "</style>\n",
       "<table border=\"1\" class=\"dataframe\">\n",
       "  <thead>\n",
       "    <tr style=\"text-align: right;\">\n",
       "      <th></th>\n",
       "      <th>id_pengguna</th>\n",
       "      <th>waktu_pendaftaran_akun</th>\n",
       "      <th>waktu_pembelian</th>\n",
       "      <th>total_harga_pembelian</th>\n",
       "      <th>id_perangkat</th>\n",
       "      <th>sumber</th>\n",
       "      <th>browser</th>\n",
       "      <th>gender</th>\n",
       "      <th>umur</th>\n",
       "      <th>alamat_IP</th>\n",
       "    </tr>\n",
       "  </thead>\n",
       "  <tbody>\n",
       "    <tr>\n",
       "      <th>0</th>\n",
       "      <td>28006</td>\n",
       "      <td>2015-06-26 13:27:55</td>\n",
       "      <td>2015-07-13 02:46:13</td>\n",
       "      <td>48</td>\n",
       "      <td>IVHYUSXPDUJUD</td>\n",
       "      <td>SEO</td>\n",
       "      <td>Chrome</td>\n",
       "      <td>M</td>\n",
       "      <td>31</td>\n",
       "      <td>4.268419e+09</td>\n",
       "    </tr>\n",
       "    <tr>\n",
       "      <th>1</th>\n",
       "      <td>245189</td>\n",
       "      <td>2015-06-23 15:48:00</td>\n",
       "      <td>2015-09-16 07:26:25</td>\n",
       "      <td>46</td>\n",
       "      <td>UJURCZHQSNBQA</td>\n",
       "      <td>SEO</td>\n",
       "      <td>Firefox</td>\n",
       "      <td>M</td>\n",
       "      <td>34</td>\n",
       "      <td>4.277726e+09</td>\n",
       "    </tr>\n",
       "    <tr>\n",
       "      <th>2</th>\n",
       "      <td>58345</td>\n",
       "      <td>2015-06-18 04:14:35</td>\n",
       "      <td>2015-09-21 22:24:59</td>\n",
       "      <td>30</td>\n",
       "      <td>PVWDQUCMMBJXJ</td>\n",
       "      <td>Iklan</td>\n",
       "      <td>Firefox</td>\n",
       "      <td>F</td>\n",
       "      <td>20</td>\n",
       "      <td>1.235071e+09</td>\n",
       "    </tr>\n",
       "    <tr>\n",
       "      <th>3</th>\n",
       "      <td>218574</td>\n",
       "      <td>2015-05-19 14:55:18</td>\n",
       "      <td>2015-08-21 00:44:36</td>\n",
       "      <td>29</td>\n",
       "      <td>PMSPHBOFWBTRC</td>\n",
       "      <td>Langsung</td>\n",
       "      <td>Safari</td>\n",
       "      <td>M</td>\n",
       "      <td>25</td>\n",
       "      <td>2.496396e+09</td>\n",
       "    </tr>\n",
       "    <tr>\n",
       "      <th>4</th>\n",
       "      <td>49779</td>\n",
       "      <td>2015-04-02 23:35:29</td>\n",
       "      <td>2015-07-08 06:24:47</td>\n",
       "      <td>19</td>\n",
       "      <td>NFGHLAQQPTLVY</td>\n",
       "      <td>Iklan</td>\n",
       "      <td>Chrome</td>\n",
       "      <td>M</td>\n",
       "      <td>38</td>\n",
       "      <td>2.701254e+09</td>\n",
       "    </tr>\n",
       "  </tbody>\n",
       "</table>\n",
       "</div>"
      ],
      "text/plain": [
       "   id_pengguna waktu_pendaftaran_akun      waktu_pembelian  \\\n",
       "0        28006    2015-06-26 13:27:55  2015-07-13 02:46:13   \n",
       "1       245189    2015-06-23 15:48:00  2015-09-16 07:26:25   \n",
       "2        58345    2015-06-18 04:14:35  2015-09-21 22:24:59   \n",
       "3       218574    2015-05-19 14:55:18  2015-08-21 00:44:36   \n",
       "4        49779    2015-04-02 23:35:29  2015-07-08 06:24:47   \n",
       "\n",
       "   total_harga_pembelian   id_perangkat    sumber  browser gender  umur  \\\n",
       "0                     48  IVHYUSXPDUJUD       SEO   Chrome      M    31   \n",
       "1                     46  UJURCZHQSNBQA       SEO  Firefox      M    34   \n",
       "2                     30  PVWDQUCMMBJXJ     Iklan  Firefox      F    20   \n",
       "3                     29  PMSPHBOFWBTRC  Langsung   Safari      M    25   \n",
       "4                     19  NFGHLAQQPTLVY     Iklan   Chrome      M    38   \n",
       "\n",
       "      alamat_IP  \n",
       "0  4.268419e+09  \n",
       "1  4.277726e+09  \n",
       "2  1.235071e+09  \n",
       "3  2.496396e+09  \n",
       "4  2.701254e+09  "
      ]
     },
     "execution_count": 226,
     "metadata": {},
     "output_type": "execute_result"
    }
   ],
   "source": [
    "test.head()"
   ]
  },
  {
   "cell_type": "code",
   "execution_count": 227,
   "metadata": {},
   "outputs": [
    {
     "name": "stdout",
     "output_type": "stream",
     "text": [
      "<class 'pandas.core.frame.DataFrame'>\n",
      "RangeIndex: 75556 entries, 0 to 75555\n",
      "Data columns (total 10 columns):\n",
      " #   Column                  Non-Null Count  Dtype  \n",
      "---  ------                  --------------  -----  \n",
      " 0   id_pengguna             75556 non-null  int64  \n",
      " 1   waktu_pendaftaran_akun  75556 non-null  object \n",
      " 2   waktu_pembelian         75556 non-null  object \n",
      " 3   total_harga_pembelian   75556 non-null  int64  \n",
      " 4   id_perangkat            75556 non-null  object \n",
      " 5   sumber                  75556 non-null  object \n",
      " 6   browser                 75556 non-null  object \n",
      " 7   gender                  75556 non-null  object \n",
      " 8   umur                    75556 non-null  int64  \n",
      " 9   alamat_IP               75556 non-null  float64\n",
      "dtypes: float64(1), int64(3), object(6)\n",
      "memory usage: 5.8+ MB\n"
     ]
    }
   ],
   "source": [
    "test.info()"
   ]
  },
  {
   "cell_type": "markdown",
   "metadata": {},
   "source": [
    "Tidak ada nilai yang hilang, tetapi beberapa fitur masih memiliki tipe data yang salah (misalnya: `waktu_pendaftaran_akun` dan `waktu_pembelian` seharusnya berupa objek datetime)."
   ]
  },
  {
   "cell_type": "code",
   "execution_count": 228,
   "metadata": {},
   "outputs": [
    {
     "name": "stdout",
     "output_type": "stream",
     "text": [
      "n of duplicated rows: 0\n"
     ]
    }
   ],
   "source": [
    "print('n of duplicated rows:', test.duplicated().sum())"
   ]
  },
  {
   "cell_type": "markdown",
   "metadata": {},
   "source": [
    "Tidak ada duplikat dalam data `test`.\n",
    "Sekarang kita cek distribusi dari setiap fitur numerik untuk menilai ketidaknormalan dalam dataset `test`."
   ]
  },
  {
   "cell_type": "code",
   "execution_count": 229,
   "metadata": {},
   "outputs": [
    {
     "data": {
      "image/png": "[encoded data removed]",
      "text/plain": [
       "<Figure size 1200x400 with 4 Axes>"
      ]
     },
     "metadata": {},
     "output_type": "display_data"
    }
   ],
   "source": [
    "def boxplot_features(df, ncols=4):\n",
    "    numeric_cols = df.select_dtypes(include=['int64', 'int32', 'float64', 'timedelta64[ns]']).columns\n",
    "\n",
    "    n = len(numeric_cols)\n",
    "    nrows = n // ncols if n % ncols == 0 else n // ncols + 1\n",
    "\n",
    "    fig, axs = plt.subplots(nrows=nrows, ncols=ncols, figsize=(ncols*3, nrows*4))\n",
    "\n",
    "    for ax, column in zip(axs.flatten(), numeric_cols):\n",
    "        sns.boxplot(y=df[column], ax=ax, palette='Set2')\n",
    "        ax.set_title(f'Boxplot of {column}')\n",
    "\n",
    "    plt.tight_layout()\n",
    "    plt.show()\n",
    "\n",
    "boxplot_features(test, ncols=4)\n"
   ]
  },
  {
   "cell_type": "markdown",
   "metadata": {},
   "source": [
    "Sama seperti dataset train, tidak ada kelainan yang terlihat kecuali <span style=\"color:red\">***outlier***</span> pada beberapa fitur. Namun outlier-outlier ini tidak akan diimputasi karena dalam deteksi penipuan, observasi outlier biasanya memberikan informasi penting dalam mengklasifikasikan transaksi penipuan."
   ]
  },
  {
   "cell_type": "markdown",
   "metadata": {},
   "source": [
    "### **IP Address Mapping Data**"
   ]
  },
  {
   "cell_type": "code",
   "execution_count": 230,
   "metadata": {},
   "outputs": [
    {
     "data": {
      "text/html": [
       "<div>\n",
       "<style scoped>\n",
       "    .dataframe tbody tr th:only-of-type {\n",
       "        vertical-align: middle;\n",
       "    }\n",
       "\n",
       "    .dataframe tbody tr th {\n",
       "        vertical-align: top;\n",
       "    }\n",
       "\n",
       "    .dataframe thead th {\n",
       "        text-align: right;\n",
       "    }\n",
       "</style>\n",
       "<table border=\"1\" class=\"dataframe\">\n",
       "  <thead>\n",
       "    <tr style=\"text-align: right;\">\n",
       "      <th></th>\n",
       "      <th>batas_bawah_alamat_IP</th>\n",
       "      <th>batas_atas_alamat_IP</th>\n",
       "      <th>negara</th>\n",
       "    </tr>\n",
       "  </thead>\n",
       "  <tbody>\n",
       "    <tr>\n",
       "      <th>0</th>\n",
       "      <td>16777216</td>\n",
       "      <td>16777471</td>\n",
       "      <td>Australia</td>\n",
       "    </tr>\n",
       "    <tr>\n",
       "      <th>1</th>\n",
       "      <td>16777472</td>\n",
       "      <td>16777727</td>\n",
       "      <td>China</td>\n",
       "    </tr>\n",
       "    <tr>\n",
       "      <th>2</th>\n",
       "      <td>16777728</td>\n",
       "      <td>16778239</td>\n",
       "      <td>China</td>\n",
       "    </tr>\n",
       "    <tr>\n",
       "      <th>3</th>\n",
       "      <td>16778240</td>\n",
       "      <td>16779263</td>\n",
       "      <td>Australia</td>\n",
       "    </tr>\n",
       "    <tr>\n",
       "      <th>4</th>\n",
       "      <td>16779264</td>\n",
       "      <td>16781311</td>\n",
       "      <td>China</td>\n",
       "    </tr>\n",
       "  </tbody>\n",
       "</table>\n",
       "</div>"
      ],
      "text/plain": [
       "   batas_bawah_alamat_IP  batas_atas_alamat_IP     negara\n",
       "0               16777216              16777471  Australia\n",
       "1               16777472              16777727      China\n",
       "2               16777728              16778239      China\n",
       "3               16778240              16779263  Australia\n",
       "4               16779264              16781311      China"
      ]
     },
     "execution_count": 230,
     "metadata": {},
     "output_type": "execute_result"
    }
   ],
   "source": [
    "mapping.head()"
   ]
  },
  {
   "cell_type": "code",
   "execution_count": 231,
   "metadata": {},
   "outputs": [
    {
     "name": "stdout",
     "output_type": "stream",
     "text": [
      "<class 'pandas.core.frame.DataFrame'>\n",
      "RangeIndex: 138846 entries, 0 to 138845\n",
      "Data columns (total 3 columns):\n",
      " #   Column                 Non-Null Count   Dtype \n",
      "---  ------                 --------------   ----- \n",
      " 0   batas_bawah_alamat_IP  138846 non-null  int64 \n",
      " 1   batas_atas_alamat_IP   138846 non-null  int64 \n",
      " 2   negara                 138846 non-null  object\n",
      "dtypes: int64(2), object(1)\n",
      "memory usage: 3.2+ MB\n"
     ]
    }
   ],
   "source": [
    "mapping.info()"
   ]
  },
  {
   "cell_type": "markdown",
   "metadata": {},
   "source": [
    "Tidak ada nilai yang hilang dan tipe data fitur sesuai."
   ]
  },
  {
   "cell_type": "code",
   "execution_count": 232,
   "metadata": {},
   "outputs": [
    {
     "name": "stdout",
     "output_type": "stream",
     "text": [
      "n of duplicated rows: 0\n"
     ]
    }
   ],
   "source": [
    "print('n of duplicated rows:', mapping.duplicated().sum())"
   ]
  },
  {
   "cell_type": "markdown",
   "metadata": {},
   "source": [
    "Tidak ada duplikat dalam data `mapping`"
   ]
  },
  {
   "cell_type": "code",
   "execution_count": 233,
   "metadata": {},
   "outputs": [
    {
     "data": {
      "text/plain": [
       "negara\n",
       "United States                            46868\n",
       "Canada                                    6989\n",
       "Russian Federation                        6739\n",
       "Australia                                 6316\n",
       "Germany                                   5999\n",
       "                                         ...  \n",
       "Timor-leste                                  1\n",
       "Korea Democratic People's Republic of        1\n",
       "St. Pierre and Miquelon                      1\n",
       "Tokelau                                      1\n",
       "Saint Lucia                                  1\n",
       "Name: count, Length: 235, dtype: int64"
      ]
     },
     "execution_count": 233,
     "metadata": {},
     "output_type": "execute_result"
    }
   ],
   "source": [
    "mapping.negara.value_counts()"
   ]
  },
  {
   "cell_type": "markdown",
   "metadata": {},
   "source": [
    "## **Pre-Processing**"
   ]
  },
  {
   "cell_type": "code",
   "execution_count": 234,
   "metadata": {},
   "outputs": [
    {
     "name": "stdout",
     "output_type": "stream",
     "text": [
      "<class 'pandas.core.frame.DataFrame'>\n",
      "RangeIndex: 151112 entries, 0 to 151111\n",
      "Data columns (total 10 columns):\n",
      " #   Column                  Non-Null Count   Dtype  \n",
      "---  ------                  --------------   -----  \n",
      " 0   id_pengguna             151112 non-null  int64  \n",
      " 1   waktu_pendaftaran_akun  151112 non-null  object \n",
      " 2   waktu_pembelian         151112 non-null  object \n",
      " 3   total_harga_pembelian   151112 non-null  int64  \n",
      " 4   id_perangkat            151112 non-null  object \n",
      " 5   sumber                  151112 non-null  object \n",
      " 6   browser                 151112 non-null  object \n",
      " 7   gender                  151112 non-null  object \n",
      " 8   umur                    151112 non-null  int64  \n",
      " 9   alamat_IP               151112 non-null  float64\n",
      "dtypes: float64(1), int64(3), object(6)\n",
      "memory usage: 11.5+ MB\n"
     ]
    }
   ],
   "source": [
    "data = pd.concat((train.iloc[:,:10], test), axis=0, ignore_index=True)\n",
    "data.info()"
   ]
  },
  {
   "cell_type": "markdown",
   "metadata": {},
   "source": [
    "Perlu dicatat bahwa penggabungan ini menciptakan sebuah dataset di mana 75556 observasi pertama berasal dari dataset `train` dan sisanya berasal dari dataset `test`. Label fraud dikecualikan karena kita tidak akan memproses label tersebut."
   ]
  },
  {
   "cell_type": "code",
   "execution_count": 235,
   "metadata": {},
   "outputs": [],
   "source": [
    "# Changes the `alamat_IP` data type to int64, `waktu_pendaftaran_akun` and `waktu_pembelian` data type to datetime64 \n",
    "data['alamat_IP'] = data['alamat_IP'].astype(np.int64)\n",
    "data['waktu_pendaftaran_akun'] = pd.to_datetime(data['waktu_pendaftaran_akun'], format=\"mixed\")\n",
    "data['waktu_pembelian'] = pd.to_datetime(data['waktu_pembelian'], format=\"mixed\")"
   ]
  },
  {
   "cell_type": "code",
   "execution_count": 236,
   "metadata": {},
   "outputs": [
    {
     "name": "stdout",
     "output_type": "stream",
     "text": [
      "<class 'pandas.core.frame.DataFrame'>\n",
      "RangeIndex: 151112 entries, 0 to 151111\n",
      "Data columns (total 10 columns):\n",
      " #   Column                  Non-Null Count   Dtype         \n",
      "---  ------                  --------------   -----         \n",
      " 0   id_pengguna             151112 non-null  int64         \n",
      " 1   waktu_pendaftaran_akun  151112 non-null  datetime64[ns]\n",
      " 2   waktu_pembelian         151112 non-null  datetime64[ns]\n",
      " 3   total_harga_pembelian   151112 non-null  int64         \n",
      " 4   id_perangkat            151112 non-null  object        \n",
      " 5   sumber                  151112 non-null  object        \n",
      " 6   browser                 151112 non-null  object        \n",
      " 7   gender                  151112 non-null  object        \n",
      " 8   umur                    151112 non-null  int64         \n",
      " 9   alamat_IP               151112 non-null  int64         \n",
      "dtypes: datetime64[ns](2), int64(4), object(4)\n",
      "memory usage: 11.5+ MB\n"
     ]
    }
   ],
   "source": [
    "data.info()"
   ]
  },
  {
   "cell_type": "markdown",
   "metadata": {},
   "source": [
    "## **Feature Engineering**"
   ]
  },
  {
   "cell_type": "markdown",
   "metadata": {},
   "source": [
    "Dengan menggabungkan informasi dalam dataset `ip_address_mapping` dan dataset `train`/`test`, kita dapat mengetahui negara untuk setiap transaksi."
   ]
  },
  {
   "cell_type": "code",
   "execution_count": 237,
   "metadata": {},
   "outputs": [],
   "source": [
    "def map_ip_to_country(ip):\n",
    "    country = mapping[(ip >= mapping['batas_bawah_alamat_IP']) & (ip <= mapping['batas_atas_alamat_IP'])]['negara'].values\n",
    "    return country[0] if len(country) > 0 else None\n",
    "\n",
    "data['negara'] = data['alamat_IP'].apply(map_ip_to_country)"
   ]
  },
  {
   "cell_type": "code",
   "execution_count": 238,
   "metadata": {},
   "outputs": [
    {
     "data": {
      "text/plain": [
       "21966"
      ]
     },
     "execution_count": 238,
     "metadata": {},
     "output_type": "execute_result"
    }
   ],
   "source": [
    "data['negara'].isnull().sum()"
   ]
  },
  {
   "cell_type": "markdown",
   "metadata": {},
   "source": [
    "Beberapa nilai yang hilang untuk kolom negara akan tetap diisi dengan nilai 'none' karena tidak ada informasi yang tersedia untuk menggantikannya."
   ]
  },
  {
   "cell_type": "code",
   "execution_count": 239,
   "metadata": {},
   "outputs": [],
   "source": [
    "data['negara'] = data['negara'].fillna('None')"
   ]
  },
  {
   "cell_type": "markdown",
   "metadata": {},
   "source": [
    "Kita juga dapat menghitung selisih waktu antara transaksi dan waktu ketika akun dibuat."
   ]
  },
  {
   "cell_type": "code",
   "execution_count": 240,
   "metadata": {},
   "outputs": [
    {
     "name": "stdout",
     "output_type": "stream",
     "text": [
      "  delta_daftar_beli\n",
      "0 112 days 03:34:00\n",
      "1 117 days 22:52:00\n",
      "2  75 days 12:46:00\n",
      "3  19 days 21:00:00\n",
      "4  42 days 13:47:00\n",
      "timedelta64[ns]\n"
     ]
    }
   ],
   "source": [
    "data['delta_daftar_beli'] = data['waktu_pembelian'] - data['waktu_pendaftaran_akun']\n",
    "print(data[['delta_daftar_beli']].head())\n",
    "print(data['delta_daftar_beli'].dtypes)"
   ]
  },
  {
   "cell_type": "markdown",
   "metadata": {},
   "source": [
    "kita juga dapat menambahkan fungsi `extract_cyclic_features` yang digunakan untuk mengekstrak fitur siklus waktu dari sebuah seri `timedelta`. Fungsi ini mengubah perbedaan waktu (timedelta) menjadi representasi siklus menggunakan transformasi sine dan cosine, sehingga pola waktu periodik dapat teridentifikasi dengan lebih baik."
   ]
  },
  {
   "cell_type": "code",
   "execution_count": 241,
   "metadata": {},
   "outputs": [],
   "source": [
    "def extract_cyclic_features(timedelta_series, period='year'):\n",
    "    if period == 'year':\n",
    "        total_seconds_in_period = 365.25 * 24 * 60 * 60 \n",
    "    elif period == 'month':\n",
    "        total_seconds_in_period = 30.44 * 24 * 60 * 60 \n",
    "    elif period == 'day':\n",
    "        total_seconds_in_period = 24 * 60 * 60\n",
    "    else:\n",
    "        raise ValueError(\"Period must be 'year', 'month', or 'day'\")\n",
    "    total_seconds = timedelta_series.dt.total_seconds()\n",
    "    normalized_time = total_seconds / total_seconds_in_period\n",
    "\n",
    "    sin_time = np.sin(2 * np.pi * normalized_time)\n",
    "    cos_time = np.cos(2 * np.pi * normalized_time)\n",
    "\n",
    "    return sin_time, cos_time\n",
    "    \n",
    "data['sin_time_delta_year'], data['cos_time_delta_year'] = extract_cyclic_features(data['delta_daftar_beli'], period='year')\n",
    "data['sin_time_delta_month'], data['cos_time_delta_month'] = extract_cyclic_features(data['delta_daftar_beli'], period='month')\n",
    "data['sin_time_delta_day'], data['cos_time_delta_day'] = extract_cyclic_features(data['delta_daftar_beli'], period='day')\n"
   ]
  },
  {
   "cell_type": "code",
   "execution_count": 242,
   "metadata": {},
   "outputs": [],
   "source": [
    "data['delta_daftar_beli'] = data['delta_daftar_beli'].dt.total_seconds() # convert timedelta to seconds"
   ]
  },
  {
   "cell_type": "markdown",
   "metadata": {},
   "source": [
    "Sekarang kita memisahkan tahun, bulan, hari, jam, menit, dan detik dari kolom datetime untuk menghasilkan lebih banyak fitur numerik yang mungkin membantu dalam mengklasifikasikan transaksi penipuan."
   ]
  },
  {
   "cell_type": "code",
   "execution_count": 243,
   "metadata": {},
   "outputs": [],
   "source": [
    "def split_datetime_features(df, datetime_cols):\n",
    "    for col in datetime_cols:\n",
    "        df[f'{col}_hour'] = df[col].dt.hour\n",
    "        df[f'{col}_day'] = df[col].dt.day\n",
    "        df[f'{col}_month'] = df[col].dt.month\n",
    "\n",
    "datetime_columns = ['waktu_pendaftaran_akun', 'waktu_pembelian']\n",
    "split_datetime_features(data, datetime_columns)\n"
   ]
  },
  {
   "cell_type": "markdown",
   "metadata": {},
   "source": [
    "Untuk menangkap pola periodik pada fitur waktu yang bukan bertipe `timedelta`, kita juga dapat menerapkan transformasi siklus menggunakan fungsi sinus dan kosinus. Transformasi ini membantu model memahami sifat periodik dari waktu seperti jam dan hari."
   ]
  },
  {
   "cell_type": "code",
   "execution_count": 244,
   "metadata": {},
   "outputs": [],
   "source": [
    "def extract_cyclic_features2(data, column, max_val):\n",
    "    sin_col = np.sin(2 * np.pi * data[column] / max_val)\n",
    "    cos_col = np.cos(2 * np.pi * data[column] / max_val)\n",
    "    return sin_col, cos_col\n",
    "\n",
    "data['sin_hour_daftar'], data['cos_hour_daftar'] = extract_cyclic_features2(data, 'waktu_pendaftaran_akun_hour', 24)\n",
    "data['sin_hour_beli'], data['cos_hour_beli'] = extract_cyclic_features2(data, 'waktu_pembelian_hour', 24)\n",
    "data['sin_day_daftar'], data['cos_day_daftar'] = extract_cyclic_features2(data, 'waktu_pendaftaran_akun_day', 31)\n",
    "data['sin_day_beli'], data['cos_day_beli'] = extract_cyclic_features2(data, 'waktu_pembelian_day', 31)\n"
   ]
  },
  {
   "cell_type": "markdown",
   "metadata": {},
   "source": [
    "Selanjutnya, kita juga dapat menghitung duplikasi `id_perangkat` untuk setiap `id_pengguna` karena kemungkinan bahwa satu `id_pengguna` dapat memiliki banyak `id_perangkat`."
   ]
  },
  {
   "cell_type": "code",
   "execution_count": 245,
   "metadata": {},
   "outputs": [],
   "source": [
    "perangkat_counts = data['id_perangkat'].value_counts()\n",
    "data['jumlah_perangkat'] = data['id_perangkat'].map(perangkat_counts)\n"
   ]
  },
  {
   "cell_type": "markdown",
   "metadata": {},
   "source": [
    "Selain itu, kita juga bisa menghitung total harga keseluruhan perangkat, yaitu nilai sebenarnya dari total harga pembelian perangkat tersebut dengan `user_id` tertentu."
   ]
  },
  {
   "cell_type": "code",
   "execution_count": 246,
   "metadata": {},
   "outputs": [],
   "source": [
    "data['grand_total_harga_per_perangkat'] = data['total_harga_pembelian'] * data['jumlah_perangkat']"
   ]
  },
  {
   "cell_type": "markdown",
   "metadata": {},
   "source": [
    "Selanjutnya, kita akan menganalisis variabel `umur` untuk menentukan apakah lebih baik mengkategorikannya (discretize) atau membiarkannya sebagai variabel kontinu. Ini penting karena pengkategorian dapat membantu mengurangi noise dalam data."
   ]
  },
  {
   "cell_type": "code",
   "execution_count": 247,
   "metadata": {},
   "outputs": [],
   "source": [
    "disc = KBinsDiscretizer(n_bins=5, encode='ordinal', strategy='quantile')\n",
    "data['class_umur'] = disc.fit_transform(data['umur'].values.reshape(-1, 1))"
   ]
  },
  {
   "cell_type": "markdown",
   "metadata": {},
   "source": [
    "Sebelumnya, kita belum melakukan analisis tentang sebaran negara dalam data tersebut. Oleh karena itu, langkah berikutnya adalah untuk melakukan analisis tersebut terlebih dahulu."
   ]
  },
  {
   "cell_type": "code",
   "execution_count": 248,
   "metadata": {},
   "outputs": [
    {
     "data": {
      "image/png": "[encoded data removed]",
      "text/plain": [
       "<Figure size 1600x800 with 1 Axes>"
      ]
     },
     "metadata": {},
     "output_type": "display_data"
    }
   ],
   "source": [
    "country_counts = data['negara'].value_counts().sort_values(ascending=False)\n",
    "top_countries = country_counts.head(20)\n",
    "\n",
    "plt.figure(figsize=(16, 8))\n",
    "plot = sns.countplot(x='negara', data=data, order=top_countries.index, palette='Set2')\n",
    "\n",
    "for p in plot.patches:\n",
    "    plot.annotate(format(p.get_height(), '.0f'), \n",
    "                  (p.get_x() + p.get_width() / 2., p.get_height()), \n",
    "                  ha = 'center', va = 'center', \n",
    "                  xytext = (0, 9), \n",
    "                  textcoords = 'offset points')\n",
    "\n",
    "plt.title('Top 20 Countries')\n",
    "plt.xticks(rotation=90)\n",
    "plt.show()\n"
   ]
  },
  {
   "cell_type": "markdown",
   "metadata": {},
   "source": [
    "Karena distribusinya tidak seimbang, kita dapat mengelompokkannya menjadi hanya 3 kategori: `United States`, `None`, dan mengubah negara lainnya menjadi `Others`. ini dilakukan untuk mereduksi `noise` yang ada pada data."
   ]
  },
  {
   "cell_type": "code",
   "execution_count": 249,
   "metadata": {},
   "outputs": [],
   "source": [
    "data['negara'] = data['negara'].apply(lambda x: 'Others' if x not in ['None', 'United States'] else x)"
   ]
  },
  {
   "cell_type": "markdown",
   "metadata": {},
   "source": [
    "## **Categorical Encoding**"
   ]
  },
  {
   "cell_type": "code",
   "execution_count": 250,
   "metadata": {},
   "outputs": [],
   "source": [
    "# from sklearn.preprocessing import OneHotEncoder\n",
    "# import pandas as pd\n",
    "\n",
    "# encoder = OneHotEncoder(sparse_output=False)\n",
    "\n",
    "# def categoricalEncoder(category, data):\n",
    "#     encoder.fit(data[[category]])\n",
    "#     encoded_category = pd.DataFrame(encoder.transform(data[[category]]), columns=encoder.get_feature_names_out([category]))\n",
    "   \n",
    "#     data = pd.concat([data.drop(category, axis=1), encoded_category], axis=1)\n",
    "#     return data\n",
    "\n",
    "# for category in ['sumber', 'browser', 'gender', 'negara', 'day_night_daftar', 'day_night_beli']:\n",
    "#     data = categoricalEncoder(category, data)"
   ]
  },
  {
   "cell_type": "code",
   "execution_count": 251,
   "metadata": {},
   "outputs": [],
   "source": [
    "from sklearn.preprocessing import LabelEncoder\n",
    "import pandas as pd\n",
    "\n",
    "def categoricalEncoder(category, data):\n",
    "    encoder = LabelEncoder()\n",
    "    data[category] = encoder.fit_transform(data[category])\n",
    "    return data\n",
    "\n",
    "categories = ['sumber', 'browser', 'gender', 'negara']\n",
    "\n",
    "for category in categories:\n",
    "    data = categoricalEncoder(category, data)\n"
   ]
  },
  {
   "cell_type": "code",
   "execution_count": 252,
   "metadata": {},
   "outputs": [],
   "source": [
    "train = pd.concat([data[data['id_pengguna'].isin(train['id_pengguna'])], train['fraud']], axis=1)\n",
    "test = data[data['id_pengguna'].isin(test['id_pengguna'])]"
   ]
  },
  {
   "cell_type": "code",
   "execution_count": 253,
   "metadata": {},
   "outputs": [
    {
     "data": {
      "text/html": [
       "<div>\n",
       "<style scoped>\n",
       "    .dataframe tbody tr th:only-of-type {\n",
       "        vertical-align: middle;\n",
       "    }\n",
       "\n",
       "    .dataframe tbody tr th {\n",
       "        vertical-align: top;\n",
       "    }\n",
       "\n",
       "    .dataframe thead th {\n",
       "        text-align: right;\n",
       "    }\n",
       "</style>\n",
       "<table border=\"1\" class=\"dataframe\">\n",
       "  <thead>\n",
       "    <tr style=\"text-align: right;\">\n",
       "      <th></th>\n",
       "      <th>id_pengguna</th>\n",
       "      <th>waktu_pendaftaran_akun</th>\n",
       "      <th>waktu_pembelian</th>\n",
       "      <th>total_harga_pembelian</th>\n",
       "      <th>id_perangkat</th>\n",
       "      <th>sumber</th>\n",
       "      <th>browser</th>\n",
       "      <th>gender</th>\n",
       "      <th>umur</th>\n",
       "      <th>alamat_IP</th>\n",
       "      <th>...</th>\n",
       "      <th>sin_hour_beli</th>\n",
       "      <th>cos_hour_beli</th>\n",
       "      <th>sin_day_daftar</th>\n",
       "      <th>cos_day_daftar</th>\n",
       "      <th>sin_day_beli</th>\n",
       "      <th>cos_day_beli</th>\n",
       "      <th>jumlah_perangkat</th>\n",
       "      <th>grand_total_harga_per_perangkat</th>\n",
       "      <th>class_umur</th>\n",
       "      <th>fraud</th>\n",
       "    </tr>\n",
       "  </thead>\n",
       "  <tbody>\n",
       "    <tr>\n",
       "      <th>0</th>\n",
       "      <td>286873</td>\n",
       "      <td>2015-06-07 12:58:00</td>\n",
       "      <td>2015-09-27 16:32:00</td>\n",
       "      <td>14</td>\n",
       "      <td>DNTIEECGGDXHF</td>\n",
       "      <td>0</td>\n",
       "      <td>3</td>\n",
       "      <td>0</td>\n",
       "      <td>38</td>\n",
       "      <td>241720722</td>\n",
       "      <td>...</td>\n",
       "      <td>-0.866025</td>\n",
       "      <td>-5.000000e-01</td>\n",
       "      <td>0.988468</td>\n",
       "      <td>0.151428</td>\n",
       "      <td>-0.724793</td>\n",
       "      <td>0.688967</td>\n",
       "      <td>1</td>\n",
       "      <td>14</td>\n",
       "      <td>3.0</td>\n",
       "      <td>0</td>\n",
       "    </tr>\n",
       "    <tr>\n",
       "      <th>1</th>\n",
       "      <td>244392</td>\n",
       "      <td>2015-05-01 15:29:00</td>\n",
       "      <td>2015-08-27 14:21:00</td>\n",
       "      <td>11</td>\n",
       "      <td>MECRFNJGDPGOB</td>\n",
       "      <td>2</td>\n",
       "      <td>0</td>\n",
       "      <td>1</td>\n",
       "      <td>36</td>\n",
       "      <td>4172794236</td>\n",
       "      <td>...</td>\n",
       "      <td>-0.500000</td>\n",
       "      <td>-8.660254e-01</td>\n",
       "      <td>0.201299</td>\n",
       "      <td>0.979530</td>\n",
       "      <td>-0.724793</td>\n",
       "      <td>0.688967</td>\n",
       "      <td>1</td>\n",
       "      <td>11</td>\n",
       "      <td>3.0</td>\n",
       "      <td>0</td>\n",
       "    </tr>\n",
       "    <tr>\n",
       "      <th>2</th>\n",
       "      <td>20720</td>\n",
       "      <td>2015-03-29 18:04:00</td>\n",
       "      <td>2015-06-13 06:50:00</td>\n",
       "      <td>52</td>\n",
       "      <td>WLTSYVLLASJOZ</td>\n",
       "      <td>2</td>\n",
       "      <td>2</td>\n",
       "      <td>1</td>\n",
       "      <td>26</td>\n",
       "      <td>1113432879</td>\n",
       "      <td>...</td>\n",
       "      <td>1.000000</td>\n",
       "      <td>6.123234e-17</td>\n",
       "      <td>-0.394356</td>\n",
       "      <td>0.918958</td>\n",
       "      <td>0.485302</td>\n",
       "      <td>-0.874347</td>\n",
       "      <td>2</td>\n",
       "      <td>104</td>\n",
       "      <td>1.0</td>\n",
       "      <td>0</td>\n",
       "    </tr>\n",
       "    <tr>\n",
       "      <th>3</th>\n",
       "      <td>198755</td>\n",
       "      <td>2015-01-29 00:49:00</td>\n",
       "      <td>2015-02-17 21:49:00</td>\n",
       "      <td>13</td>\n",
       "      <td>TWGNWOWURZFMY</td>\n",
       "      <td>2</td>\n",
       "      <td>4</td>\n",
       "      <td>0</td>\n",
       "      <td>38</td>\n",
       "      <td>1339308896</td>\n",
       "      <td>...</td>\n",
       "      <td>-0.707107</td>\n",
       "      <td>7.071068e-01</td>\n",
       "      <td>-0.394356</td>\n",
       "      <td>0.918958</td>\n",
       "      <td>-0.299363</td>\n",
       "      <td>-0.954139</td>\n",
       "      <td>1</td>\n",
       "      <td>13</td>\n",
       "      <td>3.0</td>\n",
       "      <td>0</td>\n",
       "    </tr>\n",
       "    <tr>\n",
       "      <th>4</th>\n",
       "      <td>64996</td>\n",
       "      <td>2015-01-17 19:30:00</td>\n",
       "      <td>2015-03-01 09:17:00</td>\n",
       "      <td>23</td>\n",
       "      <td>XMQENRCEILYAJ</td>\n",
       "      <td>1</td>\n",
       "      <td>4</td>\n",
       "      <td>0</td>\n",
       "      <td>19</td>\n",
       "      <td>460238214</td>\n",
       "      <td>...</td>\n",
       "      <td>0.707107</td>\n",
       "      <td>-7.071068e-01</td>\n",
       "      <td>-0.299363</td>\n",
       "      <td>-0.954139</td>\n",
       "      <td>0.201299</td>\n",
       "      <td>0.979530</td>\n",
       "      <td>1</td>\n",
       "      <td>23</td>\n",
       "      <td>0.0</td>\n",
       "      <td>0</td>\n",
       "    </tr>\n",
       "  </tbody>\n",
       "</table>\n",
       "<p>5 rows × 36 columns</p>\n",
       "</div>"
      ],
      "text/plain": [
       "   id_pengguna waktu_pendaftaran_akun     waktu_pembelian  \\\n",
       "0       286873    2015-06-07 12:58:00 2015-09-27 16:32:00   \n",
       "1       244392    2015-05-01 15:29:00 2015-08-27 14:21:00   \n",
       "2        20720    2015-03-29 18:04:00 2015-06-13 06:50:00   \n",
       "3       198755    2015-01-29 00:49:00 2015-02-17 21:49:00   \n",
       "4        64996    2015-01-17 19:30:00 2015-03-01 09:17:00   \n",
       "\n",
       "   total_harga_pembelian   id_perangkat  sumber  browser  gender  umur  \\\n",
       "0                     14  DNTIEECGGDXHF       0        3       0    38   \n",
       "1                     11  MECRFNJGDPGOB       2        0       1    36   \n",
       "2                     52  WLTSYVLLASJOZ       2        2       1    26   \n",
       "3                     13  TWGNWOWURZFMY       2        4       0    38   \n",
       "4                     23  XMQENRCEILYAJ       1        4       0    19   \n",
       "\n",
       "    alamat_IP  ...  sin_hour_beli  cos_hour_beli  sin_day_daftar  \\\n",
       "0   241720722  ...      -0.866025  -5.000000e-01        0.988468   \n",
       "1  4172794236  ...      -0.500000  -8.660254e-01        0.201299   \n",
       "2  1113432879  ...       1.000000   6.123234e-17       -0.394356   \n",
       "3  1339308896  ...      -0.707107   7.071068e-01       -0.394356   \n",
       "4   460238214  ...       0.707107  -7.071068e-01       -0.299363   \n",
       "\n",
       "   cos_day_daftar  sin_day_beli  cos_day_beli  jumlah_perangkat  \\\n",
       "0        0.151428     -0.724793      0.688967                 1   \n",
       "1        0.979530     -0.724793      0.688967                 1   \n",
       "2        0.918958      0.485302     -0.874347                 2   \n",
       "3        0.918958     -0.299363     -0.954139                 1   \n",
       "4       -0.954139      0.201299      0.979530                 1   \n",
       "\n",
       "   grand_total_harga_per_perangkat  class_umur  fraud  \n",
       "0                               14         3.0      0  \n",
       "1                               11         3.0      0  \n",
       "2                              104         1.0      0  \n",
       "3                               13         3.0      0  \n",
       "4                               23         0.0      0  \n",
       "\n",
       "[5 rows x 36 columns]"
      ]
     },
     "execution_count": 253,
     "metadata": {},
     "output_type": "execute_result"
    }
   ],
   "source": [
    "train.reset_index(drop=True, inplace=True)\n",
    "train.head()"
   ]
  },
  {
   "cell_type": "code",
   "execution_count": 254,
   "metadata": {},
   "outputs": [
    {
     "data": {
      "text/html": [
       "<div>\n",
       "<style scoped>\n",
       "    .dataframe tbody tr th:only-of-type {\n",
       "        vertical-align: middle;\n",
       "    }\n",
       "\n",
       "    .dataframe tbody tr th {\n",
       "        vertical-align: top;\n",
       "    }\n",
       "\n",
       "    .dataframe thead th {\n",
       "        text-align: right;\n",
       "    }\n",
       "</style>\n",
       "<table border=\"1\" class=\"dataframe\">\n",
       "  <thead>\n",
       "    <tr style=\"text-align: right;\">\n",
       "      <th></th>\n",
       "      <th>id_pengguna</th>\n",
       "      <th>waktu_pendaftaran_akun</th>\n",
       "      <th>waktu_pembelian</th>\n",
       "      <th>total_harga_pembelian</th>\n",
       "      <th>id_perangkat</th>\n",
       "      <th>sumber</th>\n",
       "      <th>browser</th>\n",
       "      <th>gender</th>\n",
       "      <th>umur</th>\n",
       "      <th>alamat_IP</th>\n",
       "      <th>...</th>\n",
       "      <th>cos_hour_daftar</th>\n",
       "      <th>sin_hour_beli</th>\n",
       "      <th>cos_hour_beli</th>\n",
       "      <th>sin_day_daftar</th>\n",
       "      <th>cos_day_daftar</th>\n",
       "      <th>sin_day_beli</th>\n",
       "      <th>cos_day_beli</th>\n",
       "      <th>jumlah_perangkat</th>\n",
       "      <th>grand_total_harga_per_perangkat</th>\n",
       "      <th>class_umur</th>\n",
       "    </tr>\n",
       "  </thead>\n",
       "  <tbody>\n",
       "    <tr>\n",
       "      <th>0</th>\n",
       "      <td>28006</td>\n",
       "      <td>2015-06-26 13:27:55</td>\n",
       "      <td>2015-07-13 02:46:13</td>\n",
       "      <td>48</td>\n",
       "      <td>IVHYUSXPDUJUD</td>\n",
       "      <td>2</td>\n",
       "      <td>0</td>\n",
       "      <td>1</td>\n",
       "      <td>31</td>\n",
       "      <td>4268419106</td>\n",
       "      <td>...</td>\n",
       "      <td>-0.965926</td>\n",
       "      <td>0.500000</td>\n",
       "      <td>8.660254e-01</td>\n",
       "      <td>-0.848644</td>\n",
       "      <td>0.528964</td>\n",
       "      <td>0.485302</td>\n",
       "      <td>-0.874347</td>\n",
       "      <td>1</td>\n",
       "      <td>48</td>\n",
       "      <td>2.0</td>\n",
       "    </tr>\n",
       "    <tr>\n",
       "      <th>1</th>\n",
       "      <td>245189</td>\n",
       "      <td>2015-06-23 15:48:00</td>\n",
       "      <td>2015-09-16 07:26:25</td>\n",
       "      <td>46</td>\n",
       "      <td>UJURCZHQSNBQA</td>\n",
       "      <td>2</td>\n",
       "      <td>1</td>\n",
       "      <td>1</td>\n",
       "      <td>34</td>\n",
       "      <td>4277726296</td>\n",
       "      <td>...</td>\n",
       "      <td>-0.707107</td>\n",
       "      <td>0.965926</td>\n",
       "      <td>-2.588190e-01</td>\n",
       "      <td>-0.998717</td>\n",
       "      <td>-0.050649</td>\n",
       "      <td>-0.101168</td>\n",
       "      <td>-0.994869</td>\n",
       "      <td>1</td>\n",
       "      <td>46</td>\n",
       "      <td>2.0</td>\n",
       "    </tr>\n",
       "    <tr>\n",
       "      <th>2</th>\n",
       "      <td>58345</td>\n",
       "      <td>2015-06-18 04:14:35</td>\n",
       "      <td>2015-09-21 22:24:59</td>\n",
       "      <td>30</td>\n",
       "      <td>PVWDQUCMMBJXJ</td>\n",
       "      <td>0</td>\n",
       "      <td>1</td>\n",
       "      <td>0</td>\n",
       "      <td>20</td>\n",
       "      <td>1235071330</td>\n",
       "      <td>...</td>\n",
       "      <td>0.500000</td>\n",
       "      <td>-0.500000</td>\n",
       "      <td>8.660254e-01</td>\n",
       "      <td>-0.485302</td>\n",
       "      <td>-0.874347</td>\n",
       "      <td>-0.897805</td>\n",
       "      <td>-0.440394</td>\n",
       "      <td>1</td>\n",
       "      <td>30</td>\n",
       "      <td>0.0</td>\n",
       "    </tr>\n",
       "    <tr>\n",
       "      <th>3</th>\n",
       "      <td>218574</td>\n",
       "      <td>2015-05-19 14:55:18</td>\n",
       "      <td>2015-08-21 00:44:36</td>\n",
       "      <td>29</td>\n",
       "      <td>PMSPHBOFWBTRC</td>\n",
       "      <td>1</td>\n",
       "      <td>4</td>\n",
       "      <td>1</td>\n",
       "      <td>25</td>\n",
       "      <td>2496395805</td>\n",
       "      <td>...</td>\n",
       "      <td>-0.866025</td>\n",
       "      <td>0.000000</td>\n",
       "      <td>1.000000e+00</td>\n",
       "      <td>-0.651372</td>\n",
       "      <td>-0.758758</td>\n",
       "      <td>-0.897805</td>\n",
       "      <td>-0.440394</td>\n",
       "      <td>1</td>\n",
       "      <td>29</td>\n",
       "      <td>1.0</td>\n",
       "    </tr>\n",
       "    <tr>\n",
       "      <th>4</th>\n",
       "      <td>49779</td>\n",
       "      <td>2015-04-02 23:35:29</td>\n",
       "      <td>2015-07-08 06:24:47</td>\n",
       "      <td>19</td>\n",
       "      <td>NFGHLAQQPTLVY</td>\n",
       "      <td>0</td>\n",
       "      <td>0</td>\n",
       "      <td>1</td>\n",
       "      <td>38</td>\n",
       "      <td>2701254204</td>\n",
       "      <td>...</td>\n",
       "      <td>0.965926</td>\n",
       "      <td>1.000000</td>\n",
       "      <td>6.123234e-17</td>\n",
       "      <td>0.394356</td>\n",
       "      <td>0.918958</td>\n",
       "      <td>0.998717</td>\n",
       "      <td>-0.050649</td>\n",
       "      <td>1</td>\n",
       "      <td>19</td>\n",
       "      <td>3.0</td>\n",
       "    </tr>\n",
       "  </tbody>\n",
       "</table>\n",
       "<p>5 rows × 35 columns</p>\n",
       "</div>"
      ],
      "text/plain": [
       "   id_pengguna waktu_pendaftaran_akun     waktu_pembelian  \\\n",
       "0        28006    2015-06-26 13:27:55 2015-07-13 02:46:13   \n",
       "1       245189    2015-06-23 15:48:00 2015-09-16 07:26:25   \n",
       "2        58345    2015-06-18 04:14:35 2015-09-21 22:24:59   \n",
       "3       218574    2015-05-19 14:55:18 2015-08-21 00:44:36   \n",
       "4        49779    2015-04-02 23:35:29 2015-07-08 06:24:47   \n",
       "\n",
       "   total_harga_pembelian   id_perangkat  sumber  browser  gender  umur  \\\n",
       "0                     48  IVHYUSXPDUJUD       2        0       1    31   \n",
       "1                     46  UJURCZHQSNBQA       2        1       1    34   \n",
       "2                     30  PVWDQUCMMBJXJ       0        1       0    20   \n",
       "3                     29  PMSPHBOFWBTRC       1        4       1    25   \n",
       "4                     19  NFGHLAQQPTLVY       0        0       1    38   \n",
       "\n",
       "    alamat_IP  ...  cos_hour_daftar  sin_hour_beli  cos_hour_beli  \\\n",
       "0  4268419106  ...        -0.965926       0.500000   8.660254e-01   \n",
       "1  4277726296  ...        -0.707107       0.965926  -2.588190e-01   \n",
       "2  1235071330  ...         0.500000      -0.500000   8.660254e-01   \n",
       "3  2496395805  ...        -0.866025       0.000000   1.000000e+00   \n",
       "4  2701254204  ...         0.965926       1.000000   6.123234e-17   \n",
       "\n",
       "   sin_day_daftar  cos_day_daftar  sin_day_beli  cos_day_beli  \\\n",
       "0       -0.848644        0.528964      0.485302     -0.874347   \n",
       "1       -0.998717       -0.050649     -0.101168     -0.994869   \n",
       "2       -0.485302       -0.874347     -0.897805     -0.440394   \n",
       "3       -0.651372       -0.758758     -0.897805     -0.440394   \n",
       "4        0.394356        0.918958      0.998717     -0.050649   \n",
       "\n",
       "   jumlah_perangkat  grand_total_harga_per_perangkat  class_umur  \n",
       "0                 1                               48         2.0  \n",
       "1                 1                               46         2.0  \n",
       "2                 1                               30         0.0  \n",
       "3                 1                               29         1.0  \n",
       "4                 1                               19         3.0  \n",
       "\n",
       "[5 rows x 35 columns]"
      ]
     },
     "execution_count": 254,
     "metadata": {},
     "output_type": "execute_result"
    }
   ],
   "source": [
    "test.reset_index(drop=True, inplace=True)\n",
    "test.head()"
   ]
  },
  {
   "cell_type": "markdown",
   "metadata": {},
   "source": [
    "## **Modelling**"
   ]
  },
  {
   "cell_type": "code",
   "execution_count": 255,
   "metadata": {},
   "outputs": [],
   "source": [
    "train.drop(columns=['id_pengguna','waktu_pendaftaran_akun','waktu_pembelian', 'id_perangkat' , 'alamat_IP'], inplace=True)"
   ]
  },
  {
   "cell_type": "code",
   "execution_count": 256,
   "metadata": {},
   "outputs": [
    {
     "name": "stdout",
     "output_type": "stream",
     "text": [
      "<class 'pandas.core.frame.DataFrame'>\n",
      "RangeIndex: 75556 entries, 0 to 75555\n",
      "Data columns (total 31 columns):\n",
      " #   Column                           Non-Null Count  Dtype  \n",
      "---  ------                           --------------  -----  \n",
      " 0   total_harga_pembelian            75556 non-null  int64  \n",
      " 1   sumber                           75556 non-null  int64  \n",
      " 2   browser                          75556 non-null  int64  \n",
      " 3   gender                           75556 non-null  int64  \n",
      " 4   umur                             75556 non-null  int64  \n",
      " 5   negara                           75556 non-null  int64  \n",
      " 6   delta_daftar_beli                75556 non-null  float64\n",
      " 7   sin_time_delta_year              75556 non-null  float64\n",
      " 8   cos_time_delta_year              75556 non-null  float64\n",
      " 9   sin_time_delta_month             75556 non-null  float64\n",
      " 10  cos_time_delta_month             75556 non-null  float64\n",
      " 11  sin_time_delta_day               75556 non-null  float64\n",
      " 12  cos_time_delta_day               75556 non-null  float64\n",
      " 13  waktu_pendaftaran_akun_hour      75556 non-null  int32  \n",
      " 14  waktu_pendaftaran_akun_day       75556 non-null  int32  \n",
      " 15  waktu_pendaftaran_akun_month     75556 non-null  int32  \n",
      " 16  waktu_pembelian_hour             75556 non-null  int32  \n",
      " 17  waktu_pembelian_day              75556 non-null  int32  \n",
      " 18  waktu_pembelian_month            75556 non-null  int32  \n",
      " 19  sin_hour_daftar                  75556 non-null  float64\n",
      " 20  cos_hour_daftar                  75556 non-null  float64\n",
      " 21  sin_hour_beli                    75556 non-null  float64\n",
      " 22  cos_hour_beli                    75556 non-null  float64\n",
      " 23  sin_day_daftar                   75556 non-null  float64\n",
      " 24  cos_day_daftar                   75556 non-null  float64\n",
      " 25  sin_day_beli                     75556 non-null  float64\n",
      " 26  cos_day_beli                     75556 non-null  float64\n",
      " 27  jumlah_perangkat                 75556 non-null  int64  \n",
      " 28  grand_total_harga_per_perangkat  75556 non-null  int64  \n",
      " 29  class_umur                       75556 non-null  float64\n",
      " 30  fraud                            75556 non-null  int64  \n",
      "dtypes: float64(16), int32(6), int64(9)\n",
      "memory usage: 16.1 MB\n"
     ]
    }
   ],
   "source": [
    "train.info()"
   ]
  },
  {
   "cell_type": "code",
   "execution_count": 257,
   "metadata": {},
   "outputs": [],
   "source": [
    "X = train.drop(columns=['fraud'], axis=1)\n",
    "y = train['fraud']"
   ]
  },
  {
   "cell_type": "markdown",
   "metadata": {},
   "source": [
    "`Undersampling` akan dilakukan karena sebelumnya telah dijelaskan bahwa data fraud tidak seimbang (0 dan 1 tidak seimbang). Oleh karena itu, data akan diresample. Selain itu, kita juga dapat menambahkan `Standard Scaler` untuk menormalkan nilai-nilai tersebut."
   ]
  },
  {
   "cell_type": "code",
   "execution_count": 258,
   "metadata": {},
   "outputs": [],
   "source": [
    "from imblearn.under_sampling import RandomUnderSampler\n",
    "smote = RandomUnderSampler(random_state=42)"
   ]
  },
  {
   "cell_type": "code",
   "execution_count": 259,
   "metadata": {},
   "outputs": [],
   "source": [
    "scaler = StandardScaler()\n",
    "X = scaler.fit_transform(X)"
   ]
  },
  {
   "cell_type": "markdown",
   "metadata": {},
   "source": [
    "\n",
    "Melakukan pembagian data menjadi `train` dan `test` set adalah langkah penting untuk menguji dan mengevaluasi kinerja model. Dengan membagi dataset, kita dapat melatih model menggunakan `train set` dan kemudian mengukur seberapa baik model tersebut bekerja pada data yang belum pernah dilihat sebelumnya, yaitu `test set`. Pendekatan ini membantu dalam memberikan gambaran yang lebih akurat tentang performa model dalam situasi nyata."
   ]
  },
  {
   "cell_type": "code",
   "execution_count": 260,
   "metadata": {},
   "outputs": [],
   "source": [
    "X_train, X_test, y_train, y_test = train_test_split(X, y, test_size=0.25, random_state=42, stratify=y)\n",
    "X_train , y_train = smote.fit_resample(X_train, y_train)"
   ]
  },
  {
   "cell_type": "code",
   "execution_count": 261,
   "metadata": {},
   "outputs": [
    {
     "name": "stdout",
     "output_type": "stream",
     "text": [
      "              precision    recall  f1-score   support\n",
      "\n",
      "           0       0.97      0.93      0.95     17383\n",
      "           1       0.48      0.72      0.57      1506\n",
      "\n",
      "    accuracy                           0.91     18889\n",
      "   macro avg       0.73      0.82      0.76     18889\n",
      "weighted avg       0.93      0.91      0.92     18889\n",
      "\n",
      "[[16203  1180]\n",
      " [  426  1080]]\n",
      "0.8246245301254855\n"
     ]
    }
   ],
   "source": [
    "model = CatBoostClassifier(random_state=42, verbose=0, learning_rate=0.01)\n",
    "model.fit(X_train,y_train)\n",
    "\n",
    "y_pred = model.predict(X_test)\n",
    "\n",
    "print(classification_report(y_test, y_pred))\n",
    "print(confusion_matrix(y_test, y_pred))\n",
    "print(balanced_accuracy_score(y_test, y_pred))\n"
   ]
  },
  {
   "cell_type": "code",
   "execution_count": 262,
   "metadata": {},
   "outputs": [
    {
     "data": {
      "image/png": "[encoded data removed]",
      "text/plain": [
       "<Figure size 1000x800 with 1 Axes>"
      ]
     },
     "metadata": {},
     "output_type": "display_data"
    }
   ],
   "source": [
    "fig, ax = plt.subplots(figsize=(10, 8))\n",
    "feature_importances = pd.DataFrame({'Feature': train.drop(columns=['fraud']).columns, 'Importance': model.feature_importances_})\n",
    "feature_importances = feature_importances.sort_values(by='Importance', ascending=False)\n",
    "feature_importances = feature_importances[feature_importances['Importance'] > 0]\n",
    "ax.barh(feature_importances['Feature'], feature_importances['Importance'], color=plt.cm.viridis(feature_importances['Importance']/max(feature_importances['Importance'])))\n",
    "ax.set_title('Feature Importances')\n",
    "ax.set_xlabel('Importance')\n",
    "ax.set_ylabel('Feature')\n",
    "plt.show()\n"
   ]
  },
  {
   "cell_type": "code",
   "execution_count": 263,
   "metadata": {},
   "outputs": [],
   "source": [
    "bes_feat = feature_importances[feature_importances['Importance'] > 0]['Feature'].values"
   ]
  },
  {
   "cell_type": "code",
   "execution_count": 264,
   "metadata": {},
   "outputs": [],
   "source": [
    "X = train[bes_feat[:10]]\n",
    "y = train['fraud']\n",
    "\n",
    "scaler = StandardScaler()\n",
    "X = scaler.fit_transform(X)\n",
    "\n",
    "X_train, X_test, y_train, y_test = train_test_split(X, y, test_size=0.25, random_state=42, stratify=y)\n",
    "X_train , y_train = smote.fit_resample(X_train, y_train)"
   ]
  },
  {
   "cell_type": "markdown",
   "metadata": {},
   "source": [
    "## **Hyperparameter Tuning (Optional)**"
   ]
  },
  {
   "cell_type": "code",
   "execution_count": 265,
   "metadata": {},
   "outputs": [
    {
     "name": "stderr",
     "output_type": "stream",
     "text": [
      "[I 2024-07-24 02:09:54,351] A new study created in memory with name: no-name-711bb7a3-04fc-4205-87d8-5ab682d0d413\n",
      "[I 2024-07-24 02:09:55,327] Trial 0 finished with value: 0.824522634690867 and parameters: {'iterations': 469, 'depth': 2, 'learning_rate': 0.08942408103891743, 'l2_leaf_reg': 3.1900766015582884e-05, 'border_count': 42, 'random_strength': 83, 'bagging_temperature': 0.3718465315647358}. Best is trial 0 with value: 0.824522634690867.\n"
     ]
    },
    {
     "name": "stdout",
     "output_type": "stream",
     "text": [
      "              precision    recall  f1-score   support\n",
      "\n",
      "           0       0.97      0.93      0.95     17383\n",
      "           1       0.48      0.72      0.57      1506\n",
      "\n",
      "    accuracy                           0.92     18889\n",
      "   macro avg       0.73      0.82      0.76     18889\n",
      "weighted avg       0.93      0.92      0.92     18889\n",
      "\n",
      "[[16211  1172]\n",
      " [  427  1079]]\n",
      "Balanced Accuracy Score: 0.824522634690867\n"
     ]
    },
    {
     "name": "stderr",
     "output_type": "stream",
     "text": [
      "[I 2024-07-24 02:09:56,887] Trial 1 finished with value: 0.8100627461963685 and parameters: {'iterations': 589, 'depth': 4, 'learning_rate': 0.0893053506066449, 'l2_leaf_reg': 3.7962598489374386e-05, 'border_count': 229, 'random_strength': 44, 'bagging_temperature': 2.577959195993151}. Best is trial 0 with value: 0.824522634690867.\n"
     ]
    },
    {
     "name": "stdout",
     "output_type": "stream",
     "text": [
      "              precision    recall  f1-score   support\n",
      "\n",
      "           0       0.97      0.91      0.94     17383\n",
      "           1       0.40      0.71      0.51      1506\n",
      "\n",
      "    accuracy                           0.89     18889\n",
      "   macro avg       0.69      0.81      0.73     18889\n",
      "weighted avg       0.93      0.89      0.90     18889\n",
      "\n",
      "[[15766  1617]\n",
      " [  432  1074]]\n",
      "Balanced Accuracy Score: 0.8100627461963685\n"
     ]
    },
    {
     "name": "stderr",
     "output_type": "stream",
     "text": [
      "[I 2024-07-24 02:10:01,716] Trial 2 finished with value: 0.7918650237493715 and parameters: {'iterations': 1964, 'depth': 5, 'learning_rate': 0.003961866572209462, 'l2_leaf_reg': 0.00088547003093494, 'border_count': 96, 'random_strength': 173, 'bagging_temperature': 3.2714592105246876}. Best is trial 0 with value: 0.824522634690867.\n"
     ]
    },
    {
     "name": "stdout",
     "output_type": "stream",
     "text": [
      "              precision    recall  f1-score   support\n",
      "\n",
      "           0       0.97      0.97      0.97     17383\n",
      "           1       0.62      0.62      0.62      1506\n",
      "\n",
      "    accuracy                           0.94     18889\n",
      "   macro avg       0.79      0.79      0.79     18889\n",
      "weighted avg       0.94      0.94      0.94     18889\n",
      "\n",
      "[[16807   576]\n",
      " [  577   929]]\n",
      "Balanced Accuracy Score: 0.7918650237493715\n"
     ]
    },
    {
     "name": "stderr",
     "output_type": "stream",
     "text": [
      "[I 2024-07-24 02:10:05,721] Trial 3 finished with value: 0.8236753268809363 and parameters: {'iterations': 2013, 'depth': 2, 'learning_rate': 0.020265928856016774, 'l2_leaf_reg': 3.732789346678185e-05, 'border_count': 141, 'random_strength': 109, 'bagging_temperature': 0.05035992987199177}. Best is trial 0 with value: 0.824522634690867.\n"
     ]
    },
    {
     "name": "stdout",
     "output_type": "stream",
     "text": [
      "              precision    recall  f1-score   support\n",
      "\n",
      "           0       0.97      0.93      0.95     17383\n",
      "           1       0.47      0.72      0.57      1506\n",
      "\n",
      "    accuracy                           0.91     18889\n",
      "   macro avg       0.72      0.82      0.76     18889\n",
      "weighted avg       0.93      0.91      0.92     18889\n",
      "\n",
      "[[16170  1213]\n",
      " [  426  1080]]\n",
      "Balanced Accuracy Score: 0.8236753268809363\n"
     ]
    },
    {
     "name": "stderr",
     "output_type": "stream",
     "text": [
      "[I 2024-07-24 02:10:12,977] Trial 4 finished with value: 0.822394118324302 and parameters: {'iterations': 2648, 'depth': 6, 'learning_rate': 0.008255755312255742, 'l2_leaf_reg': 0.0004666672713740711, 'border_count': 102, 'random_strength': 195, 'bagging_temperature': 1.870392294469093}. Best is trial 0 with value: 0.824522634690867.\n"
     ]
    },
    {
     "name": "stdout",
     "output_type": "stream",
     "text": [
      "              precision    recall  f1-score   support\n",
      "\n",
      "           0       0.97      0.93      0.95     17383\n",
      "           1       0.46      0.72      0.56      1506\n",
      "\n",
      "    accuracy                           0.91     18889\n",
      "   macro avg       0.72      0.82      0.76     18889\n",
      "weighted avg       0.93      0.91      0.92     18889\n",
      "\n",
      "[[16137  1246]\n",
      " [  427  1079]]\n",
      "Balanced Accuracy Score: 0.822394118324302\n"
     ]
    },
    {
     "name": "stderr",
     "output_type": "stream",
     "text": [
      "[I 2024-07-24 02:10:16,369] Trial 5 finished with value: 0.7823455263301241 and parameters: {'iterations': 931, 'depth': 7, 'learning_rate': 0.00011819382077096049, 'l2_leaf_reg': 0.021113910110761937, 'border_count': 193, 'random_strength': 15, 'bagging_temperature': 0.18815083472336927}. Best is trial 0 with value: 0.824522634690867.\n"
     ]
    },
    {
     "name": "stdout",
     "output_type": "stream",
     "text": [
      "              precision    recall  f1-score   support\n",
      "\n",
      "           0       0.96      0.98      0.97     17383\n",
      "           1       0.70      0.59      0.64      1506\n",
      "\n",
      "    accuracy                           0.95     18889\n",
      "   macro avg       0.83      0.78      0.81     18889\n",
      "weighted avg       0.94      0.95      0.94     18889\n",
      "\n",
      "[[17007   376]\n",
      " [  623   883]]\n",
      "Balanced Accuracy Score: 0.7823455263301241\n"
     ]
    },
    {
     "name": "stderr",
     "output_type": "stream",
     "text": [
      "[I 2024-07-24 02:10:22,047] Trial 6 finished with value: 0.7985222430762482 and parameters: {'iterations': 1428, 'depth': 7, 'learning_rate': 0.00754384829152276, 'l2_leaf_reg': 0.01240868644642662, 'border_count': 240, 'random_strength': 247, 'bagging_temperature': 11.835152401094312}. Best is trial 0 with value: 0.824522634690867.\n"
     ]
    },
    {
     "name": "stdout",
     "output_type": "stream",
     "text": [
      "              precision    recall  f1-score   support\n",
      "\n",
      "           0       0.97      0.96      0.96     17383\n",
      "           1       0.57      0.64      0.60      1506\n",
      "\n",
      "    accuracy                           0.93     18889\n",
      "   macro avg       0.77      0.80      0.78     18889\n",
      "weighted avg       0.94      0.93      0.93     18889\n",
      "\n",
      "[[16646   737]\n",
      " [  543   963]]\n",
      "Balanced Accuracy Score: 0.7985222430762482\n"
     ]
    },
    {
     "name": "stderr",
     "output_type": "stream",
     "text": [
      "[I 2024-07-24 02:10:25,684] Trial 7 finished with value: 0.7855560442461873 and parameters: {'iterations': 1275, 'depth': 5, 'learning_rate': 0.0924199502980563, 'l2_leaf_reg': 6.438001351303961e-05, 'border_count': 183, 'random_strength': 106, 'bagging_temperature': 0.13883601035178286}. Best is trial 0 with value: 0.824522634690867.\n"
     ]
    },
    {
     "name": "stdout",
     "output_type": "stream",
     "text": [
      "              precision    recall  f1-score   support\n",
      "\n",
      "           0       0.97      0.86      0.91     17383\n",
      "           1       0.30      0.71      0.43      1506\n",
      "\n",
      "    accuracy                           0.85     18889\n",
      "   macro avg       0.64      0.79      0.67     18889\n",
      "weighted avg       0.92      0.85      0.87     18889\n",
      "\n",
      "[[14914  2469]\n",
      " [  432  1074]]\n",
      "Balanced Accuracy Score: 0.7855560442461873\n"
     ]
    },
    {
     "name": "stderr",
     "output_type": "stream",
     "text": [
      "[I 2024-07-24 02:10:31,820] Trial 8 finished with value: 0.7890447261940751 and parameters: {'iterations': 2240, 'depth': 4, 'learning_rate': 0.08722740593405794, 'l2_leaf_reg': 0.0017773363765891908, 'border_count': 40, 'random_strength': 193, 'bagging_temperature': 0.3846642977329856}. Best is trial 0 with value: 0.824522634690867.\n"
     ]
    },
    {
     "name": "stdout",
     "output_type": "stream",
     "text": [
      "              precision    recall  f1-score   support\n",
      "\n",
      "           0       0.97      0.87      0.92     17383\n",
      "           1       0.32      0.71      0.44      1506\n",
      "\n",
      "    accuracy                           0.86     18889\n",
      "   macro avg       0.65      0.79      0.68     18889\n",
      "weighted avg       0.92      0.86      0.88     18889\n",
      "\n",
      "[[15093  2290]\n",
      " [  437  1069]]\n",
      "Balanced Accuracy Score: 0.7890447261940751\n"
     ]
    },
    {
     "name": "stderr",
     "output_type": "stream",
     "text": [
      "[I 2024-07-24 02:10:35,490] Trial 9 finished with value: 0.7699013338962315 and parameters: {'iterations': 1302, 'depth': 4, 'learning_rate': 0.0023949181445924823, 'l2_leaf_reg': 0.00010272508626281273, 'border_count': 203, 'random_strength': 174, 'bagging_temperature': 0.31772697459886173}. Best is trial 0 with value: 0.824522634690867.\n"
     ]
    },
    {
     "name": "stdout",
     "output_type": "stream",
     "text": [
      "              precision    recall  f1-score   support\n",
      "\n",
      "           0       0.96      0.99      0.98     17383\n",
      "           1       0.90      0.55      0.68      1506\n",
      "\n",
      "    accuracy                           0.96     18889\n",
      "   macro avg       0.93      0.77      0.83     18889\n",
      "weighted avg       0.96      0.96      0.95     18889\n",
      "\n",
      "[[17290    93]\n",
      " [  685   821]]\n",
      "Balanced Accuracy Score: 0.7699013338962315\n"
     ]
    },
    {
     "name": "stderr",
     "output_type": "stream",
     "text": [
      "[I 2024-07-24 02:10:36,572] Trial 10 finished with value: 0.7708037244490751 and parameters: {'iterations': 188, 'depth': 10, 'learning_rate': 0.0005441039822832978, 'l2_leaf_reg': 1.744166828712572e-05, 'border_count': 36, 'random_strength': 60, 'bagging_temperature': 74.28486053414588}. Best is trial 0 with value: 0.824522634690867.\n"
     ]
    },
    {
     "name": "stdout",
     "output_type": "stream",
     "text": [
      "              precision    recall  f1-score   support\n",
      "\n",
      "           0       0.96      1.00      0.98     17383\n",
      "           1       0.97      0.54      0.70      1506\n",
      "\n",
      "    accuracy                           0.96     18889\n",
      "   macro avg       0.96      0.77      0.84     18889\n",
      "weighted avg       0.96      0.96      0.96     18889\n",
      "\n",
      "[[17356    27]\n",
      " [  688   818]]\n",
      "Balanced Accuracy Score: 0.7708037244490751\n"
     ]
    },
    {
     "name": "stderr",
     "output_type": "stream",
     "text": [
      "[I 2024-07-24 02:10:39,913] Trial 11 finished with value: 0.8238479092890361 and parameters: {'iterations': 1812, 'depth': 1, 'learning_rate': 0.02269475978735425, 'l2_leaf_reg': 1.0044841797973224e-05, 'border_count': 143, 'random_strength': 107, 'bagging_temperature': 0.020864363048996044}. Best is trial 0 with value: 0.824522634690867.\n"
     ]
    },
    {
     "name": "stdout",
     "output_type": "stream",
     "text": [
      "              precision    recall  f1-score   support\n",
      "\n",
      "           0       0.97      0.93      0.95     17383\n",
      "           1       0.47      0.72      0.57      1506\n",
      "\n",
      "    accuracy                           0.91     18889\n",
      "   macro avg       0.72      0.82      0.76     18889\n",
      "weighted avg       0.93      0.91      0.92     18889\n",
      "\n",
      "[[16176  1207]\n",
      " [  426  1080]]\n",
      "Balanced Accuracy Score: 0.8238479092890361\n"
     ]
    },
    {
     "name": "stderr",
     "output_type": "stream",
     "text": [
      "[I 2024-07-24 02:10:40,133] Trial 12 finished with value: 0.7679382758520845 and parameters: {'iterations': 168, 'depth': 1, 'learning_rate': 0.022305492930525063, 'l2_leaf_reg': 1.107293877820558e-05, 'border_count': 83, 'random_strength': 78, 'bagging_temperature': 0.01269964387039463}. Best is trial 0 with value: 0.824522634690867.\n"
     ]
    },
    {
     "name": "stdout",
     "output_type": "stream",
     "text": [
      "              precision    recall  f1-score   support\n",
      "\n",
      "           0       0.96      0.96      0.96     17383\n",
      "           1       0.53      0.58      0.55      1506\n",
      "\n",
      "    accuracy                           0.93     18889\n",
      "   macro avg       0.75      0.77      0.76     18889\n",
      "weighted avg       0.93      0.93      0.93     18889\n",
      "\n",
      "[[16610   773]\n",
      " [  632   874]]\n",
      "Balanced Accuracy Score: 0.7679382758520845\n"
     ]
    },
    {
     "name": "stderr",
     "output_type": "stream",
     "text": [
      "[I 2024-07-24 02:10:41,827] Trial 13 finished with value: 0.8242374420704878 and parameters: {'iterations': 797, 'depth': 1, 'learning_rate': 0.02622964707451538, 'l2_leaf_reg': 0.00020596945202624726, 'border_count': 136, 'random_strength': 130, 'bagging_temperature': 0.010630806772649286}. Best is trial 0 with value: 0.824522634690867.\n"
     ]
    },
    {
     "name": "stdout",
     "output_type": "stream",
     "text": [
      "              precision    recall  f1-score   support\n",
      "\n",
      "           0       0.97      0.93      0.95     17383\n",
      "           1       0.47      0.72      0.57      1506\n",
      "\n",
      "    accuracy                           0.91     18889\n",
      "   macro avg       0.72      0.82      0.76     18889\n",
      "weighted avg       0.93      0.91      0.92     18889\n",
      "\n",
      "[[16178  1205]\n",
      " [  425  1081]]\n",
      "Balanced Accuracy Score: 0.8242374420704878\n"
     ]
    },
    {
     "name": "stderr",
     "output_type": "stream",
     "text": [
      "[I 2024-07-24 02:10:43,333] Trial 14 finished with value: 0.8238898325278341 and parameters: {'iterations': 692, 'depth': 2, 'learning_rate': 0.040069113563363, 'l2_leaf_reg': 0.00020987853689333517, 'border_count': 72, 'random_strength': 150, 'bagging_temperature': 0.04007252914682079}. Best is trial 0 with value: 0.824522634690867.\n"
     ]
    },
    {
     "name": "stdout",
     "output_type": "stream",
     "text": [
      "              precision    recall  f1-score   support\n",
      "\n",
      "           0       0.97      0.93      0.95     17383\n",
      "           1       0.47      0.72      0.57      1506\n",
      "\n",
      "    accuracy                           0.91     18889\n",
      "   macro avg       0.72      0.82      0.76     18889\n",
      "weighted avg       0.93      0.91      0.92     18889\n",
      "\n",
      "[[16189  1194]\n",
      " [  427  1079]]\n",
      "Balanced Accuracy Score: 0.8238898325278341\n"
     ]
    },
    {
     "name": "stderr",
     "output_type": "stream",
     "text": [
      "[I 2024-07-24 02:10:45,320] Trial 15 finished with value: 0.7685689961777465 and parameters: {'iterations': 898, 'depth': 2, 'learning_rate': 0.001671042696670774, 'l2_leaf_reg': 0.0030503526465405807, 'border_count': 117, 'random_strength': 137, 'bagging_temperature': 16.571967823856426}. Best is trial 0 with value: 0.824522634690867.\n"
     ]
    },
    {
     "name": "stdout",
     "output_type": "stream",
     "text": [
      "              precision    recall  f1-score   support\n",
      "\n",
      "           0       0.96      0.98      0.97     17383\n",
      "           1       0.72      0.56      0.63      1506\n",
      "\n",
      "    accuracy                           0.95     18889\n",
      "   macro avg       0.84      0.77      0.80     18889\n",
      "weighted avg       0.94      0.95      0.94     18889\n",
      "\n",
      "[[17059   324]\n",
      " [  669   837]]\n",
      "Balanced Accuracy Score: 0.7685689961777465\n"
     ]
    },
    {
     "name": "stderr",
     "output_type": "stream",
     "text": [
      "[I 2024-07-24 02:10:46,546] Trial 16 finished with value: 0.8245670026561189 and parameters: {'iterations': 468, 'depth': 3, 'learning_rate': 0.038296379167744865, 'l2_leaf_reg': 0.08140697872021789, 'border_count': 167, 'random_strength': 1, 'bagging_temperature': 0.6106610863431011}. Best is trial 16 with value: 0.8245670026561189.\n"
     ]
    },
    {
     "name": "stdout",
     "output_type": "stream",
     "text": [
      "              precision    recall  f1-score   support\n",
      "\n",
      "           0       0.97      0.93      0.95     17383\n",
      "           1       0.48      0.72      0.57      1506\n",
      "\n",
      "    accuracy                           0.91     18889\n",
      "   macro avg       0.73      0.82      0.76     18889\n",
      "weighted avg       0.93      0.91      0.92     18889\n",
      "\n",
      "[[16201  1182]\n",
      " [  426  1080]]\n",
      "Balanced Accuracy Score: 0.8245670026561189\n"
     ]
    },
    {
     "name": "stderr",
     "output_type": "stream",
     "text": [
      "[I 2024-07-24 02:10:47,679] Trial 17 finished with value: 0.8246952170989669 and parameters: {'iterations': 440, 'depth': 3, 'learning_rate': 0.040867084028138795, 'l2_leaf_reg': 0.06219723279655087, 'border_count': 164, 'random_strength': 2, 'bagging_temperature': 0.7351217529635621}. Best is trial 17 with value: 0.8246952170989669.\n"
     ]
    },
    {
     "name": "stdout",
     "output_type": "stream",
     "text": [
      "              precision    recall  f1-score   support\n",
      "\n",
      "           0       0.97      0.93      0.95     17383\n",
      "           1       0.48      0.72      0.58      1506\n",
      "\n",
      "    accuracy                           0.92     18889\n",
      "   macro avg       0.73      0.82      0.76     18889\n",
      "weighted avg       0.93      0.92      0.92     18889\n",
      "\n",
      "[[16217  1166]\n",
      " [  427  1079]]\n",
      "Balanced Accuracy Score: 0.8246952170989669\n"
     ]
    },
    {
     "name": "stderr",
     "output_type": "stream",
     "text": [
      "[I 2024-07-24 02:10:48,859] Trial 18 finished with value: 0.8241355466358693 and parameters: {'iterations': 384, 'depth': 3, 'learning_rate': 0.008992694686391479, 'l2_leaf_reg': 0.0704582172826594, 'border_count': 170, 'random_strength': 4, 'bagging_temperature': 0.7908495911447121}. Best is trial 17 with value: 0.8246952170989669.\n"
     ]
    },
    {
     "name": "stdout",
     "output_type": "stream",
     "text": [
      "              precision    recall  f1-score   support\n",
      "\n",
      "           0       0.97      0.93      0.95     17383\n",
      "           1       0.47      0.72      0.57      1506\n",
      "\n",
      "    accuracy                           0.91     18889\n",
      "   macro avg       0.72      0.82      0.76     18889\n",
      "weighted avg       0.93      0.91      0.92     18889\n",
      "\n",
      "[[16186  1197]\n",
      " [  426  1080]]\n",
      "Balanced Accuracy Score: 0.8241355466358693\n"
     ]
    },
    {
     "name": "stderr",
     "output_type": "stream",
     "text": [
      "[I 2024-07-24 02:10:55,854] Trial 19 finished with value: 0.7967665665933172 and parameters: {'iterations': 1091, 'depth': 9, 'learning_rate': 0.04696935892166542, 'l2_leaf_reg': 0.09065399727629674, 'border_count': 163, 'random_strength': 29, 'bagging_temperature': 8.980589436659972}. Best is trial 17 with value: 0.8246952170989669.\n"
     ]
    },
    {
     "name": "stdout",
     "output_type": "stream",
     "text": [
      "              precision    recall  f1-score   support\n",
      "\n",
      "           0       0.97      0.88      0.93     17383\n",
      "           1       0.35      0.71      0.47      1506\n",
      "\n",
      "    accuracy                           0.87     18889\n",
      "   macro avg       0.66      0.80      0.70     18889\n",
      "weighted avg       0.92      0.87      0.89     18889\n",
      "\n",
      "[[15373  2010]\n",
      " [  438  1068]]\n",
      "Balanced Accuracy Score: 0.7967665665933172\n",
      "Best parameters: {'iterations': 440, 'depth': 3, 'learning_rate': 0.040867084028138795, 'l2_leaf_reg': 0.06219723279655087, 'border_count': 164, 'random_strength': 2, 'bagging_temperature': 0.7351217529635621}\n",
      "Best balanced accuracy score: 0.8246952170989669\n"
     ]
    }
   ],
   "source": [
    "import optuna\n",
    "\n",
    "def objective(trial):\n",
    "    params = {\n",
    "        'iterations': trial.suggest_int('iterations', 100, 2800),\n",
    "        'depth': trial.suggest_int('depth', 1, 10),\n",
    "        'learning_rate': trial.suggest_loguniform('learning_rate', 1e-4, 1e-1),\n",
    "        'l2_leaf_reg': trial.suggest_loguniform('l2_leaf_reg', 1e-5, 1e-1),\n",
    "        'border_count': trial.suggest_int('border_count', 32, 255),\n",
    "        'random_strength': trial.suggest_int('random_strength', 0, 250),\n",
    "        'bagging_temperature': trial.suggest_loguniform('bagging_temperature', 0.01, 150),\n",
    "        'random_state': 42,\n",
    "        'verbose': 0\n",
    "    }\n",
    "\n",
    "    model = CatBoostClassifier(**params)\n",
    "    model.fit(X_train, y_train)\n",
    "\n",
    "    y_pred = model.predict(X_test)\n",
    "\n",
    "    balanced_acc = balanced_accuracy_score(y_test, y_pred)\n",
    "\n",
    "    print(classification_report(y_test, y_pred))\n",
    "    print(confusion_matrix(y_test, y_pred))\n",
    "    print(f\"Balanced Accuracy Score: {balanced_acc}\")\n",
    "\n",
    "    return balanced_acc\n",
    "\n",
    "study = optuna.create_study(direction='maximize')\n",
    "study.optimize(objective, n_trials=20)\n",
    "print(f\"Best parameters: {study.best_params}\")\n",
    "print(f\"Best balanced accuracy score: {study.best_value}\")\n"
   ]
  },
  {
   "cell_type": "markdown",
   "metadata": {},
   "source": [
    "## **Menggunakan Neural Network**"
   ]
  },
  {
   "cell_type": "code",
   "execution_count": 266,
   "metadata": {},
   "outputs": [],
   "source": [
    "X = train.drop(columns=['fraud'], axis=1)\n",
    "y = train['fraud']\n",
    "\n",
    "scaler = StandardScaler()\n",
    "X = scaler.fit_transform(X)\n",
    "\n",
    "X_train, X_test, y_train, y_test = train_test_split(X, y, test_size=0.25, random_state=42, stratify=y)\n",
    "X_train , y_train = smote.fit_resample(X_train, y_train)"
   ]
  },
  {
   "cell_type": "code",
   "execution_count": 267,
   "metadata": {},
   "outputs": [
    {
     "name": "stdout",
     "output_type": "stream",
     "text": [
      "Epoch 1/50\n",
      "\u001b[1m904/904\u001b[0m \u001b[32m━━━━━━━━━━━━━━━━━━━━\u001b[0m\u001b[37m\u001b[0m \u001b[1m2s\u001b[0m 1ms/step - accuracy: 0.6062 - loss: 0.6266 - val_accuracy: 0.9581 - val_loss: 0.4862\n",
      "Epoch 2/50\n",
      "\u001b[1m904/904\u001b[0m \u001b[32m━━━━━━━━━━━━━━━━━━━━\u001b[0m\u001b[37m\u001b[0m \u001b[1m1s\u001b[0m 1ms/step - accuracy: 0.6438 - loss: 0.5693 - val_accuracy: 0.9587 - val_loss: 0.4856\n",
      "Epoch 3/50\n",
      "\u001b[1m904/904\u001b[0m \u001b[32m━━━━━━━━━━━━━━━━━━━━\u001b[0m\u001b[37m\u001b[0m \u001b[1m1s\u001b[0m 1ms/step - accuracy: 0.6403 - loss: 0.5753 - val_accuracy: 0.9565 - val_loss: 0.4334\n",
      "Epoch 4/50\n",
      "\u001b[1m904/904\u001b[0m \u001b[32m━━━━━━━━━━━━━━━━━━━━\u001b[0m\u001b[37m\u001b[0m \u001b[1m1s\u001b[0m 1ms/step - accuracy: 0.6513 - loss: 0.5768 - val_accuracy: 0.9579 - val_loss: 0.4523\n",
      "Epoch 5/50\n",
      "\u001b[1m904/904\u001b[0m \u001b[32m━━━━━━━━━━━━━━━━━━━━\u001b[0m\u001b[37m\u001b[0m \u001b[1m1s\u001b[0m 1ms/step - accuracy: 0.6523 - loss: 0.5632 - val_accuracy: 0.9235 - val_loss: 0.4783\n",
      "Epoch 6/50\n",
      "\u001b[1m904/904\u001b[0m \u001b[32m━━━━━━━━━━━━━━━━━━━━\u001b[0m\u001b[37m\u001b[0m \u001b[1m1s\u001b[0m 1ms/step - accuracy: 0.6644 - loss: 0.5660 - val_accuracy: 0.9610 - val_loss: 0.4261\n",
      "Epoch 7/50\n",
      "\u001b[1m904/904\u001b[0m \u001b[32m━━━━━━━━━━━━━━━━━━━━\u001b[0m\u001b[37m\u001b[0m \u001b[1m1s\u001b[0m 1ms/step - accuracy: 0.6662 - loss: 0.5590 - val_accuracy: 0.9291 - val_loss: 0.4761\n",
      "Epoch 8/50\n",
      "\u001b[1m904/904\u001b[0m \u001b[32m━━━━━━━━━━━━━━━━━━━━\u001b[0m\u001b[37m\u001b[0m \u001b[1m1s\u001b[0m 1ms/step - accuracy: 0.6724 - loss: 0.5550 - val_accuracy: 0.9143 - val_loss: 0.5520\n",
      "Epoch 9/50\n",
      "\u001b[1m904/904\u001b[0m \u001b[32m━━━━━━━━━━━━━━━━━━━━\u001b[0m\u001b[37m\u001b[0m \u001b[1m1s\u001b[0m 1ms/step - accuracy: 0.6811 - loss: 0.5602 - val_accuracy: 0.9122 - val_loss: 0.5352\n",
      "Epoch 10/50\n",
      "\u001b[1m904/904\u001b[0m \u001b[32m━━━━━━━━━━━━━━━━━━━━\u001b[0m\u001b[37m\u001b[0m \u001b[1m1s\u001b[0m 1ms/step - accuracy: 0.6752 - loss: 0.5581 - val_accuracy: 0.9278 - val_loss: 0.4154\n",
      "Epoch 11/50\n",
      "\u001b[1m904/904\u001b[0m \u001b[32m━━━━━━━━━━━━━━━━━━━━\u001b[0m\u001b[37m\u001b[0m \u001b[1m1s\u001b[0m 1ms/step - accuracy: 0.6725 - loss: 0.5620 - val_accuracy: 0.9176 - val_loss: 0.4883\n",
      "Epoch 12/50\n",
      "\u001b[1m904/904\u001b[0m \u001b[32m━━━━━━━━━━━━━━━━━━━━\u001b[0m\u001b[37m\u001b[0m \u001b[1m1s\u001b[0m 1ms/step - accuracy: 0.6690 - loss: 0.5566 - val_accuracy: 0.9201 - val_loss: 0.4070\n",
      "Epoch 13/50\n",
      "\u001b[1m904/904\u001b[0m \u001b[32m━━━━━━━━━━━━━━━━━━━━\u001b[0m\u001b[37m\u001b[0m \u001b[1m1s\u001b[0m 1ms/step - accuracy: 0.6828 - loss: 0.5586 - val_accuracy: 0.9164 - val_loss: 0.4978\n",
      "Epoch 14/50\n",
      "\u001b[1m904/904\u001b[0m \u001b[32m━━━━━━━━━━━━━━━━━━━━\u001b[0m\u001b[37m\u001b[0m \u001b[1m1s\u001b[0m 1ms/step - accuracy: 0.6787 - loss: 0.5602 - val_accuracy: 0.9163 - val_loss: 0.4611\n",
      "Epoch 15/50\n",
      "\u001b[1m904/904\u001b[0m \u001b[32m━━━━━━━━━━━━━━━━━━━━\u001b[0m\u001b[37m\u001b[0m \u001b[1m1s\u001b[0m 1ms/step - accuracy: 0.6880 - loss: 0.5611 - val_accuracy: 0.9207 - val_loss: 0.4093\n",
      "Epoch 16/50\n",
      "\u001b[1m904/904\u001b[0m \u001b[32m━━━━━━━━━━━━━━━━━━━━\u001b[0m\u001b[37m\u001b[0m \u001b[1m1s\u001b[0m 1ms/step - accuracy: 0.6692 - loss: 0.5618 - val_accuracy: 0.9148 - val_loss: 0.4796\n",
      "Epoch 17/50\n",
      "\u001b[1m904/904\u001b[0m \u001b[32m━━━━━━━━━━━━━━━━━━━━\u001b[0m\u001b[37m\u001b[0m \u001b[1m1s\u001b[0m 1ms/step - accuracy: 0.6786 - loss: 0.5651 - val_accuracy: 0.9207 - val_loss: 0.4321\n"
     ]
    },
    {
     "data": {
      "text/plain": [
       "<keras.src.callbacks.history.History at 0x14d9b6850>"
      ]
     },
     "execution_count": 267,
     "metadata": {},
     "output_type": "execute_result"
    }
   ],
   "source": [
    "from tensorflow.keras.models import Sequential\n",
    "from tensorflow.keras.layers import Dense, Dropout\n",
    "from tensorflow.keras.callbacks import EarlyStopping\n",
    "from tensorflow.keras.optimizers import Adam\n",
    "\n",
    "model = Sequential()\n",
    "model.add(Dense(6, activation='relu', input_shape=(X_train.shape[1],)))\n",
    "model.add(Dropout(0.4))\n",
    "model.add(Dense(2, activation='relu'))\n",
    "model.add(Dropout(0.4))\n",
    "model.add(Dense(1, activation='sigmoid'))\n",
    "\n",
    "optimizer = Adam(learning_rate=0.01)\n",
    "model.compile(optimizer=optimizer, loss='binary_crossentropy', metrics=['accuracy'])\n",
    "model.fit(X_train, y_train, epochs=50, batch_size=10, validation_data=(X_test, y_test), callbacks=[EarlyStopping(patience=5)])\n"
   ]
  },
  {
   "cell_type": "code",
   "execution_count": 268,
   "metadata": {},
   "outputs": [
    {
     "name": "stdout",
     "output_type": "stream",
     "text": [
      "\u001b[1m591/591\u001b[0m \u001b[32m━━━━━━━━━━━━━━━━━━━━\u001b[0m\u001b[37m\u001b[0m \u001b[1m0s\u001b[0m 369us/step\n",
      "0.8116879736036773\n"
     ]
    }
   ],
   "source": [
    "y_pred_probs = model.predict(X_test)\n",
    "y_pred = (y_pred_probs > 0.5).astype(int).flatten()\n",
    "\n",
    "# Calculate balanced accuracy score\n",
    "print(balanced_accuracy_score(y_test, y_pred))"
   ]
  },
  {
   "cell_type": "markdown",
   "metadata": {},
   "source": [
    "## **Find Better Model**"
   ]
  },
  {
   "cell_type": "code",
   "execution_count": 269,
   "metadata": {},
   "outputs": [
    {
     "name": "stderr",
     "output_type": "stream",
     "text": [
      "Scalers:   0%|          | 0/3 [00:00<?, ?it/s]\n",
      "\u001b[A\n",
      "\u001b[A"
     ]
    },
    {
     "name": "stdout",
     "output_type": "stream",
     "text": [
      "Scaler: StandardScaler\n",
      "Resampler: SMOTE\n",
      "Classifier: RandomForest\n",
      "Balanced Accuracy: 0.7739799588965085\n",
      "Classification Report:\n",
      "              precision    recall  f1-score   support\n",
      "\n",
      "           0       0.96      1.00      0.98     17383\n",
      "           1       0.96      0.55      0.70      1506\n",
      "\n",
      "    accuracy                           0.96     18889\n",
      "   macro avg       0.96      0.77      0.84     18889\n",
      "weighted avg       0.96      0.96      0.96     18889\n",
      "\n",
      "================================================================================\n"
     ]
    },
    {
     "name": "stderr",
     "output_type": "stream",
     "text": [
      "\n",
      "\u001b[A"
     ]
    },
    {
     "name": "stdout",
     "output_type": "stream",
     "text": [
      "Scaler: StandardScaler\n",
      "Resampler: SMOTE\n",
      "Classifier: LogisticRegression\n",
      "Balanced Accuracy: 0.8149036865634549\n",
      "Classification Report:\n",
      "              precision    recall  f1-score   support\n",
      "\n",
      "           0       0.97      0.94      0.96     17383\n",
      "           1       0.51      0.69      0.59      1506\n",
      "\n",
      "    accuracy                           0.92     18889\n",
      "   macro avg       0.74      0.81      0.77     18889\n",
      "weighted avg       0.94      0.92      0.93     18889\n",
      "\n",
      "================================================================================\n"
     ]
    },
    {
     "name": "stderr",
     "output_type": "stream",
     "text": [
      "\n",
      "\u001b[A"
     ]
    },
    {
     "name": "stdout",
     "output_type": "stream",
     "text": [
      "Scaler: StandardScaler\n",
      "Resampler: SMOTE\n",
      "Classifier: XGBoost\n",
      "Balanced Accuracy: 0.7727226246216499\n",
      "Classification Report:\n",
      "              precision    recall  f1-score   support\n",
      "\n",
      "           0       0.96      1.00      0.98     17383\n",
      "           1       0.98      0.55      0.70      1506\n",
      "\n",
      "    accuracy                           0.96     18889\n",
      "   macro avg       0.97      0.77      0.84     18889\n",
      "weighted avg       0.96      0.96      0.96     18889\n",
      "\n",
      "================================================================================\n"
     ]
    },
    {
     "name": "stderr",
     "output_type": "stream",
     "text": [
      "\n",
      "\u001b[A"
     ]
    },
    {
     "name": "stdout",
     "output_type": "stream",
     "text": [
      "Scaler: StandardScaler\n",
      "Resampler: SMOTE\n",
      "Classifier: CatBoost\n",
      "Balanced Accuracy: 0.7718128998894449\n",
      "Classification Report:\n",
      "              precision    recall  f1-score   support\n",
      "\n",
      "           0       0.96      1.00      0.98     17383\n",
      "           1       0.98      0.54      0.70      1506\n",
      "\n",
      "    accuracy                           0.96     18889\n",
      "   macro avg       0.97      0.77      0.84     18889\n",
      "weighted avg       0.96      0.96      0.96     18889\n",
      "\n",
      "================================================================================\n"
     ]
    },
    {
     "name": "stderr",
     "output_type": "stream",
     "text": [
      "\n",
      "\u001b[A"
     ]
    },
    {
     "name": "stdout",
     "output_type": "stream",
     "text": [
      "Scaler: StandardScaler\n",
      "Resampler: SMOTE\n",
      "Classifier: KNeighbors\n",
      "Balanced Accuracy: 0.724530629710348\n",
      "Classification Report:\n",
      "              precision    recall  f1-score   support\n",
      "\n",
      "           0       0.96      0.82      0.89     17383\n",
      "           1       0.23      0.63      0.34      1506\n",
      "\n",
      "    accuracy                           0.81     18889\n",
      "   macro avg       0.60      0.72      0.61     18889\n",
      "weighted avg       0.90      0.81      0.84     18889\n",
      "\n",
      "================================================================================\n"
     ]
    },
    {
     "name": "stderr",
     "output_type": "stream",
     "text": [
      "\n",
      "\u001b[A"
     ]
    },
    {
     "name": "stdout",
     "output_type": "stream",
     "text": [
      "Scaler: StandardScaler\n",
      "Resampler: SMOTE\n",
      "Classifier: DecisionTree\n",
      "Balanced Accuracy: 0.7726297823146808\n",
      "Classification Report:\n",
      "              precision    recall  f1-score   support\n",
      "\n",
      "           0       0.96      0.95      0.96     17383\n",
      "           1       0.50      0.60      0.54      1506\n",
      "\n",
      "    accuracy                           0.92     18889\n",
      "   macro avg       0.73      0.77      0.75     18889\n",
      "weighted avg       0.93      0.92      0.92     18889\n",
      "\n",
      "================================================================================\n",
      "Scaler: StandardScaler\n",
      "Resampler: SMOTE\n",
      "Classifier: GaussianNB\n",
      "Balanced Accuracy: 0.7626938601229896\n",
      "Classification Report:\n",
      "              precision    recall  f1-score   support\n",
      "\n",
      "           0       0.96      0.97      0.97     17383\n",
      "           1       0.64      0.55      0.59      1506\n",
      "\n",
      "    accuracy                           0.94     18889\n",
      "   macro avg       0.80      0.76      0.78     18889\n",
      "weighted avg       0.94      0.94      0.94     18889\n",
      "\n",
      "================================================================================\n"
     ]
    },
    {
     "name": "stderr",
     "output_type": "stream",
     "text": [
      "\n",
      "\u001b[A"
     ]
    },
    {
     "name": "stdout",
     "output_type": "stream",
     "text": [
      "Scaler: StandardScaler\n",
      "Resampler: SMOTE\n",
      "Classifier: GradientBoosting\n",
      "Balanced Accuracy: 0.7728425690132907\n",
      "Classification Report:\n",
      "              precision    recall  f1-score   support\n",
      "\n",
      "           0       0.96      1.00      0.98     17383\n",
      "           1       0.93      0.55      0.69      1506\n",
      "\n",
      "    accuracy                           0.96     18889\n",
      "   macro avg       0.95      0.77      0.84     18889\n",
      "weighted avg       0.96      0.96      0.96     18889\n",
      "\n",
      "================================================================================\n"
     ]
    },
    {
     "name": "stderr",
     "output_type": "stream",
     "text": [
      "\n",
      "\u001b[A"
     ]
    },
    {
     "name": "stdout",
     "output_type": "stream",
     "text": [
      "Scaler: StandardScaler\n",
      "Resampler: SMOTE\n",
      "Classifier: AdaBoost\n",
      "Balanced Accuracy: 0.7919834592864042\n",
      "Classification Report:\n",
      "              precision    recall  f1-score   support\n",
      "\n",
      "           0       0.97      0.97      0.97     17383\n",
      "           1       0.66      0.61      0.64      1506\n",
      "\n",
      "    accuracy                           0.94     18889\n",
      "   macro avg       0.81      0.79      0.80     18889\n",
      "weighted avg       0.94      0.94      0.94     18889\n",
      "\n",
      "================================================================================\n"
     ]
    },
    {
     "name": "stderr",
     "output_type": "stream",
     "text": [
      "\n",
      "\u001b[A\n",
      "\u001b[A"
     ]
    },
    {
     "name": "stdout",
     "output_type": "stream",
     "text": [
      "Scaler: StandardScaler\n",
      "Resampler: SMOTE\n",
      "Classifier: Bagging\n",
      "Balanced Accuracy: 0.7754566882711726\n",
      "Classification Report:\n",
      "              precision    recall  f1-score   support\n",
      "\n",
      "           0       0.96      1.00      0.98     17383\n",
      "           1       0.92      0.56      0.69      1506\n",
      "\n",
      "    accuracy                           0.96     18889\n",
      "   macro avg       0.94      0.78      0.84     18889\n",
      "weighted avg       0.96      0.96      0.96     18889\n",
      "\n",
      "================================================================================\n"
     ]
    },
    {
     "name": "stderr",
     "output_type": "stream",
     "text": [
      "\n",
      "\u001b[A\n",
      "\u001b[A"
     ]
    },
    {
     "name": "stdout",
     "output_type": "stream",
     "text": [
      "Scaler: StandardScaler\n",
      "Resampler: SMOTETomek\n",
      "Classifier: RandomForest\n",
      "Balanced Accuracy: 0.7733447120070218\n",
      "Classification Report:\n",
      "              precision    recall  f1-score   support\n",
      "\n",
      "           0       0.96      1.00      0.98     17383\n",
      "           1       0.96      0.55      0.70      1506\n",
      "\n",
      "    accuracy                           0.96     18889\n",
      "   macro avg       0.96      0.77      0.84     18889\n",
      "weighted avg       0.96      0.96      0.96     18889\n",
      "\n",
      "================================================================================\n"
     ]
    },
    {
     "name": "stderr",
     "output_type": "stream",
     "text": [
      "\n",
      "\u001b[A"
     ]
    },
    {
     "name": "stdout",
     "output_type": "stream",
     "text": [
      "Scaler: StandardScaler\n",
      "Resampler: SMOTETomek\n",
      "Classifier: LogisticRegression\n",
      "Balanced Accuracy: 0.8149899777675048\n",
      "Classification Report:\n",
      "              precision    recall  f1-score   support\n",
      "\n",
      "           0       0.97      0.94      0.96     17383\n",
      "           1       0.51      0.69      0.59      1506\n",
      "\n",
      "    accuracy                           0.92     18889\n",
      "   macro avg       0.74      0.81      0.77     18889\n",
      "weighted avg       0.94      0.92      0.93     18889\n",
      "\n",
      "================================================================================\n"
     ]
    },
    {
     "name": "stderr",
     "output_type": "stream",
     "text": [
      "\n",
      "\u001b[A"
     ]
    },
    {
     "name": "stdout",
     "output_type": "stream",
     "text": [
      "Scaler: StandardScaler\n",
      "Resampler: SMOTETomek\n",
      "Classifier: XGBoost\n",
      "Balanced Accuracy: 0.7718728720852653\n",
      "Classification Report:\n",
      "              precision    recall  f1-score   support\n",
      "\n",
      "           0       0.96      1.00      0.98     17383\n",
      "           1       0.96      0.55      0.70      1506\n",
      "\n",
      "    accuracy                           0.96     18889\n",
      "   macro avg       0.96      0.77      0.84     18889\n",
      "weighted avg       0.96      0.96      0.96     18889\n",
      "\n",
      "================================================================================\n"
     ]
    },
    {
     "name": "stderr",
     "output_type": "stream",
     "text": [
      "\n",
      "\u001b[A"
     ]
    },
    {
     "name": "stdout",
     "output_type": "stream",
     "text": [
      "Scaler: StandardScaler\n",
      "Resampler: SMOTETomek\n",
      "Classifier: CatBoost\n",
      "Balanced Accuracy: 0.7715384220467265\n",
      "Classification Report:\n",
      "              precision    recall  f1-score   support\n",
      "\n",
      "           0       0.96      1.00      0.98     17383\n",
      "           1       0.98      0.54      0.70      1506\n",
      "\n",
      "    accuracy                           0.96     18889\n",
      "   macro avg       0.97      0.77      0.84     18889\n",
      "weighted avg       0.96      0.96      0.96     18889\n",
      "\n",
      "================================================================================\n"
     ]
    },
    {
     "name": "stderr",
     "output_type": "stream",
     "text": [
      "\n",
      "\u001b[A"
     ]
    },
    {
     "name": "stdout",
     "output_type": "stream",
     "text": [
      "Scaler: StandardScaler\n",
      "Resampler: SMOTETomek\n",
      "Classifier: KNeighbors\n",
      "Balanced Accuracy: 0.724530629710348\n",
      "Classification Report:\n",
      "              precision    recall  f1-score   support\n",
      "\n",
      "           0       0.96      0.82      0.89     17383\n",
      "           1       0.23      0.63      0.34      1506\n",
      "\n",
      "    accuracy                           0.81     18889\n",
      "   macro avg       0.60      0.72      0.61     18889\n",
      "weighted avg       0.90      0.81      0.84     18889\n",
      "\n",
      "================================================================================\n"
     ]
    },
    {
     "name": "stderr",
     "output_type": "stream",
     "text": [
      "\n",
      "\u001b[A"
     ]
    },
    {
     "name": "stdout",
     "output_type": "stream",
     "text": [
      "Scaler: StandardScaler\n",
      "Resampler: SMOTETomek\n",
      "Classifier: DecisionTree\n",
      "Balanced Accuracy: 0.7748699730216796\n",
      "Classification Report:\n",
      "              precision    recall  f1-score   support\n",
      "\n",
      "           0       0.96      0.95      0.96     17383\n",
      "           1       0.49      0.60      0.54      1506\n",
      "\n",
      "    accuracy                           0.92     18889\n",
      "   macro avg       0.73      0.77      0.75     18889\n",
      "weighted avg       0.93      0.92      0.92     18889\n",
      "\n",
      "================================================================================\n",
      "Scaler: StandardScaler\n",
      "Resampler: SMOTETomek\n",
      "Classifier: GaussianNB\n",
      "Balanced Accuracy: 0.7626938601229896\n",
      "Classification Report:\n",
      "              precision    recall  f1-score   support\n",
      "\n",
      "           0       0.96      0.97      0.97     17383\n",
      "           1       0.64      0.55      0.59      1506\n",
      "\n",
      "    accuracy                           0.94     18889\n",
      "   macro avg       0.80      0.76      0.78     18889\n",
      "weighted avg       0.94      0.94      0.94     18889\n",
      "\n",
      "================================================================================\n"
     ]
    },
    {
     "name": "stderr",
     "output_type": "stream",
     "text": [
      "\n",
      "\u001b[A"
     ]
    },
    {
     "name": "stdout",
     "output_type": "stream",
     "text": [
      "Scaler: StandardScaler\n",
      "Resampler: SMOTETomek\n",
      "Classifier: GradientBoosting\n",
      "Balanced Accuracy: 0.7732033380600591\n",
      "Classification Report:\n",
      "              precision    recall  f1-score   support\n",
      "\n",
      "           0       0.96      1.00      0.98     17383\n",
      "           1       0.93      0.55      0.69      1506\n",
      "\n",
      "    accuracy                           0.96     18889\n",
      "   macro avg       0.95      0.77      0.84     18889\n",
      "weighted avg       0.96      0.96      0.96     18889\n",
      "\n",
      "================================================================================\n"
     ]
    },
    {
     "name": "stderr",
     "output_type": "stream",
     "text": [
      "\n",
      "\u001b[A"
     ]
    },
    {
     "name": "stdout",
     "output_type": "stream",
     "text": [
      "Scaler: StandardScaler\n",
      "Resampler: SMOTETomek\n",
      "Classifier: AdaBoost\n",
      "Balanced Accuracy: 0.7919834592864042\n",
      "Classification Report:\n",
      "              precision    recall  f1-score   support\n",
      "\n",
      "           0       0.97      0.97      0.97     17383\n",
      "           1       0.66      0.61      0.64      1506\n",
      "\n",
      "    accuracy                           0.94     18889\n",
      "   macro avg       0.81      0.79      0.80     18889\n",
      "weighted avg       0.94      0.94      0.94     18889\n",
      "\n",
      "================================================================================\n"
     ]
    },
    {
     "name": "stderr",
     "output_type": "stream",
     "text": [
      "\n",
      "\u001b[A\n",
      "\u001b[A"
     ]
    },
    {
     "name": "stdout",
     "output_type": "stream",
     "text": [
      "Scaler: StandardScaler\n",
      "Resampler: SMOTETomek\n",
      "Classifier: Bagging\n",
      "Balanced Accuracy: 0.7774487201436826\n",
      "Classification Report:\n",
      "              precision    recall  f1-score   support\n",
      "\n",
      "           0       0.96      1.00      0.98     17383\n",
      "           1       0.92      0.56      0.70      1506\n",
      "\n",
      "    accuracy                           0.96     18889\n",
      "   macro avg       0.94      0.78      0.84     18889\n",
      "weighted avg       0.96      0.96      0.96     18889\n",
      "\n",
      "================================================================================\n"
     ]
    },
    {
     "name": "stderr",
     "output_type": "stream",
     "text": [
      "\n",
      "\u001b[A\n",
      "\u001b[A"
     ]
    },
    {
     "name": "stdout",
     "output_type": "stream",
     "text": [
      "Scaler: StandardScaler\n",
      "Resampler: SMOTENC\n",
      "Classifier: RandomForest\n",
      "Balanced Accuracy: 0.7714808945773599\n",
      "Classification Report:\n",
      "              precision    recall  f1-score   support\n",
      "\n",
      "           0       0.96      1.00      0.98     17383\n",
      "           1       0.98      0.54      0.70      1506\n",
      "\n",
      "    accuracy                           0.96     18889\n",
      "   macro avg       0.97      0.77      0.84     18889\n",
      "weighted avg       0.96      0.96      0.96     18889\n",
      "\n",
      "================================================================================\n"
     ]
    },
    {
     "name": "stderr",
     "output_type": "stream",
     "text": [
      "\n",
      "\u001b[A"
     ]
    },
    {
     "name": "stdout",
     "output_type": "stream",
     "text": [
      "Scaler: StandardScaler\n",
      "Resampler: SMOTENC\n",
      "Classifier: LogisticRegression\n",
      "Balanced Accuracy: 0.8098143772682\n",
      "Classification Report:\n",
      "              precision    recall  f1-score   support\n",
      "\n",
      "           0       0.97      0.95      0.96     17383\n",
      "           1       0.53      0.67      0.59      1506\n",
      "\n",
      "    accuracy                           0.93     18889\n",
      "   macro avg       0.75      0.81      0.77     18889\n",
      "weighted avg       0.94      0.93      0.93     18889\n",
      "\n",
      "================================================================================\n"
     ]
    },
    {
     "name": "stderr",
     "output_type": "stream",
     "text": [
      "\n",
      "\u001b[A"
     ]
    },
    {
     "name": "stdout",
     "output_type": "stream",
     "text": [
      "Scaler: StandardScaler\n",
      "Resampler: SMOTENC\n",
      "Classifier: XGBoost\n",
      "Balanced Accuracy: 0.7720586139974799\n",
      "Classification Report:\n",
      "              precision    recall  f1-score   support\n",
      "\n",
      "           0       0.96      1.00      0.98     17383\n",
      "           1       0.98      0.55      0.70      1506\n",
      "\n",
      "    accuracy                           0.96     18889\n",
      "   macro avg       0.97      0.77      0.84     18889\n",
      "weighted avg       0.96      0.96      0.96     18889\n",
      "\n",
      "================================================================================\n"
     ]
    },
    {
     "name": "stderr",
     "output_type": "stream",
     "text": [
      "\n",
      "\u001b[A"
     ]
    },
    {
     "name": "stdout",
     "output_type": "stream",
     "text": [
      "Scaler: StandardScaler\n",
      "Resampler: SMOTENC\n",
      "Classifier: CatBoost\n",
      "Balanced Accuracy: 0.7718128998894449\n",
      "Classification Report:\n",
      "              precision    recall  f1-score   support\n",
      "\n",
      "           0       0.96      1.00      0.98     17383\n",
      "           1       0.98      0.54      0.70      1506\n",
      "\n",
      "    accuracy                           0.96     18889\n",
      "   macro avg       0.97      0.77      0.84     18889\n",
      "weighted avg       0.96      0.96      0.96     18889\n",
      "\n",
      "================================================================================\n"
     ]
    },
    {
     "name": "stderr",
     "output_type": "stream",
     "text": [
      "\n",
      "\u001b[A"
     ]
    },
    {
     "name": "stdout",
     "output_type": "stream",
     "text": [
      "Scaler: StandardScaler\n",
      "Resampler: SMOTENC\n",
      "Classifier: KNeighbors\n",
      "Balanced Accuracy: 0.7157084332137786\n",
      "Classification Report:\n",
      "              precision    recall  f1-score   support\n",
      "\n",
      "           0       0.96      0.81      0.88     17383\n",
      "           1       0.22      0.62      0.33      1506\n",
      "\n",
      "    accuracy                           0.79     18889\n",
      "   macro avg       0.59      0.72      0.60     18889\n",
      "weighted avg       0.90      0.79      0.83     18889\n",
      "\n",
      "================================================================================\n"
     ]
    },
    {
     "name": "stderr",
     "output_type": "stream",
     "text": [
      "\n",
      "\u001b[A"
     ]
    },
    {
     "name": "stdout",
     "output_type": "stream",
     "text": [
      "Scaler: StandardScaler\n",
      "Resampler: SMOTENC\n",
      "Classifier: DecisionTree\n",
      "Balanced Accuracy: 0.770668958903308\n",
      "Classification Report:\n",
      "              precision    recall  f1-score   support\n",
      "\n",
      "           0       0.96      0.95      0.96     17383\n",
      "           1       0.49      0.59      0.54      1506\n",
      "\n",
      "    accuracy                           0.92     18889\n",
      "   macro avg       0.73      0.77      0.75     18889\n",
      "weighted avg       0.93      0.92      0.92     18889\n",
      "\n",
      "================================================================================\n",
      "Scaler: StandardScaler\n",
      "Resampler: SMOTENC\n",
      "Classifier: GaussianNB\n",
      "Balanced Accuracy: 0.7625788051842564\n",
      "Classification Report:\n",
      "              precision    recall  f1-score   support\n",
      "\n",
      "           0       0.96      0.97      0.97     17383\n",
      "           1       0.64      0.55      0.59      1506\n",
      "\n",
      "    accuracy                           0.94     18889\n",
      "   macro avg       0.80      0.76      0.78     18889\n",
      "weighted avg       0.94      0.94      0.94     18889\n",
      "\n",
      "================================================================================\n"
     ]
    },
    {
     "name": "stderr",
     "output_type": "stream",
     "text": [
      "\n",
      "\u001b[A"
     ]
    },
    {
     "name": "stdout",
     "output_type": "stream",
     "text": [
      "Scaler: StandardScaler\n",
      "Resampler: SMOTENC\n",
      "Classifier: GradientBoosting\n",
      "Balanced Accuracy: 0.7761592415358414\n",
      "Classification Report:\n",
      "              precision    recall  f1-score   support\n",
      "\n",
      "           0       0.96      0.99      0.98     17383\n",
      "           1       0.84      0.56      0.67      1506\n",
      "\n",
      "    accuracy                           0.96     18889\n",
      "   macro avg       0.90      0.78      0.82     18889\n",
      "weighted avg       0.95      0.96      0.95     18889\n",
      "\n",
      "================================================================================\n"
     ]
    },
    {
     "name": "stderr",
     "output_type": "stream",
     "text": [
      "\n",
      "\u001b[A"
     ]
    },
    {
     "name": "stdout",
     "output_type": "stream",
     "text": [
      "Scaler: StandardScaler\n",
      "Resampler: SMOTENC\n",
      "Classifier: AdaBoost\n",
      "Balanced Accuracy: 0.8026847145541212\n",
      "Classification Report:\n",
      "              precision    recall  f1-score   support\n",
      "\n",
      "           0       0.97      0.96      0.97     17383\n",
      "           1       0.60      0.64      0.62      1506\n",
      "\n",
      "    accuracy                           0.94     18889\n",
      "   macro avg       0.78      0.80      0.79     18889\n",
      "weighted avg       0.94      0.94      0.94     18889\n",
      "\n",
      "================================================================================\n"
     ]
    },
    {
     "name": "stderr",
     "output_type": "stream",
     "text": [
      "\n",
      "\u001b[A\n",
      "\u001b[A"
     ]
    },
    {
     "name": "stdout",
     "output_type": "stream",
     "text": [
      "Scaler: StandardScaler\n",
      "Resampler: SMOTENC\n",
      "Classifier: Bagging\n",
      "Balanced Accuracy: 0.7740267715882142\n",
      "Classification Report:\n",
      "              precision    recall  f1-score   support\n",
      "\n",
      "           0       0.96      1.00      0.98     17383\n",
      "           1       0.93      0.55      0.69      1506\n",
      "\n",
      "    accuracy                           0.96     18889\n",
      "   macro avg       0.94      0.77      0.84     18889\n",
      "weighted avg       0.96      0.96      0.96     18889\n",
      "\n",
      "================================================================================\n"
     ]
    },
    {
     "name": "stderr",
     "output_type": "stream",
     "text": [
      "\n",
      "\u001b[A\n",
      "\u001b[A"
     ]
    },
    {
     "name": "stdout",
     "output_type": "stream",
     "text": [
      "Scaler: StandardScaler\n",
      "Resampler: ADASYN\n",
      "Classifier: RandomForest\n",
      "Balanced Accuracy: 0.7747614691858655\n",
      "Classification Report:\n",
      "              precision    recall  f1-score   support\n",
      "\n",
      "           0       0.96      1.00      0.98     17383\n",
      "           1       0.94      0.55      0.70      1506\n",
      "\n",
      "    accuracy                           0.96     18889\n",
      "   macro avg       0.95      0.77      0.84     18889\n",
      "weighted avg       0.96      0.96      0.96     18889\n",
      "\n",
      "================================================================================\n"
     ]
    },
    {
     "name": "stderr",
     "output_type": "stream",
     "text": [
      "\n",
      "\u001b[A"
     ]
    },
    {
     "name": "stdout",
     "output_type": "stream",
     "text": [
      "Scaler: StandardScaler\n",
      "Resampler: ADASYN\n",
      "Classifier: LogisticRegression\n",
      "Balanced Accuracy: 0.822726123636387\n",
      "Classification Report:\n",
      "              precision    recall  f1-score   support\n",
      "\n",
      "           0       0.97      0.93      0.95     17383\n",
      "           1       0.46      0.72      0.56      1506\n",
      "\n",
      "    accuracy                           0.91     18889\n",
      "   macro avg       0.72      0.82      0.76     18889\n",
      "weighted avg       0.93      0.91      0.92     18889\n",
      "\n",
      "================================================================================\n"
     ]
    },
    {
     "name": "stderr",
     "output_type": "stream",
     "text": [
      "\n",
      "\u001b[A"
     ]
    },
    {
     "name": "stdout",
     "output_type": "stream",
     "text": [
      "Scaler: StandardScaler\n",
      "Resampler: ADASYN\n",
      "Classifier: XGBoost\n",
      "Balanced Accuracy: 0.7738073764884086\n",
      "Classification Report:\n",
      "              precision    recall  f1-score   support\n",
      "\n",
      "           0       0.96      1.00      0.98     17383\n",
      "           1       0.96      0.55      0.70      1506\n",
      "\n",
      "    accuracy                           0.96     18889\n",
      "   macro avg       0.96      0.77      0.84     18889\n",
      "weighted avg       0.96      0.96      0.96     18889\n",
      "\n",
      "================================================================================\n"
     ]
    },
    {
     "name": "stderr",
     "output_type": "stream",
     "text": [
      "\n",
      "\u001b[A"
     ]
    },
    {
     "name": "stdout",
     "output_type": "stream",
     "text": [
      "Scaler: StandardScaler\n",
      "Resampler: ADASYN\n",
      "Classifier: CatBoost\n",
      "Balanced Accuracy: 0.7722599601402631\n",
      "Classification Report:\n",
      "              precision    recall  f1-score   support\n",
      "\n",
      "           0       0.96      1.00      0.98     17383\n",
      "           1       0.99      0.55      0.70      1506\n",
      "\n",
      "    accuracy                           0.96     18889\n",
      "   macro avg       0.97      0.77      0.84     18889\n",
      "weighted avg       0.96      0.96      0.96     18889\n",
      "\n",
      "================================================================================\n"
     ]
    },
    {
     "name": "stderr",
     "output_type": "stream",
     "text": [
      "\n",
      "\u001b[A"
     ]
    },
    {
     "name": "stdout",
     "output_type": "stream",
     "text": [
      "Scaler: StandardScaler\n",
      "Resampler: ADASYN\n",
      "Classifier: KNeighbors\n",
      "Balanced Accuracy: 0.7088983993841123\n",
      "Classification Report:\n",
      "              precision    recall  f1-score   support\n",
      "\n",
      "           0       0.96      0.77      0.85     17383\n",
      "           1       0.20      0.65      0.30      1506\n",
      "\n",
      "    accuracy                           0.76     18889\n",
      "   macro avg       0.58      0.71      0.58     18889\n",
      "weighted avg       0.90      0.76      0.81     18889\n",
      "\n",
      "================================================================================\n"
     ]
    },
    {
     "name": "stderr",
     "output_type": "stream",
     "text": [
      "\n",
      "\u001b[A"
     ]
    },
    {
     "name": "stdout",
     "output_type": "stream",
     "text": [
      "Scaler: StandardScaler\n",
      "Resampler: ADASYN\n",
      "Classifier: DecisionTree\n",
      "Balanced Accuracy: 0.7676258283516302\n",
      "Classification Report:\n",
      "              precision    recall  f1-score   support\n",
      "\n",
      "           0       0.96      0.94      0.95     17383\n",
      "           1       0.48      0.59      0.53      1506\n",
      "\n",
      "    accuracy                           0.92     18889\n",
      "   macro avg       0.72      0.77      0.74     18889\n",
      "weighted avg       0.93      0.92      0.92     18889\n",
      "\n",
      "================================================================================\n",
      "Scaler: StandardScaler\n",
      "Resampler: ADASYN\n",
      "Classifier: GaussianNB\n",
      "Balanced Accuracy: 0.7734422909714953\n",
      "Classification Report:\n",
      "              precision    recall  f1-score   support\n",
      "\n",
      "           0       0.96      0.98      0.97     17383\n",
      "           1       0.76      0.56      0.65      1506\n",
      "\n",
      "    accuracy                           0.95     18889\n",
      "   macro avg       0.86      0.77      0.81     18889\n",
      "weighted avg       0.95      0.95      0.95     18889\n",
      "\n",
      "================================================================================\n"
     ]
    },
    {
     "name": "stderr",
     "output_type": "stream",
     "text": [
      "\n",
      "\u001b[A"
     ]
    },
    {
     "name": "stdout",
     "output_type": "stream",
     "text": [
      "Scaler: StandardScaler\n",
      "Resampler: ADASYN\n",
      "Classifier: GradientBoosting\n",
      "Balanced Accuracy: 0.793494777720505\n",
      "Classification Report:\n",
      "              precision    recall  f1-score   support\n",
      "\n",
      "           0       0.97      0.98      0.97     17383\n",
      "           1       0.68      0.61      0.65      1506\n",
      "\n",
      "    accuracy                           0.95     18889\n",
      "   macro avg       0.82      0.79      0.81     18889\n",
      "weighted avg       0.94      0.95      0.95     18889\n",
      "\n",
      "================================================================================\n"
     ]
    },
    {
     "name": "stderr",
     "output_type": "stream",
     "text": [
      "\n",
      "\u001b[A"
     ]
    },
    {
     "name": "stdout",
     "output_type": "stream",
     "text": [
      "Scaler: StandardScaler\n",
      "Resampler: ADASYN\n",
      "Classifier: AdaBoost\n",
      "Balanced Accuracy: 0.8157690433304081\n",
      "Classification Report:\n",
      "              precision    recall  f1-score   support\n",
      "\n",
      "           0       0.97      0.94      0.96     17383\n",
      "           1       0.51      0.69      0.59      1506\n",
      "\n",
      "    accuracy                           0.92     18889\n",
      "   macro avg       0.74      0.82      0.77     18889\n",
      "weighted avg       0.94      0.92      0.93     18889\n",
      "\n",
      "================================================================================\n"
     ]
    },
    {
     "name": "stderr",
     "output_type": "stream",
     "text": [
      "\n",
      "\u001b[A\n",
      "\u001b[A"
     ]
    },
    {
     "name": "stdout",
     "output_type": "stream",
     "text": [
      "Scaler: StandardScaler\n",
      "Resampler: ADASYN\n",
      "Classifier: Bagging\n",
      "Balanced Accuracy: 0.7757024023792077\n",
      "Classification Report:\n",
      "              precision    recall  f1-score   support\n",
      "\n",
      "           0       0.96      1.00      0.98     17383\n",
      "           1       0.92      0.56      0.69      1506\n",
      "\n",
      "    accuracy                           0.96     18889\n",
      "   macro avg       0.94      0.78      0.84     18889\n",
      "weighted avg       0.96      0.96      0.96     18889\n",
      "\n",
      "================================================================================\n"
     ]
    },
    {
     "name": "stderr",
     "output_type": "stream",
     "text": [
      "\n",
      "\u001b[A\n",
      "\u001b[A"
     ]
    },
    {
     "name": "stdout",
     "output_type": "stream",
     "text": [
      "Scaler: StandardScaler\n",
      "Resampler: SMOTEENN\n",
      "Classifier: RandomForest\n",
      "Balanced Accuracy: 0.7764132256950835\n",
      "Classification Report:\n",
      "              precision    recall  f1-score   support\n",
      "\n",
      "           0       0.96      0.99      0.98     17383\n",
      "           1       0.89      0.56      0.69      1506\n",
      "\n",
      "    accuracy                           0.96     18889\n",
      "   macro avg       0.92      0.78      0.83     18889\n",
      "weighted avg       0.96      0.96      0.95     18889\n",
      "\n",
      "================================================================================\n"
     ]
    },
    {
     "name": "stderr",
     "output_type": "stream",
     "text": [
      "\n",
      "\u001b[A"
     ]
    },
    {
     "name": "stdout",
     "output_type": "stream",
     "text": [
      "Scaler: StandardScaler\n",
      "Resampler: SMOTEENN\n",
      "Classifier: LogisticRegression\n",
      "Balanced Accuracy: 0.8239629642277694\n",
      "Classification Report:\n",
      "              precision    recall  f1-score   support\n",
      "\n",
      "           0       0.97      0.93      0.95     17383\n",
      "           1       0.47      0.72      0.57      1506\n",
      "\n",
      "    accuracy                           0.91     18889\n",
      "   macro avg       0.72      0.82      0.76     18889\n",
      "weighted avg       0.93      0.91      0.92     18889\n",
      "\n",
      "================================================================================\n"
     ]
    },
    {
     "name": "stderr",
     "output_type": "stream",
     "text": [
      "\n",
      "\u001b[A"
     ]
    },
    {
     "name": "stdout",
     "output_type": "stream",
     "text": [
      "Scaler: StandardScaler\n",
      "Resampler: SMOTEENN\n",
      "Classifier: XGBoost\n",
      "Balanced Accuracy: 0.7760500119218614\n",
      "Classification Report:\n",
      "              precision    recall  f1-score   support\n",
      "\n",
      "           0       0.96      0.99      0.98     17383\n",
      "           1       0.91      0.56      0.69      1506\n",
      "\n",
      "    accuracy                           0.96     18889\n",
      "   macro avg       0.93      0.78      0.83     18889\n",
      "weighted avg       0.96      0.96      0.96     18889\n",
      "\n",
      "================================================================================\n"
     ]
    },
    {
     "name": "stderr",
     "output_type": "stream",
     "text": [
      "\n",
      "\u001b[A"
     ]
    },
    {
     "name": "stdout",
     "output_type": "stream",
     "text": [
      "Scaler: StandardScaler\n",
      "Resampler: SMOTEENN\n",
      "Classifier: CatBoost\n",
      "Balanced Accuracy: 0.7727406735786724\n",
      "Classification Report:\n",
      "              precision    recall  f1-score   support\n",
      "\n",
      "           0       0.96      1.00      0.98     17383\n",
      "           1       0.94      0.55      0.69      1506\n",
      "\n",
      "    accuracy                           0.96     18889\n",
      "   macro avg       0.95      0.77      0.84     18889\n",
      "weighted avg       0.96      0.96      0.96     18889\n",
      "\n",
      "================================================================================\n"
     ]
    },
    {
     "name": "stderr",
     "output_type": "stream",
     "text": [
      "\n",
      "\u001b[A"
     ]
    },
    {
     "name": "stdout",
     "output_type": "stream",
     "text": [
      "Scaler: StandardScaler\n",
      "Resampler: SMOTEENN\n",
      "Classifier: KNeighbors\n",
      "Balanced Accuracy: 0.7001985920056375\n",
      "Classification Report:\n",
      "              precision    recall  f1-score   support\n",
      "\n",
      "           0       0.96      0.75      0.84     17383\n",
      "           1       0.18      0.65      0.29      1506\n",
      "\n",
      "    accuracy                           0.74     18889\n",
      "   macro avg       0.57      0.70      0.56     18889\n",
      "weighted avg       0.90      0.74      0.80     18889\n",
      "\n",
      "================================================================================\n"
     ]
    },
    {
     "name": "stderr",
     "output_type": "stream",
     "text": [
      "\n",
      "\u001b[A"
     ]
    },
    {
     "name": "stdout",
     "output_type": "stream",
     "text": [
      "Scaler: StandardScaler\n",
      "Resampler: SMOTEENN\n",
      "Classifier: DecisionTree\n",
      "Balanced Accuracy: 0.7657026117089104\n",
      "Classification Report:\n",
      "              precision    recall  f1-score   support\n",
      "\n",
      "           0       0.96      0.93      0.95     17383\n",
      "           1       0.43      0.60      0.50      1506\n",
      "\n",
      "    accuracy                           0.90     18889\n",
      "   macro avg       0.70      0.77      0.72     18889\n",
      "weighted avg       0.92      0.90      0.91     18889\n",
      "\n",
      "================================================================================\n",
      "Scaler: StandardScaler\n",
      "Resampler: SMOTEENN\n",
      "Classifier: GaussianNB\n",
      "Balanced Accuracy: 0.7631146013655783\n",
      "Classification Report:\n",
      "              precision    recall  f1-score   support\n",
      "\n",
      "           0       0.96      0.97      0.97     17383\n",
      "           1       0.64      0.55      0.59      1506\n",
      "\n",
      "    accuracy                           0.94     18889\n",
      "   macro avg       0.80      0.76      0.78     18889\n",
      "weighted avg       0.94      0.94      0.94     18889\n",
      "\n",
      "================================================================================\n"
     ]
    },
    {
     "name": "stderr",
     "output_type": "stream",
     "text": [
      "\n",
      "\u001b[A"
     ]
    },
    {
     "name": "stdout",
     "output_type": "stream",
     "text": [
      "Scaler: StandardScaler\n",
      "Resampler: SMOTEENN\n",
      "Classifier: GradientBoosting\n",
      "Balanced Accuracy: 0.7943387049321363\n",
      "Classification Report:\n",
      "              precision    recall  f1-score   support\n",
      "\n",
      "           0       0.97      0.97      0.97     17383\n",
      "           1       0.65      0.62      0.64      1506\n",
      "\n",
      "    accuracy                           0.94     18889\n",
      "   macro avg       0.81      0.79      0.80     18889\n",
      "weighted avg       0.94      0.94      0.94     18889\n",
      "\n",
      "================================================================================\n"
     ]
    },
    {
     "name": "stderr",
     "output_type": "stream",
     "text": [
      "\n",
      "\u001b[A"
     ]
    },
    {
     "name": "stdout",
     "output_type": "stream",
     "text": [
      "Scaler: StandardScaler\n",
      "Resampler: SMOTEENN\n",
      "Classifier: AdaBoost\n",
      "Balanced Accuracy: 0.8009744947036912\n",
      "Classification Report:\n",
      "              precision    recall  f1-score   support\n",
      "\n",
      "           0       0.97      0.96      0.96     17383\n",
      "           1       0.57      0.64      0.61      1506\n",
      "\n",
      "    accuracy                           0.93     18889\n",
      "   macro avg       0.77      0.80      0.79     18889\n",
      "weighted avg       0.94      0.93      0.94     18889\n",
      "\n",
      "================================================================================\n"
     ]
    },
    {
     "name": "stderr",
     "output_type": "stream",
     "text": [
      "\n",
      "\u001b[A\n",
      "\u001b[A"
     ]
    },
    {
     "name": "stdout",
     "output_type": "stream",
     "text": [
      "Scaler: StandardScaler\n",
      "Resampler: SMOTEENN\n",
      "Classifier: Bagging\n",
      "Balanced Accuracy: 0.7788728115018879\n",
      "Classification Report:\n",
      "              precision    recall  f1-score   support\n",
      "\n",
      "           0       0.96      0.99      0.98     17383\n",
      "           1       0.84      0.57      0.68      1506\n",
      "\n",
      "    accuracy                           0.96     18889\n",
      "   macro avg       0.90      0.78      0.83     18889\n",
      "weighted avg       0.95      0.96      0.95     18889\n",
      "\n",
      "================================================================================\n"
     ]
    },
    {
     "name": "stderr",
     "output_type": "stream",
     "text": [
      "\n",
      "\u001b[A\n",
      "\u001b[A"
     ]
    },
    {
     "name": "stdout",
     "output_type": "stream",
     "text": [
      "Scaler: StandardScaler\n",
      "Resampler: RandomUnderSampler\n",
      "Classifier: RandomForest\n",
      "Balanced Accuracy: 0.8228026359346217\n",
      "Classification Report:\n",
      "              precision    recall  f1-score   support\n",
      "\n",
      "           0       0.97      0.93      0.95     17383\n",
      "           1       0.48      0.71      0.57      1506\n",
      "\n",
      "    accuracy                           0.92     18889\n",
      "   macro avg       0.73      0.82      0.76     18889\n",
      "weighted avg       0.93      0.92      0.92     18889\n",
      "\n",
      "================================================================================\n",
      "Scaler: StandardScaler\n",
      "Resampler: RandomUnderSampler\n",
      "Classifier: LogisticRegression\n",
      "Balanced Accuracy: 0.787691264511075\n",
      "Classification Report:\n",
      "              precision    recall  f1-score   support\n",
      "\n",
      "           0       0.97      0.98      0.97     17383\n",
      "           1       0.68      0.60      0.64      1506\n",
      "\n",
      "    accuracy                           0.95     18889\n",
      "   macro avg       0.82      0.79      0.80     18889\n",
      "weighted avg       0.94      0.95      0.94     18889\n",
      "\n",
      "================================================================================\n"
     ]
    },
    {
     "name": "stderr",
     "output_type": "stream",
     "text": [
      "\n",
      "\u001b[A"
     ]
    },
    {
     "name": "stdout",
     "output_type": "stream",
     "text": [
      "Scaler: StandardScaler\n",
      "Resampler: RandomUnderSampler\n",
      "Classifier: XGBoost\n",
      "Balanced Accuracy: 0.7988556044475381\n",
      "Classification Report:\n",
      "              precision    recall  f1-score   support\n",
      "\n",
      "           0       0.97      0.89      0.93     17383\n",
      "           1       0.35      0.71      0.47      1506\n",
      "\n",
      "    accuracy                           0.87     18889\n",
      "   macro avg       0.66      0.80      0.70     18889\n",
      "weighted avg       0.92      0.87      0.89     18889\n",
      "\n",
      "================================================================================\n"
     ]
    },
    {
     "name": "stderr",
     "output_type": "stream",
     "text": [
      "\n",
      "\u001b[A\n",
      "\u001b[A"
     ]
    },
    {
     "name": "stdout",
     "output_type": "stream",
     "text": [
      "Scaler: StandardScaler\n",
      "Resampler: RandomUnderSampler\n",
      "Classifier: CatBoost\n",
      "Balanced Accuracy: 0.8216150527613988\n",
      "Classification Report:\n",
      "              precision    recall  f1-score   support\n",
      "\n",
      "           0       0.97      0.93      0.95     17383\n",
      "           1       0.46      0.72      0.56      1506\n",
      "\n",
      "    accuracy                           0.91     18889\n",
      "   macro avg       0.72      0.82      0.76     18889\n",
      "weighted avg       0.93      0.91      0.92     18889\n",
      "\n",
      "================================================================================\n",
      "Scaler: StandardScaler\n",
      "Resampler: RandomUnderSampler\n",
      "Classifier: KNeighbors\n",
      "Balanced Accuracy: 0.7196943687024897\n",
      "Classification Report:\n",
      "              precision    recall  f1-score   support\n",
      "\n",
      "           0       0.96      0.82      0.89     17383\n",
      "           1       0.23      0.62      0.34      1506\n",
      "\n",
      "    accuracy                           0.81     18889\n",
      "   macro avg       0.60      0.72      0.61     18889\n",
      "weighted avg       0.90      0.81      0.84     18889\n",
      "\n",
      "================================================================================\n"
     ]
    },
    {
     "name": "stderr",
     "output_type": "stream",
     "text": [
      "\n",
      "\u001b[A"
     ]
    },
    {
     "name": "stdout",
     "output_type": "stream",
     "text": [
      "Scaler: StandardScaler\n",
      "Resampler: RandomUnderSampler\n",
      "Classifier: DecisionTree\n",
      "Balanced Accuracy: 0.727151204574022\n",
      "Classification Report:\n",
      "              precision    recall  f1-score   support\n",
      "\n",
      "           0       0.97      0.71      0.82     17383\n",
      "           1       0.18      0.74      0.29      1506\n",
      "\n",
      "    accuracy                           0.71     18889\n",
      "   macro avg       0.58      0.73      0.56     18889\n",
      "weighted avg       0.91      0.71      0.78     18889\n",
      "\n",
      "================================================================================\n",
      "Scaler: StandardScaler\n",
      "Resampler: RandomUnderSampler\n",
      "Classifier: GaussianNB\n",
      "Balanced Accuracy: 0.7613707283275573\n",
      "Classification Report:\n",
      "              precision    recall  f1-score   support\n",
      "\n",
      "           0       0.96      0.97      0.97     17383\n",
      "           1       0.62      0.55      0.58      1506\n",
      "\n",
      "    accuracy                           0.94     18889\n",
      "   macro avg       0.79      0.76      0.78     18889\n",
      "weighted avg       0.93      0.94      0.94     18889\n",
      "\n",
      "================================================================================\n"
     ]
    },
    {
     "name": "stderr",
     "output_type": "stream",
     "text": [
      "\n",
      "\u001b[A"
     ]
    },
    {
     "name": "stdout",
     "output_type": "stream",
     "text": [
      "Scaler: StandardScaler\n",
      "Resampler: RandomUnderSampler\n",
      "Classifier: GradientBoosting\n",
      "Balanced Accuracy: 0.8235841462239787\n",
      "Classification Report:\n",
      "              precision    recall  f1-score   support\n",
      "\n",
      "           0       0.97      0.93      0.95     17383\n",
      "           1       0.48      0.71      0.57      1506\n",
      "\n",
      "    accuracy                           0.92     18889\n",
      "   macro avg       0.73      0.82      0.76     18889\n",
      "weighted avg       0.93      0.92      0.92     18889\n",
      "\n",
      "================================================================================\n"
     ]
    },
    {
     "name": "stderr",
     "output_type": "stream",
     "text": [
      "\n",
      "\u001b[A"
     ]
    },
    {
     "name": "stdout",
     "output_type": "stream",
     "text": [
      "Scaler: StandardScaler\n",
      "Resampler: RandomUnderSampler\n",
      "Classifier: AdaBoost\n",
      "Balanced Accuracy: 0.8249804097193462\n",
      "Classification Report:\n",
      "              precision    recall  f1-score   support\n",
      "\n",
      "           0       0.97      0.93      0.95     17383\n",
      "           1       0.49      0.72      0.58      1506\n",
      "\n",
      "    accuracy                           0.92     18889\n",
      "   macro avg       0.73      0.82      0.77     18889\n",
      "weighted avg       0.94      0.92      0.92     18889\n",
      "\n",
      "================================================================================\n"
     ]
    },
    {
     "name": "stderr",
     "output_type": "stream",
     "text": [
      "\n",
      "\u001b[A\n",
      "\u001b[A"
     ]
    },
    {
     "name": "stdout",
     "output_type": "stream",
     "text": [
      "Scaler: StandardScaler\n",
      "Resampler: RandomUnderSampler\n",
      "Classifier: Bagging\n",
      "Balanced Accuracy: 0.7978492366227052\n",
      "Classification Report:\n",
      "              precision    recall  f1-score   support\n",
      "\n",
      "           0       0.97      0.91      0.94     17383\n",
      "           1       0.39      0.69      0.50      1506\n",
      "\n",
      "    accuracy                           0.89     18889\n",
      "   macro avg       0.68      0.80      0.72     18889\n",
      "weighted avg       0.92      0.89      0.90     18889\n",
      "\n",
      "================================================================================\n"
     ]
    },
    {
     "name": "stderr",
     "output_type": "stream",
     "text": [
      "\n",
      "\u001b[A\n",
      "\u001b[A"
     ]
    },
    {
     "name": "stdout",
     "output_type": "stream",
     "text": [
      "Scaler: StandardScaler\n",
      "Resampler: NearMiss\n",
      "Classifier: RandomForest\n",
      "Balanced Accuracy: 0.7455709196426819\n",
      "Classification Report:\n",
      "              precision    recall  f1-score   support\n",
      "\n",
      "           0       0.97      0.71      0.82     17383\n",
      "           1       0.19      0.78      0.30      1506\n",
      "\n",
      "    accuracy                           0.72     18889\n",
      "   macro avg       0.58      0.75      0.56     18889\n",
      "weighted avg       0.91      0.72      0.78     18889\n",
      "\n",
      "================================================================================\n",
      "Scaler: StandardScaler\n",
      "Resampler: NearMiss\n",
      "Classifier: LogisticRegression\n",
      "Balanced Accuracy: 0.7592317645752873\n",
      "Classification Report:\n",
      "              precision    recall  f1-score   support\n",
      "\n",
      "           0       0.97      0.82      0.89     17383\n",
      "           1       0.25      0.69      0.37      1506\n",
      "\n",
      "    accuracy                           0.81     18889\n",
      "   macro avg       0.61      0.76      0.63     18889\n",
      "weighted avg       0.91      0.81      0.85     18889\n",
      "\n",
      "================================================================================\n"
     ]
    },
    {
     "name": "stderr",
     "output_type": "stream",
     "text": [
      "\n",
      "\u001b[A"
     ]
    },
    {
     "name": "stdout",
     "output_type": "stream",
     "text": [
      "Scaler: StandardScaler\n",
      "Resampler: NearMiss\n",
      "Classifier: XGBoost\n",
      "Balanced Accuracy: 0.7120987755052772\n",
      "Classification Report:\n",
      "              precision    recall  f1-score   support\n",
      "\n",
      "           0       0.97      0.63      0.76     17383\n",
      "           1       0.16      0.79      0.26      1506\n",
      "\n",
      "    accuracy                           0.64     18889\n",
      "   macro avg       0.56      0.71      0.51     18889\n",
      "weighted avg       0.91      0.64      0.72     18889\n",
      "\n",
      "================================================================================\n"
     ]
    },
    {
     "name": "stderr",
     "output_type": "stream",
     "text": [
      "\n",
      "\u001b[A\n",
      "\u001b[A"
     ]
    },
    {
     "name": "stdout",
     "output_type": "stream",
     "text": [
      "Scaler: StandardScaler\n",
      "Resampler: NearMiss\n",
      "Classifier: CatBoost\n",
      "Balanced Accuracy: 0.728342015550141\n",
      "Classification Report:\n",
      "              precision    recall  f1-score   support\n",
      "\n",
      "           0       0.97      0.66      0.79     17383\n",
      "           1       0.17      0.80      0.28      1506\n",
      "\n",
      "    accuracy                           0.67     18889\n",
      "   macro avg       0.57      0.73      0.53     18889\n",
      "weighted avg       0.91      0.67      0.75     18889\n",
      "\n",
      "================================================================================\n",
      "Scaler: StandardScaler\n",
      "Resampler: NearMiss\n",
      "Classifier: KNeighbors\n",
      "Balanced Accuracy: 0.7349165725637976\n",
      "Classification Report:\n",
      "              precision    recall  f1-score   support\n",
      "\n",
      "           0       0.96      0.88      0.92     17383\n",
      "           1       0.30      0.59      0.40      1506\n",
      "\n",
      "    accuracy                           0.86     18889\n",
      "   macro avg       0.63      0.73      0.66     18889\n",
      "weighted avg       0.91      0.86      0.88     18889\n",
      "\n",
      "================================================================================\n"
     ]
    },
    {
     "name": "stderr",
     "output_type": "stream",
     "text": [
      "\n",
      "\u001b[A"
     ]
    },
    {
     "name": "stdout",
     "output_type": "stream",
     "text": [
      "Scaler: StandardScaler\n",
      "Resampler: NearMiss\n",
      "Classifier: DecisionTree\n",
      "Balanced Accuracy: 0.6853084507546909\n",
      "Classification Report:\n",
      "              precision    recall  f1-score   support\n",
      "\n",
      "           0       0.97      0.59      0.73     17383\n",
      "           1       0.14      0.78      0.24      1506\n",
      "\n",
      "    accuracy                           0.61     18889\n",
      "   macro avg       0.56      0.69      0.49     18889\n",
      "weighted avg       0.90      0.61      0.69     18889\n",
      "\n",
      "================================================================================\n",
      "Scaler: StandardScaler\n",
      "Resampler: NearMiss\n",
      "Classifier: GaussianNB\n",
      "Balanced Accuracy: 0.7575398992726863\n",
      "Classification Report:\n",
      "              precision    recall  f1-score   support\n",
      "\n",
      "           0       0.96      0.94      0.95     17383\n",
      "           1       0.46      0.57      0.51      1506\n",
      "\n",
      "    accuracy                           0.91     18889\n",
      "   macro avg       0.71      0.76      0.73     18889\n",
      "weighted avg       0.92      0.91      0.92     18889\n",
      "\n",
      "================================================================================\n"
     ]
    },
    {
     "name": "stderr",
     "output_type": "stream",
     "text": [
      "\n",
      "\u001b[A"
     ]
    },
    {
     "name": "stdout",
     "output_type": "stream",
     "text": [
      "Scaler: StandardScaler\n",
      "Resampler: NearMiss\n",
      "Classifier: GradientBoosting\n",
      "Balanced Accuracy: 0.7424864388349686\n",
      "Classification Report:\n",
      "              precision    recall  f1-score   support\n",
      "\n",
      "           0       0.97      0.69      0.81     17383\n",
      "           1       0.18      0.79      0.30      1506\n",
      "\n",
      "    accuracy                           0.70     18889\n",
      "   macro avg       0.58      0.74      0.55     18889\n",
      "weighted avg       0.91      0.70      0.77     18889\n",
      "\n",
      "================================================================================\n"
     ]
    },
    {
     "name": "stderr",
     "output_type": "stream",
     "text": [
      "\n",
      "\u001b[A"
     ]
    },
    {
     "name": "stdout",
     "output_type": "stream",
     "text": [
      "Scaler: StandardScaler\n",
      "Resampler: NearMiss\n",
      "Classifier: AdaBoost\n",
      "Balanced Accuracy: 0.7195617422923696\n",
      "Classification Report:\n",
      "              precision    recall  f1-score   support\n",
      "\n",
      "           0       0.97      0.65      0.78     17383\n",
      "           1       0.16      0.79      0.27      1506\n",
      "\n",
      "    accuracy                           0.66     18889\n",
      "   macro avg       0.57      0.72      0.52     18889\n",
      "weighted avg       0.91      0.66      0.74     18889\n",
      "\n",
      "================================================================================\n"
     ]
    },
    {
     "name": "stderr",
     "output_type": "stream",
     "text": [
      "\n",
      "\u001b[A\n",
      "\u001b[A"
     ]
    },
    {
     "name": "stdout",
     "output_type": "stream",
     "text": [
      "Scaler: StandardScaler\n",
      "Resampler: NearMiss\n",
      "Classifier: Bagging\n",
      "Balanced Accuracy: 0.7402022430518009\n",
      "Classification Report:\n",
      "              precision    recall  f1-score   support\n",
      "\n",
      "           0       0.97      0.72      0.83     17383\n",
      "           1       0.19      0.76      0.30      1506\n",
      "\n",
      "    accuracy                           0.72     18889\n",
      "   macro avg       0.58      0.74      0.56     18889\n",
      "weighted avg       0.91      0.72      0.78     18889\n",
      "\n",
      "================================================================================\n"
     ]
    },
    {
     "name": "stderr",
     "output_type": "stream",
     "text": [
      "\n",
      "\u001b[A\n",
      "\u001b[A"
     ]
    },
    {
     "name": "stdout",
     "output_type": "stream",
     "text": [
      "Scaler: StandardScaler\n",
      "Resampler: TomekLinks\n",
      "Classifier: RandomForest\n",
      "Balanced Accuracy: 0.7708875709266713\n",
      "Classification Report:\n",
      "              precision    recall  f1-score   support\n",
      "\n",
      "           0       0.96      1.00      0.98     17383\n",
      "           1       1.00      0.54      0.70      1506\n",
      "\n",
      "    accuracy                           0.96     18889\n",
      "   macro avg       0.98      0.77      0.84     18889\n",
      "weighted avg       0.96      0.96      0.96     18889\n",
      "\n",
      "================================================================================\n"
     ]
    },
    {
     "name": "stderr",
     "output_type": "stream",
     "text": [
      "\n",
      "\u001b[A"
     ]
    },
    {
     "name": "stdout",
     "output_type": "stream",
     "text": [
      "Scaler: StandardScaler\n",
      "Resampler: TomekLinks\n",
      "Classifier: LogisticRegression\n",
      "Balanced Accuracy: 0.7685996316561211\n",
      "Classification Report:\n",
      "              precision    recall  f1-score   support\n",
      "\n",
      "           0       0.96      1.00      0.98     17383\n",
      "           1       0.92      0.54      0.68      1506\n",
      "\n",
      "    accuracy                           0.96     18889\n",
      "   macro avg       0.94      0.77      0.83     18889\n",
      "weighted avg       0.96      0.96      0.95     18889\n",
      "\n",
      "================================================================================\n"
     ]
    },
    {
     "name": "stderr",
     "output_type": "stream",
     "text": [
      "\n",
      "\u001b[A"
     ]
    },
    {
     "name": "stdout",
     "output_type": "stream",
     "text": [
      "Scaler: StandardScaler\n",
      "Resampler: TomekLinks\n",
      "Classifier: XGBoost\n",
      "Balanced Accuracy: 0.7726675418787371\n",
      "Classification Report:\n",
      "              precision    recall  f1-score   support\n",
      "\n",
      "           0       0.96      1.00      0.98     17383\n",
      "           1       0.95      0.55      0.70      1506\n",
      "\n",
      "    accuracy                           0.96     18889\n",
      "   macro avg       0.96      0.77      0.84     18889\n",
      "weighted avg       0.96      0.96      0.96     18889\n",
      "\n",
      "================================================================================\n"
     ]
    },
    {
     "name": "stderr",
     "output_type": "stream",
     "text": [
      "\n",
      "\u001b[A"
     ]
    },
    {
     "name": "stdout",
     "output_type": "stream",
     "text": [
      "Scaler: StandardScaler\n",
      "Resampler: TomekLinks\n",
      "Classifier: CatBoost\n",
      "Balanced Accuracy: 0.7712064167346415\n",
      "Classification Report:\n",
      "              precision    recall  f1-score   support\n",
      "\n",
      "           0       0.96      1.00      0.98     17383\n",
      "           1       0.98      0.54      0.70      1506\n",
      "\n",
      "    accuracy                           0.96     18889\n",
      "   macro avg       0.97      0.77      0.84     18889\n",
      "weighted avg       0.96      0.96      0.96     18889\n",
      "\n",
      "================================================================================\n"
     ]
    },
    {
     "name": "stderr",
     "output_type": "stream",
     "text": [
      "\n",
      "\u001b[A"
     ]
    },
    {
     "name": "stdout",
     "output_type": "stream",
     "text": [
      "Scaler: StandardScaler\n",
      "Resampler: TomekLinks\n",
      "Classifier: KNeighbors\n",
      "Balanced Accuracy: 0.7705448508369254\n",
      "Classification Report:\n",
      "              precision    recall  f1-score   support\n",
      "\n",
      "           0       0.96      1.00      0.98     17383\n",
      "           1       0.96      0.54      0.69      1506\n",
      "\n",
      "    accuracy                           0.96     18889\n",
      "   macro avg       0.96      0.77      0.84     18889\n",
      "weighted avg       0.96      0.96      0.96     18889\n",
      "\n",
      "================================================================================\n"
     ]
    },
    {
     "name": "stderr",
     "output_type": "stream",
     "text": [
      "\n",
      "\u001b[A"
     ]
    },
    {
     "name": "stdout",
     "output_type": "stream",
     "text": [
      "Scaler: StandardScaler\n",
      "Resampler: TomekLinks\n",
      "Classifier: DecisionTree\n",
      "Balanced Accuracy: 0.7692760760062398\n",
      "Classification Report:\n",
      "              precision    recall  f1-score   support\n",
      "\n",
      "           0       0.96      0.95      0.96     17383\n",
      "           1       0.51      0.59      0.54      1506\n",
      "\n",
      "    accuracy                           0.92     18889\n",
      "   macro avg       0.73      0.77      0.75     18889\n",
      "weighted avg       0.93      0.92      0.92     18889\n",
      "\n",
      "================================================================================\n",
      "Scaler: StandardScaler\n",
      "Resampler: TomekLinks\n",
      "Classifier: GaussianNB\n",
      "Balanced Accuracy: 0.7670824878972671\n",
      "Classification Report:\n",
      "              precision    recall  f1-score   support\n",
      "\n",
      "           0       0.96      0.99      0.98     17383\n",
      "           1       0.81      0.55      0.65      1506\n",
      "\n",
      "    accuracy                           0.95     18889\n",
      "   macro avg       0.89      0.77      0.81     18889\n",
      "weighted avg       0.95      0.95      0.95     18889\n",
      "\n",
      "================================================================================\n"
     ]
    },
    {
     "name": "stderr",
     "output_type": "stream",
     "text": [
      "\n",
      "\u001b[A"
     ]
    },
    {
     "name": "stdout",
     "output_type": "stream",
     "text": [
      "Scaler: StandardScaler\n",
      "Resampler: TomekLinks\n",
      "Classifier: GradientBoosting\n",
      "Balanced Accuracy: 0.7709163346613546\n",
      "Classification Report:\n",
      "              precision    recall  f1-score   support\n",
      "\n",
      "           0       0.96      1.00      0.98     17383\n",
      "           1       1.00      0.54      0.70      1506\n",
      "\n",
      "    accuracy                           0.96     18889\n",
      "   macro avg       0.98      0.77      0.84     18889\n",
      "weighted avg       0.96      0.96      0.96     18889\n",
      "\n",
      "================================================================================\n"
     ]
    },
    {
     "name": "stderr",
     "output_type": "stream",
     "text": [
      "\n",
      "\u001b[A"
     ]
    },
    {
     "name": "stdout",
     "output_type": "stream",
     "text": [
      "Scaler: StandardScaler\n",
      "Resampler: TomekLinks\n",
      "Classifier: AdaBoost\n",
      "Balanced Accuracy: 0.7708875709266713\n",
      "Classification Report:\n",
      "              precision    recall  f1-score   support\n",
      "\n",
      "           0       0.96      1.00      0.98     17383\n",
      "           1       1.00      0.54      0.70      1506\n",
      "\n",
      "    accuracy                           0.96     18889\n",
      "   macro avg       0.98      0.77      0.84     18889\n",
      "weighted avg       0.96      0.96      0.96     18889\n",
      "\n",
      "================================================================================\n"
     ]
    },
    {
     "name": "stderr",
     "output_type": "stream",
     "text": [
      "\n",
      "\u001b[A\n",
      "\u001b[A"
     ]
    },
    {
     "name": "stdout",
     "output_type": "stream",
     "text": [
      "Scaler: StandardScaler\n",
      "Resampler: TomekLinks\n",
      "Classifier: Bagging\n",
      "Balanced Accuracy: 0.7722624048667169\n",
      "Classification Report:\n",
      "              precision    recall  f1-score   support\n",
      "\n",
      "           0       0.96      1.00      0.98     17383\n",
      "           1       0.96      0.55      0.70      1506\n",
      "\n",
      "    accuracy                           0.96     18889\n",
      "   macro avg       0.96      0.77      0.84     18889\n",
      "weighted avg       0.96      0.96      0.96     18889\n",
      "\n",
      "================================================================================\n"
     ]
    },
    {
     "name": "stderr",
     "output_type": "stream",
     "text": [
      "\n",
      "\u001b[A\n",
      "\u001b[A"
     ]
    },
    {
     "name": "stdout",
     "output_type": "stream",
     "text": [
      "Scaler: StandardScaler\n",
      "Resampler: ClusterCentroids\n",
      "Classifier: RandomForest\n",
      "Balanced Accuracy: 0.5033604675050398\n",
      "Classification Report:\n",
      "              precision    recall  f1-score   support\n",
      "\n",
      "           0       0.98      0.01      0.02     17383\n",
      "           1       0.08      1.00      0.15      1506\n",
      "\n",
      "    accuracy                           0.09     18889\n",
      "   macro avg       0.53      0.50      0.08     18889\n",
      "weighted avg       0.90      0.09      0.03     18889\n",
      "\n",
      "================================================================================\n",
      "Scaler: StandardScaler\n",
      "Resampler: ClusterCentroids\n",
      "Classifier: LogisticRegression\n",
      "Balanced Accuracy: 0.7717700407788012\n",
      "Classification Report:\n",
      "              precision    recall  f1-score   support\n",
      "\n",
      "           0       0.96      0.99      0.98     17383\n",
      "           1       0.84      0.55      0.67      1506\n",
      "\n",
      "    accuracy                           0.96     18889\n",
      "   macro avg       0.90      0.77      0.82     18889\n",
      "weighted avg       0.95      0.96      0.95     18889\n",
      "\n",
      "================================================================================\n"
     ]
    },
    {
     "name": "stderr",
     "output_type": "stream",
     "text": [
      "\n",
      "\u001b[A"
     ]
    },
    {
     "name": "stdout",
     "output_type": "stream",
     "text": [
      "Scaler: StandardScaler\n",
      "Resampler: ClusterCentroids\n",
      "Classifier: XGBoost\n",
      "Balanced Accuracy: 0.5004889834896163\n",
      "Classification Report:\n",
      "              precision    recall  f1-score   support\n",
      "\n",
      "           0       1.00      0.00      0.00     17383\n",
      "           1       0.08      1.00      0.15      1506\n",
      "\n",
      "    accuracy                           0.08     18889\n",
      "   macro avg       0.54      0.50      0.07     18889\n",
      "weighted avg       0.93      0.08      0.01     18889\n",
      "\n",
      "================================================================================\n"
     ]
    },
    {
     "name": "stderr",
     "output_type": "stream",
     "text": [
      "\n",
      "\u001b[A\n",
      "\u001b[A"
     ]
    },
    {
     "name": "stdout",
     "output_type": "stream",
     "text": [
      "Scaler: StandardScaler\n",
      "Resampler: ClusterCentroids\n",
      "Classifier: CatBoost\n",
      "Balanced Accuracy: 0.500373928550883\n",
      "Classification Report:\n",
      "              precision    recall  f1-score   support\n",
      "\n",
      "           0       1.00      0.00      0.00     17383\n",
      "           1       0.08      1.00      0.15      1506\n",
      "\n",
      "    accuracy                           0.08     18889\n",
      "   macro avg       0.54      0.50      0.07     18889\n",
      "weighted avg       0.93      0.08      0.01     18889\n",
      "\n",
      "================================================================================\n",
      "Scaler: StandardScaler\n",
      "Resampler: ClusterCentroids\n",
      "Classifier: KNeighbors\n",
      "Balanced Accuracy: 0.7635392961892291\n",
      "Classification Report:\n",
      "              precision    recall  f1-score   support\n",
      "\n",
      "           0       0.96      0.96      0.96     17383\n",
      "           1       0.56      0.57      0.56      1506\n",
      "\n",
      "    accuracy                           0.93     18889\n",
      "   macro avg       0.76      0.76      0.76     18889\n",
      "weighted avg       0.93      0.93      0.93     18889\n",
      "\n",
      "================================================================================\n"
     ]
    },
    {
     "name": "stderr",
     "output_type": "stream",
     "text": [
      "\n",
      "\u001b[A"
     ]
    },
    {
     "name": "stdout",
     "output_type": "stream",
     "text": [
      "Scaler: StandardScaler\n",
      "Resampler: ClusterCentroids\n",
      "Classifier: DecisionTree\n",
      "Balanced Accuracy: 0.5183711834286662\n",
      "Classification Report:\n",
      "              precision    recall  f1-score   support\n",
      "\n",
      "           0       0.98      0.05      0.09     17383\n",
      "           1       0.08      0.99      0.15      1506\n",
      "\n",
      "    accuracy                           0.12     18889\n",
      "   macro avg       0.53      0.52      0.12     18889\n",
      "weighted avg       0.91      0.12      0.10     18889\n",
      "\n",
      "================================================================================\n",
      "Scaler: StandardScaler\n",
      "Resampler: ClusterCentroids\n",
      "Classifier: GaussianNB\n",
      "Balanced Accuracy: 0.7515799808684875\n",
      "Classification Report:\n",
      "              precision    recall  f1-score   support\n",
      "\n",
      "           0       0.96      0.93      0.94     17383\n",
      "           1       0.40      0.58      0.47      1506\n",
      "\n",
      "    accuracy                           0.90     18889\n",
      "   macro avg       0.68      0.75      0.71     18889\n",
      "weighted avg       0.92      0.90      0.91     18889\n",
      "\n",
      "================================================================================\n"
     ]
    },
    {
     "name": "stderr",
     "output_type": "stream",
     "text": [
      "\n",
      "\u001b[A"
     ]
    },
    {
     "name": "stdout",
     "output_type": "stream",
     "text": [
      "Scaler: StandardScaler\n",
      "Resampler: ClusterCentroids\n",
      "Classifier: GradientBoosting\n",
      "Balanced Accuracy: 0.5008892310487288\n",
      "Classification Report:\n",
      "              precision    recall  f1-score   support\n",
      "\n",
      "           0       0.96      0.00      0.01     17383\n",
      "           1       0.08      1.00      0.15      1506\n",
      "\n",
      "    accuracy                           0.08     18889\n",
      "   macro avg       0.52      0.50      0.08     18889\n",
      "weighted avg       0.89      0.08      0.02     18889\n",
      "\n",
      "================================================================================\n"
     ]
    },
    {
     "name": "stderr",
     "output_type": "stream",
     "text": [
      "\n",
      "\u001b[A"
     ]
    },
    {
     "name": "stdout",
     "output_type": "stream",
     "text": [
      "Scaler: StandardScaler\n",
      "Resampler: ClusterCentroids\n",
      "Classifier: AdaBoost\n",
      "Balanced Accuracy: 0.5071728847138054\n",
      "Classification Report:\n",
      "              precision    recall  f1-score   support\n",
      "\n",
      "           0       0.99      0.02      0.03     17383\n",
      "           1       0.08      1.00      0.15      1506\n",
      "\n",
      "    accuracy                           0.09     18889\n",
      "   macro avg       0.54      0.51      0.09     18889\n",
      "weighted avg       0.92      0.09      0.04     18889\n",
      "\n",
      "================================================================================\n"
     ]
    },
    {
     "name": "stderr",
     "output_type": "stream",
     "text": [
      "\n",
      "\u001b[A\n",
      "Scalers:  33%|███▎      | 1/3 [16:27<32:55, 987.56s/it]"
     ]
    },
    {
     "name": "stdout",
     "output_type": "stream",
     "text": [
      "Scaler: StandardScaler\n",
      "Resampler: ClusterCentroids\n",
      "Classifier: Bagging\n",
      "Balanced Accuracy: 0.5080859900443099\n",
      "Classification Report:\n",
      "              precision    recall  f1-score   support\n",
      "\n",
      "           0       0.98      0.02      0.04     17383\n",
      "           1       0.08      0.99      0.15      1506\n",
      "\n",
      "    accuracy                           0.10     18889\n",
      "   macro avg       0.53      0.51      0.10     18889\n",
      "weighted avg       0.91      0.10      0.05     18889\n",
      "\n",
      "================================================================================\n"
     ]
    },
    {
     "name": "stderr",
     "output_type": "stream",
     "text": [
      "\n",
      "\u001b[A\n",
      "\u001b[A"
     ]
    },
    {
     "name": "stdout",
     "output_type": "stream",
     "text": [
      "Scaler: MinMaxScaler\n",
      "Resampler: SMOTE\n",
      "Classifier: RandomForest\n",
      "Balanced Accuracy: 0.7730702341643034\n",
      "Classification Report:\n",
      "              precision    recall  f1-score   support\n",
      "\n",
      "           0       0.96      1.00      0.98     17383\n",
      "           1       0.97      0.55      0.70      1506\n",
      "\n",
      "    accuracy                           0.96     18889\n",
      "   macro avg       0.96      0.77      0.84     18889\n",
      "weighted avg       0.96      0.96      0.96     18889\n",
      "\n",
      "================================================================================\n"
     ]
    },
    {
     "name": "stderr",
     "output_type": "stream",
     "text": [
      "\n",
      "\u001b[A"
     ]
    },
    {
     "name": "stdout",
     "output_type": "stream",
     "text": [
      "Scaler: MinMaxScaler\n",
      "Resampler: SMOTE\n",
      "Classifier: LogisticRegression\n",
      "Balanced Accuracy: 0.805528007817624\n",
      "Classification Report:\n",
      "              precision    recall  f1-score   support\n",
      "\n",
      "           0       0.97      0.96      0.96     17383\n",
      "           1       0.56      0.66      0.60      1506\n",
      "\n",
      "    accuracy                           0.93     18889\n",
      "   macro avg       0.76      0.81      0.78     18889\n",
      "weighted avg       0.94      0.93      0.93     18889\n",
      "\n",
      "================================================================================\n"
     ]
    },
    {
     "name": "stderr",
     "output_type": "stream",
     "text": [
      "\n",
      "\u001b[A"
     ]
    },
    {
     "name": "stdout",
     "output_type": "stream",
     "text": [
      "Scaler: MinMaxScaler\n",
      "Resampler: SMOTE\n",
      "Classifier: XGBoost\n",
      "Balanced Accuracy: 0.7716139984731155\n",
      "Classification Report:\n",
      "              precision    recall  f1-score   support\n",
      "\n",
      "           0       0.96      1.00      0.98     17383\n",
      "           1       0.95      0.55      0.69      1506\n",
      "\n",
      "    accuracy                           0.96     18889\n",
      "   macro avg       0.96      0.77      0.84     18889\n",
      "weighted avg       0.96      0.96      0.96     18889\n",
      "\n",
      "================================================================================\n"
     ]
    },
    {
     "name": "stderr",
     "output_type": "stream",
     "text": [
      "\n",
      "\u001b[A"
     ]
    },
    {
     "name": "stdout",
     "output_type": "stream",
     "text": [
      "Scaler: MinMaxScaler\n",
      "Resampler: SMOTE\n",
      "Classifier: CatBoost\n",
      "Balanced Accuracy: 0.7716534769854597\n",
      "Classification Report:\n",
      "              precision    recall  f1-score   support\n",
      "\n",
      "           0       0.96      1.00      0.98     17383\n",
      "           1       0.99      0.54      0.70      1506\n",
      "\n",
      "    accuracy                           0.96     18889\n",
      "   macro avg       0.98      0.77      0.84     18889\n",
      "weighted avg       0.96      0.96      0.96     18889\n",
      "\n",
      "================================================================================\n"
     ]
    },
    {
     "name": "stderr",
     "output_type": "stream",
     "text": [
      "\n",
      "\u001b[A"
     ]
    },
    {
     "name": "stdout",
     "output_type": "stream",
     "text": [
      "Scaler: MinMaxScaler\n",
      "Resampler: SMOTE\n",
      "Classifier: KNeighbors\n",
      "Balanced Accuracy: 0.7228525541929007\n",
      "Classification Report:\n",
      "              precision    recall  f1-score   support\n",
      "\n",
      "           0       0.96      0.83      0.89     17383\n",
      "           1       0.24      0.62      0.34      1506\n",
      "\n",
      "    accuracy                           0.81     18889\n",
      "   macro avg       0.60      0.72      0.61     18889\n",
      "weighted avg       0.90      0.81      0.84     18889\n",
      "\n",
      "================================================================================\n"
     ]
    },
    {
     "name": "stderr",
     "output_type": "stream",
     "text": [
      "\n",
      "\u001b[A"
     ]
    },
    {
     "name": "stdout",
     "output_type": "stream",
     "text": [
      "Scaler: MinMaxScaler\n",
      "Resampler: SMOTE\n",
      "Classifier: DecisionTree\n",
      "Balanced Accuracy: 0.7715606346784907\n",
      "Classification Report:\n",
      "              precision    recall  f1-score   support\n",
      "\n",
      "           0       0.96      0.95      0.96     17383\n",
      "           1       0.50      0.59      0.54      1506\n",
      "\n",
      "    accuracy                           0.92     18889\n",
      "   macro avg       0.73      0.77      0.75     18889\n",
      "weighted avg       0.93      0.92      0.92     18889\n",
      "\n",
      "================================================================================\n",
      "Scaler: MinMaxScaler\n",
      "Resampler: SMOTE\n",
      "Classifier: GaussianNB\n",
      "Balanced Accuracy: 0.7626650963883063\n",
      "Classification Report:\n",
      "              precision    recall  f1-score   support\n",
      "\n",
      "           0       0.96      0.97      0.97     17383\n",
      "           1       0.64      0.55      0.59      1506\n",
      "\n",
      "    accuracy                           0.94     18889\n",
      "   macro avg       0.80      0.76      0.78     18889\n",
      "weighted avg       0.94      0.94      0.94     18889\n",
      "\n",
      "================================================================================\n"
     ]
    },
    {
     "name": "stderr",
     "output_type": "stream",
     "text": [
      "\n",
      "\u001b[A"
     ]
    },
    {
     "name": "stdout",
     "output_type": "stream",
     "text": [
      "Scaler: MinMaxScaler\n",
      "Resampler: SMOTE\n",
      "Classifier: GradientBoosting\n",
      "Balanced Accuracy: 0.7745362487613068\n",
      "Classification Report:\n",
      "              precision    recall  f1-score   support\n",
      "\n",
      "           0       0.96      0.99      0.98     17383\n",
      "           1       0.89      0.56      0.68      1506\n",
      "\n",
      "    accuracy                           0.96     18889\n",
      "   macro avg       0.93      0.77      0.83     18889\n",
      "weighted avg       0.96      0.96      0.95     18889\n",
      "\n",
      "================================================================================\n"
     ]
    },
    {
     "name": "stderr",
     "output_type": "stream",
     "text": [
      "\n",
      "\u001b[A"
     ]
    },
    {
     "name": "stdout",
     "output_type": "stream",
     "text": [
      "Scaler: MinMaxScaler\n",
      "Resampler: SMOTE\n",
      "Classifier: AdaBoost\n",
      "Balanced Accuracy: 0.7992447170416304\n",
      "Classification Report:\n",
      "              precision    recall  f1-score   support\n",
      "\n",
      "           0       0.97      0.97      0.97     17383\n",
      "           1       0.61      0.63      0.62      1506\n",
      "\n",
      "    accuracy                           0.94     18889\n",
      "   macro avg       0.79      0.80      0.79     18889\n",
      "weighted avg       0.94      0.94      0.94     18889\n",
      "\n",
      "================================================================================\n"
     ]
    },
    {
     "name": "stderr",
     "output_type": "stream",
     "text": [
      "\n",
      "\u001b[A\n",
      "\u001b[A"
     ]
    },
    {
     "name": "stdout",
     "output_type": "stream",
     "text": [
      "Scaler: MinMaxScaler\n",
      "Resampler: SMOTE\n",
      "Classifier: Bagging\n",
      "Balanced Accuracy: 0.77540160552826\n",
      "Classification Report:\n",
      "              precision    recall  f1-score   support\n",
      "\n",
      "           0       0.96      0.99      0.98     17383\n",
      "           1       0.90      0.56      0.69      1506\n",
      "\n",
      "    accuracy                           0.96     18889\n",
      "   macro avg       0.93      0.78      0.83     18889\n",
      "weighted avg       0.96      0.96      0.96     18889\n",
      "\n",
      "================================================================================\n"
     ]
    },
    {
     "name": "stderr",
     "output_type": "stream",
     "text": [
      "\n",
      "\u001b[A\n",
      "\u001b[A"
     ]
    },
    {
     "name": "stdout",
     "output_type": "stream",
     "text": [
      "Scaler: MinMaxScaler\n",
      "Resampler: SMOTETomek\n",
      "Classifier: RandomForest\n",
      "Balanced Accuracy: 0.7731852891030367\n",
      "Classification Report:\n",
      "              precision    recall  f1-score   support\n",
      "\n",
      "           0       0.96      1.00      0.98     17383\n",
      "           1       0.97      0.55      0.70      1506\n",
      "\n",
      "    accuracy                           0.96     18889\n",
      "   macro avg       0.97      0.77      0.84     18889\n",
      "weighted avg       0.96      0.96      0.96     18889\n",
      "\n",
      "================================================================================\n"
     ]
    },
    {
     "name": "stderr",
     "output_type": "stream",
     "text": [
      "\n",
      "\u001b[A"
     ]
    },
    {
     "name": "stdout",
     "output_type": "stream",
     "text": [
      "Scaler: MinMaxScaler\n",
      "Resampler: SMOTETomek\n",
      "Classifier: LogisticRegression\n",
      "Balanced Accuracy: 0.8044013327120672\n",
      "Classification Report:\n",
      "              precision    recall  f1-score   support\n",
      "\n",
      "           0       0.97      0.96      0.96     17383\n",
      "           1       0.56      0.65      0.60      1506\n",
      "\n",
      "    accuracy                           0.93     18889\n",
      "   macro avg       0.76      0.80      0.78     18889\n",
      "weighted avg       0.94      0.93      0.93     18889\n",
      "\n",
      "================================================================================\n"
     ]
    },
    {
     "name": "stderr",
     "output_type": "stream",
     "text": [
      "\n",
      "\u001b[A"
     ]
    },
    {
     "name": "stdout",
     "output_type": "stream",
     "text": [
      "Scaler: MinMaxScaler\n",
      "Resampler: SMOTETomek\n",
      "Classifier: XGBoost\n",
      "Balanced Accuracy: 0.7733734757417052\n",
      "Classification Report:\n",
      "              precision    recall  f1-score   support\n",
      "\n",
      "           0       0.96      1.00      0.98     17383\n",
      "           1       0.96      0.55      0.70      1506\n",
      "\n",
      "    accuracy                           0.96     18889\n",
      "   macro avg       0.96      0.77      0.84     18889\n",
      "weighted avg       0.96      0.96      0.96     18889\n",
      "\n",
      "================================================================================\n"
     ]
    },
    {
     "name": "stderr",
     "output_type": "stream",
     "text": [
      "\n",
      "\u001b[A"
     ]
    },
    {
     "name": "stdout",
     "output_type": "stream",
     "text": [
      "Scaler: MinMaxScaler\n",
      "Resampler: SMOTETomek\n",
      "Classifier: CatBoost\n",
      "Balanced Accuracy: 0.7714521308426765\n",
      "Classification Report:\n",
      "              precision    recall  f1-score   support\n",
      "\n",
      "           0       0.96      1.00      0.98     17383\n",
      "           1       0.98      0.54      0.70      1506\n",
      "\n",
      "    accuracy                           0.96     18889\n",
      "   macro avg       0.97      0.77      0.84     18889\n",
      "weighted avg       0.96      0.96      0.96     18889\n",
      "\n",
      "================================================================================\n"
     ]
    },
    {
     "name": "stderr",
     "output_type": "stream",
     "text": [
      "\n",
      "\u001b[A"
     ]
    },
    {
     "name": "stdout",
     "output_type": "stream",
     "text": [
      "Scaler: MinMaxScaler\n",
      "Resampler: SMOTETomek\n",
      "Classifier: KNeighbors\n",
      "Balanced Accuracy: 0.7229100816622673\n",
      "Classification Report:\n",
      "              precision    recall  f1-score   support\n",
      "\n",
      "           0       0.96      0.83      0.89     17383\n",
      "           1       0.24      0.62      0.34      1506\n",
      "\n",
      "    accuracy                           0.81     18889\n",
      "   macro avg       0.60      0.72      0.61     18889\n",
      "weighted avg       0.90      0.81      0.84     18889\n",
      "\n",
      "================================================================================\n"
     ]
    },
    {
     "name": "stderr",
     "output_type": "stream",
     "text": [
      "\n",
      "\u001b[A\n",
      "\u001b[A"
     ]
    },
    {
     "name": "stdout",
     "output_type": "stream",
     "text": [
      "Scaler: MinMaxScaler\n",
      "Resampler: SMOTETomek\n",
      "Classifier: DecisionTree\n",
      "Balanced Accuracy: 0.7674171480294856\n",
      "Classification Report:\n",
      "              precision    recall  f1-score   support\n",
      "\n",
      "           0       0.96      0.95      0.96     17383\n",
      "           1       0.50      0.59      0.54      1506\n",
      "\n",
      "    accuracy                           0.92     18889\n",
      "   macro avg       0.73      0.77      0.75     18889\n",
      "weighted avg       0.93      0.92      0.92     18889\n",
      "\n",
      "================================================================================\n",
      "Scaler: MinMaxScaler\n",
      "Resampler: SMOTETomek\n",
      "Classifier: GaussianNB\n",
      "Balanced Accuracy: 0.7626938601229896\n",
      "Classification Report:\n",
      "              precision    recall  f1-score   support\n",
      "\n",
      "           0       0.96      0.97      0.97     17383\n",
      "           1       0.64      0.55      0.59      1506\n",
      "\n",
      "    accuracy                           0.94     18889\n",
      "   macro avg       0.80      0.76      0.78     18889\n",
      "weighted avg       0.94      0.94      0.94     18889\n",
      "\n",
      "================================================================================\n"
     ]
    },
    {
     "name": "stderr",
     "output_type": "stream",
     "text": [
      "\n",
      "\u001b[A"
     ]
    },
    {
     "name": "stdout",
     "output_type": "stream",
     "text": [
      "Scaler: MinMaxScaler\n",
      "Resampler: SMOTETomek\n",
      "Classifier: GradientBoosting\n",
      "Balanced Accuracy: 0.7757516597973673\n",
      "Classification Report:\n",
      "              precision    recall  f1-score   support\n",
      "\n",
      "           0       0.96      0.99      0.98     17383\n",
      "           1       0.86      0.56      0.68      1506\n",
      "\n",
      "    accuracy                           0.96     18889\n",
      "   macro avg       0.91      0.78      0.83     18889\n",
      "weighted avg       0.96      0.96      0.95     18889\n",
      "\n",
      "================================================================================\n"
     ]
    },
    {
     "name": "stderr",
     "output_type": "stream",
     "text": [
      "\n",
      "\u001b[A"
     ]
    },
    {
     "name": "stdout",
     "output_type": "stream",
     "text": [
      "Scaler: MinMaxScaler\n",
      "Resampler: SMOTETomek\n",
      "Classifier: AdaBoost\n",
      "Balanced Accuracy: 0.7992447170416304\n",
      "Classification Report:\n",
      "              precision    recall  f1-score   support\n",
      "\n",
      "           0       0.97      0.97      0.97     17383\n",
      "           1       0.61      0.63      0.62      1506\n",
      "\n",
      "    accuracy                           0.94     18889\n",
      "   macro avg       0.79      0.80      0.79     18889\n",
      "weighted avg       0.94      0.94      0.94     18889\n",
      "\n",
      "================================================================================\n"
     ]
    },
    {
     "name": "stderr",
     "output_type": "stream",
     "text": [
      "\n",
      "\u001b[A\n",
      "\u001b[A"
     ]
    },
    {
     "name": "stdout",
     "output_type": "stream",
     "text": [
      "Scaler: MinMaxScaler\n",
      "Resampler: SMOTETomek\n",
      "Classifier: Bagging\n",
      "Balanced Accuracy: 0.7742174029533364\n",
      "Classification Report:\n",
      "              precision    recall  f1-score   support\n",
      "\n",
      "           0       0.96      0.99      0.98     17383\n",
      "           1       0.90      0.55      0.69      1506\n",
      "\n",
      "    accuracy                           0.96     18889\n",
      "   macro avg       0.93      0.77      0.83     18889\n",
      "weighted avg       0.96      0.96      0.96     18889\n",
      "\n",
      "================================================================================\n"
     ]
    },
    {
     "name": "stderr",
     "output_type": "stream",
     "text": [
      "\n",
      "\u001b[A\n",
      "\u001b[A"
     ]
    },
    {
     "name": "stdout",
     "output_type": "stream",
     "text": [
      "Scaler: MinMaxScaler\n",
      "Resampler: SMOTENC\n",
      "Classifier: RandomForest\n",
      "Balanced Accuracy: 0.7712927079386914\n",
      "Classification Report:\n",
      "              precision    recall  f1-score   support\n",
      "\n",
      "           0       0.96      1.00      0.98     17383\n",
      "           1       0.99      0.54      0.70      1506\n",
      "\n",
      "    accuracy                           0.96     18889\n",
      "   macro avg       0.97      0.77      0.84     18889\n",
      "weighted avg       0.96      0.96      0.96     18889\n",
      "\n",
      "================================================================================\n"
     ]
    },
    {
     "name": "stderr",
     "output_type": "stream",
     "text": [
      "\n",
      "\u001b[A"
     ]
    },
    {
     "name": "stdout",
     "output_type": "stream",
     "text": [
      "Scaler: MinMaxScaler\n",
      "Resampler: SMOTENC\n",
      "Classifier: LogisticRegression\n",
      "Balanced Accuracy: 0.8025063068212681\n",
      "Classification Report:\n",
      "              precision    recall  f1-score   support\n",
      "\n",
      "           0       0.97      0.96      0.96     17383\n",
      "           1       0.57      0.65      0.61      1506\n",
      "\n",
      "    accuracy                           0.93     18889\n",
      "   macro avg       0.77      0.80      0.78     18889\n",
      "weighted avg       0.94      0.93      0.93     18889\n",
      "\n",
      "================================================================================\n"
     ]
    },
    {
     "name": "stderr",
     "output_type": "stream",
     "text": [
      "\n",
      "\u001b[A"
     ]
    },
    {
     "name": "stdout",
     "output_type": "stream",
     "text": [
      "Scaler: MinMaxScaler\n",
      "Resampler: SMOTENC\n",
      "Classifier: XGBoost\n",
      "Balanced Accuracy: 0.7717134491812803\n",
      "Classification Report:\n",
      "              precision    recall  f1-score   support\n",
      "\n",
      "           0       0.96      1.00      0.98     17383\n",
      "           1       0.96      0.55      0.70      1506\n",
      "\n",
      "    accuracy                           0.96     18889\n",
      "   macro avg       0.96      0.77      0.84     18889\n",
      "weighted avg       0.96      0.96      0.96     18889\n",
      "\n",
      "================================================================================\n"
     ]
    },
    {
     "name": "stderr",
     "output_type": "stream",
     "text": [
      "\n",
      "\u001b[A"
     ]
    },
    {
     "name": "stdout",
     "output_type": "stream",
     "text": [
      "Scaler: MinMaxScaler\n",
      "Resampler: SMOTENC\n",
      "Classifier: CatBoost\n",
      "Balanced Accuracy: 0.7715959495160931\n",
      "Classification Report:\n",
      "              precision    recall  f1-score   support\n",
      "\n",
      "           0       0.96      1.00      0.98     17383\n",
      "           1       0.99      0.54      0.70      1506\n",
      "\n",
      "    accuracy                           0.96     18889\n",
      "   macro avg       0.97      0.77      0.84     18889\n",
      "weighted avg       0.96      0.96      0.96     18889\n",
      "\n",
      "================================================================================\n"
     ]
    },
    {
     "name": "stderr",
     "output_type": "stream",
     "text": [
      "\n",
      "\u001b[A"
     ]
    },
    {
     "name": "stdout",
     "output_type": "stream",
     "text": [
      "Scaler: MinMaxScaler\n",
      "Resampler: SMOTENC\n",
      "Classifier: KNeighbors\n",
      "Balanced Accuracy: 0.7162023061563025\n",
      "Classification Report:\n",
      "              precision    recall  f1-score   support\n",
      "\n",
      "           0       0.96      0.81      0.88     17383\n",
      "           1       0.22      0.62      0.32      1506\n",
      "\n",
      "    accuracy                           0.79     18889\n",
      "   macro avg       0.59      0.72      0.60     18889\n",
      "weighted avg       0.90      0.79      0.83     18889\n",
      "\n",
      "================================================================================\n"
     ]
    },
    {
     "name": "stderr",
     "output_type": "stream",
     "text": [
      "\n",
      "\u001b[A"
     ]
    },
    {
     "name": "stdout",
     "output_type": "stream",
     "text": [
      "Scaler: MinMaxScaler\n",
      "Resampler: SMOTENC\n",
      "Classifier: DecisionTree\n",
      "Balanced Accuracy: 0.7708522560890687\n",
      "Classification Report:\n",
      "              precision    recall  f1-score   support\n",
      "\n",
      "           0       0.96      0.95      0.96     17383\n",
      "           1       0.50      0.59      0.54      1506\n",
      "\n",
      "    accuracy                           0.92     18889\n",
      "   macro avg       0.73      0.77      0.75     18889\n",
      "weighted avg       0.93      0.92      0.92     18889\n",
      "\n",
      "================================================================================\n",
      "Scaler: MinMaxScaler\n",
      "Resampler: SMOTENC\n",
      "Classifier: GaussianNB\n",
      "Balanced Accuracy: 0.7625212777148898\n",
      "Classification Report:\n",
      "              precision    recall  f1-score   support\n",
      "\n",
      "           0       0.96      0.97      0.97     17383\n",
      "           1       0.64      0.55      0.59      1506\n",
      "\n",
      "    accuracy                           0.94     18889\n",
      "   macro avg       0.80      0.76      0.78     18889\n",
      "weighted avg       0.94      0.94      0.94     18889\n",
      "\n",
      "================================================================================\n"
     ]
    },
    {
     "name": "stderr",
     "output_type": "stream",
     "text": [
      "\n",
      "\u001b[A"
     ]
    },
    {
     "name": "stdout",
     "output_type": "stream",
     "text": [
      "Scaler: MinMaxScaler\n",
      "Resampler: SMOTENC\n",
      "Classifier: GradientBoosting\n",
      "Balanced Accuracy: 0.7745016597018701\n",
      "Classification Report:\n",
      "              precision    recall  f1-score   support\n",
      "\n",
      "           0       0.96      0.99      0.98     17383\n",
      "           1       0.82      0.56      0.66      1506\n",
      "\n",
      "    accuracy                           0.96     18889\n",
      "   macro avg       0.89      0.77      0.82     18889\n",
      "weighted avg       0.95      0.96      0.95     18889\n",
      "\n",
      "================================================================================\n"
     ]
    },
    {
     "name": "stderr",
     "output_type": "stream",
     "text": [
      "\n",
      "\u001b[A"
     ]
    },
    {
     "name": "stdout",
     "output_type": "stream",
     "text": [
      "Scaler: MinMaxScaler\n",
      "Resampler: SMOTENC\n",
      "Classifier: AdaBoost\n",
      "Balanced Accuracy: 0.7956452966251544\n",
      "Classification Report:\n",
      "              precision    recall  f1-score   support\n",
      "\n",
      "           0       0.97      0.97      0.97     17383\n",
      "           1       0.63      0.62      0.62      1506\n",
      "\n",
      "    accuracy                           0.94     18889\n",
      "   macro avg       0.80      0.80      0.80     18889\n",
      "weighted avg       0.94      0.94      0.94     18889\n",
      "\n",
      "================================================================================\n"
     ]
    },
    {
     "name": "stderr",
     "output_type": "stream",
     "text": [
      "\n",
      "\u001b[A\n",
      "\u001b[A"
     ]
    },
    {
     "name": "stdout",
     "output_type": "stream",
     "text": [
      "Scaler: MinMaxScaler\n",
      "Resampler: SMOTENC\n",
      "Classifier: Bagging\n",
      "Balanced Accuracy: 0.7765365506850238\n",
      "Classification Report:\n",
      "              precision    recall  f1-score   support\n",
      "\n",
      "           0       0.96      1.00      0.98     17383\n",
      "           1       0.95      0.56      0.70      1506\n",
      "\n",
      "    accuracy                           0.96     18889\n",
      "   macro avg       0.95      0.78      0.84     18889\n",
      "weighted avg       0.96      0.96      0.96     18889\n",
      "\n",
      "================================================================================\n"
     ]
    },
    {
     "name": "stderr",
     "output_type": "stream",
     "text": [
      "\n",
      "\u001b[A\n",
      "\u001b[A"
     ]
    },
    {
     "name": "stdout",
     "output_type": "stream",
     "text": [
      "Scaler: MinMaxScaler\n",
      "Resampler: ADASYN\n",
      "Classifier: RandomForest\n",
      "Balanced Accuracy: 0.7773599842131789\n",
      "Classification Report:\n",
      "              precision    recall  f1-score   support\n",
      "\n",
      "           0       0.96      1.00      0.98     17383\n",
      "           1       0.94      0.56      0.70      1506\n",
      "\n",
      "    accuracy                           0.96     18889\n",
      "   macro avg       0.95      0.78      0.84     18889\n",
      "weighted avg       0.96      0.96      0.96     18889\n",
      "\n",
      "================================================================================\n"
     ]
    },
    {
     "name": "stderr",
     "output_type": "stream",
     "text": [
      "\n",
      "\u001b[A"
     ]
    },
    {
     "name": "stdout",
     "output_type": "stream",
     "text": [
      "Scaler: MinMaxScaler\n",
      "Resampler: ADASYN\n",
      "Classifier: LogisticRegression\n",
      "Balanced Accuracy: 0.8230712884525867\n",
      "Classification Report:\n",
      "              precision    recall  f1-score   support\n",
      "\n",
      "           0       0.97      0.93      0.95     17383\n",
      "           1       0.47      0.72      0.57      1506\n",
      "\n",
      "    accuracy                           0.91     18889\n",
      "   macro avg       0.72      0.82      0.76     18889\n",
      "weighted avg       0.93      0.91      0.92     18889\n",
      "\n",
      "================================================================================\n"
     ]
    },
    {
     "name": "stderr",
     "output_type": "stream",
     "text": [
      "\n",
      "\u001b[A"
     ]
    },
    {
     "name": "stdout",
     "output_type": "stream",
     "text": [
      "Scaler: MinMaxScaler\n",
      "Resampler: ADASYN\n",
      "Classifier: XGBoost\n",
      "Balanced Accuracy: 0.7722336411320336\n",
      "Classification Report:\n",
      "              precision    recall  f1-score   support\n",
      "\n",
      "           0       0.96      1.00      0.98     17383\n",
      "           1       0.96      0.55      0.70      1506\n",
      "\n",
      "    accuracy                           0.96     18889\n",
      "   macro avg       0.96      0.77      0.84     18889\n",
      "weighted avg       0.96      0.96      0.96     18889\n",
      "\n",
      "================================================================================\n"
     ]
    },
    {
     "name": "stderr",
     "output_type": "stream",
     "text": [
      "\n",
      "\u001b[A"
     ]
    },
    {
     "name": "stdout",
     "output_type": "stream",
     "text": [
      "Scaler: MinMaxScaler\n",
      "Resampler: ADASYN\n",
      "Classifier: CatBoost\n",
      "Balanced Accuracy: 0.7721449052015299\n",
      "Classification Report:\n",
      "              precision    recall  f1-score   support\n",
      "\n",
      "           0       0.96      1.00      0.98     17383\n",
      "           1       0.98      0.55      0.70      1506\n",
      "\n",
      "    accuracy                           0.96     18889\n",
      "   macro avg       0.97      0.77      0.84     18889\n",
      "weighted avg       0.96      0.96      0.96     18889\n",
      "\n",
      "================================================================================\n"
     ]
    },
    {
     "name": "stderr",
     "output_type": "stream",
     "text": [
      "\n",
      "\u001b[A"
     ]
    },
    {
     "name": "stdout",
     "output_type": "stream",
     "text": [
      "Scaler: MinMaxScaler\n",
      "Resampler: ADASYN\n",
      "Classifier: KNeighbors\n",
      "Balanced Accuracy: 0.7066952424630039\n",
      "Classification Report:\n",
      "              precision    recall  f1-score   support\n",
      "\n",
      "           0       0.96      0.77      0.86     17383\n",
      "           1       0.20      0.64      0.30      1506\n",
      "\n",
      "    accuracy                           0.76     18889\n",
      "   macro avg       0.58      0.71      0.58     18889\n",
      "weighted avg       0.90      0.76      0.81     18889\n",
      "\n",
      "================================================================================\n"
     ]
    },
    {
     "name": "stderr",
     "output_type": "stream",
     "text": [
      "\n",
      "\u001b[A"
     ]
    },
    {
     "name": "stdout",
     "output_type": "stream",
     "text": [
      "Scaler: MinMaxScaler\n",
      "Resampler: ADASYN\n",
      "Classifier: DecisionTree\n",
      "Balanced Accuracy: 0.7687056907654812\n",
      "Classification Report:\n",
      "              precision    recall  f1-score   support\n",
      "\n",
      "           0       0.96      0.95      0.96     17383\n",
      "           1       0.49      0.59      0.54      1506\n",
      "\n",
      "    accuracy                           0.92     18889\n",
      "   macro avg       0.73      0.77      0.75     18889\n",
      "weighted avg       0.93      0.92      0.92     18889\n",
      "\n",
      "================================================================================\n",
      "Scaler: MinMaxScaler\n",
      "Resampler: ADASYN\n",
      "Classifier: GaussianNB\n",
      "Balanced Accuracy: 0.7738474279835155\n",
      "Classification Report:\n",
      "              precision    recall  f1-score   support\n",
      "\n",
      "           0       0.96      0.98      0.97     17383\n",
      "           1       0.75      0.56      0.64      1506\n",
      "\n",
      "    accuracy                           0.95     18889\n",
      "   macro avg       0.86      0.77      0.81     18889\n",
      "weighted avg       0.95      0.95      0.95     18889\n",
      "\n",
      "================================================================================\n"
     ]
    },
    {
     "name": "stderr",
     "output_type": "stream",
     "text": [
      "\n",
      "\u001b[A"
     ]
    },
    {
     "name": "stdout",
     "output_type": "stream",
     "text": [
      "Scaler: MinMaxScaler\n",
      "Resampler: ADASYN\n",
      "Classifier: GradientBoosting\n",
      "Balanced Accuracy: 0.791076179280653\n",
      "Classification Report:\n",
      "              precision    recall  f1-score   support\n",
      "\n",
      "           0       0.97      0.97      0.97     17383\n",
      "           1       0.65      0.61      0.63      1506\n",
      "\n",
      "    accuracy                           0.94     18889\n",
      "   macro avg       0.81      0.79      0.80     18889\n",
      "weighted avg       0.94      0.94      0.94     18889\n",
      "\n",
      "================================================================================\n"
     ]
    },
    {
     "name": "stderr",
     "output_type": "stream",
     "text": [
      "\n",
      "\u001b[A"
     ]
    },
    {
     "name": "stdout",
     "output_type": "stream",
     "text": [
      "Scaler: MinMaxScaler\n",
      "Resampler: ADASYN\n",
      "Classifier: AdaBoost\n",
      "Balanced Accuracy: 0.8092736916339703\n",
      "Classification Report:\n",
      "              precision    recall  f1-score   support\n",
      "\n",
      "           0       0.97      0.95      0.96     17383\n",
      "           1       0.54      0.67      0.60      1506\n",
      "\n",
      "    accuracy                           0.93     18889\n",
      "   macro avg       0.76      0.81      0.78     18889\n",
      "weighted avg       0.94      0.93      0.93     18889\n",
      "\n",
      "================================================================================\n"
     ]
    },
    {
     "name": "stderr",
     "output_type": "stream",
     "text": [
      "\n",
      "\u001b[A\n",
      "\u001b[A"
     ]
    },
    {
     "name": "stdout",
     "output_type": "stream",
     "text": [
      "Scaler: MinMaxScaler\n",
      "Resampler: ADASYN\n",
      "Classifier: Bagging\n",
      "Balanced Accuracy: 0.7756604791404097\n",
      "Classification Report:\n",
      "              precision    recall  f1-score   support\n",
      "\n",
      "           0       0.96      0.99      0.98     17383\n",
      "           1       0.90      0.56      0.69      1506\n",
      "\n",
      "    accuracy                           0.96     18889\n",
      "   macro avg       0.93      0.78      0.83     18889\n",
      "weighted avg       0.96      0.96      0.96     18889\n",
      "\n",
      "================================================================================\n"
     ]
    },
    {
     "name": "stderr",
     "output_type": "stream",
     "text": [
      "\n",
      "\u001b[A\n",
      "\u001b[A"
     ]
    },
    {
     "name": "stdout",
     "output_type": "stream",
     "text": [
      "Scaler: MinMaxScaler\n",
      "Resampler: SMOTEENN\n",
      "Classifier: RandomForest\n",
      "Balanced Accuracy: 0.7777544064475381\n",
      "Classification Report:\n",
      "              precision    recall  f1-score   support\n",
      "\n",
      "           0       0.96      0.99      0.98     17383\n",
      "           1       0.90      0.56      0.69      1506\n",
      "\n",
      "    accuracy                           0.96     18889\n",
      "   macro avg       0.93      0.78      0.83     18889\n",
      "weighted avg       0.96      0.96      0.96     18889\n",
      "\n",
      "================================================================================\n"
     ]
    },
    {
     "name": "stderr",
     "output_type": "stream",
     "text": [
      "\n",
      "\u001b[A"
     ]
    },
    {
     "name": "stdout",
     "output_type": "stream",
     "text": [
      "Scaler: MinMaxScaler\n",
      "Resampler: SMOTEENN\n",
      "Classifier: LogisticRegression\n",
      "Balanced Accuracy: 0.8229513440609458\n",
      "Classification Report:\n",
      "              precision    recall  f1-score   support\n",
      "\n",
      "           0       0.97      0.93      0.95     17383\n",
      "           1       0.47      0.71      0.57      1506\n",
      "\n",
      "    accuracy                           0.91     18889\n",
      "   macro avg       0.72      0.82      0.76     18889\n",
      "weighted avg       0.93      0.91      0.92     18889\n",
      "\n",
      "================================================================================\n"
     ]
    },
    {
     "name": "stderr",
     "output_type": "stream",
     "text": [
      "\n",
      "\u001b[A"
     ]
    },
    {
     "name": "stdout",
     "output_type": "stream",
     "text": [
      "Scaler: MinMaxScaler\n",
      "Resampler: SMOTEENN\n",
      "Classifier: XGBoost\n",
      "Balanced Accuracy: 0.7741311117492866\n",
      "Classification Report:\n",
      "              precision    recall  f1-score   support\n",
      "\n",
      "           0       0.96      0.99      0.98     17383\n",
      "           1       0.90      0.55      0.68      1506\n",
      "\n",
      "    accuracy                           0.96     18889\n",
      "   macro avg       0.93      0.77      0.83     18889\n",
      "weighted avg       0.96      0.96      0.95     18889\n",
      "\n",
      "================================================================================\n"
     ]
    },
    {
     "name": "stderr",
     "output_type": "stream",
     "text": [
      "\n",
      "\u001b[A"
     ]
    },
    {
     "name": "stdout",
     "output_type": "stream",
     "text": [
      "Scaler: MinMaxScaler\n",
      "Resampler: SMOTEENN\n",
      "Classifier: CatBoost\n",
      "Balanced Accuracy: 0.7730283109255054\n",
      "Classification Report:\n",
      "              precision    recall  f1-score   support\n",
      "\n",
      "           0       0.96      1.00      0.98     17383\n",
      "           1       0.95      0.55      0.70      1506\n",
      "\n",
      "    accuracy                           0.96     18889\n",
      "   macro avg       0.96      0.77      0.84     18889\n",
      "weighted avg       0.96      0.96      0.96     18889\n",
      "\n",
      "================================================================================\n"
     ]
    },
    {
     "name": "stderr",
     "output_type": "stream",
     "text": [
      "\n",
      "\u001b[A"
     ]
    },
    {
     "name": "stdout",
     "output_type": "stream",
     "text": [
      "Scaler: MinMaxScaler\n",
      "Resampler: SMOTEENN\n",
      "Classifier: KNeighbors\n",
      "Balanced Accuracy: 0.69927081831641\n",
      "Classification Report:\n",
      "              precision    recall  f1-score   support\n",
      "\n",
      "           0       0.96      0.75      0.84     17383\n",
      "           1       0.18      0.65      0.29      1506\n",
      "\n",
      "    accuracy                           0.74     18889\n",
      "   macro avg       0.57      0.70      0.57     18889\n",
      "weighted avg       0.90      0.74      0.80     18889\n",
      "\n",
      "================================================================================\n"
     ]
    },
    {
     "name": "stderr",
     "output_type": "stream",
     "text": [
      "\n",
      "\u001b[A"
     ]
    },
    {
     "name": "stdout",
     "output_type": "stream",
     "text": [
      "Scaler: MinMaxScaler\n",
      "Resampler: SMOTEENN\n",
      "Classifier: DecisionTree\n",
      "Balanced Accuracy: 0.7736107670031298\n",
      "Classification Report:\n",
      "              precision    recall  f1-score   support\n",
      "\n",
      "           0       0.97      0.93      0.95     17383\n",
      "           1       0.44      0.61      0.51      1506\n",
      "\n",
      "    accuracy                           0.91     18889\n",
      "   macro avg       0.70      0.77      0.73     18889\n",
      "weighted avg       0.92      0.91      0.91     18889\n",
      "\n",
      "================================================================================\n",
      "Scaler: MinMaxScaler\n",
      "Resampler: SMOTEENN\n",
      "Classifier: GaussianNB\n",
      "Balanced Accuracy: 0.7617314973743256\n",
      "Classification Report:\n",
      "              precision    recall  f1-score   support\n",
      "\n",
      "           0       0.96      0.97      0.97     17383\n",
      "           1       0.62      0.55      0.59      1506\n",
      "\n",
      "    accuracy                           0.94     18889\n",
      "   macro avg       0.79      0.76      0.78     18889\n",
      "weighted avg       0.93      0.94      0.94     18889\n",
      "\n",
      "================================================================================\n"
     ]
    },
    {
     "name": "stderr",
     "output_type": "stream",
     "text": [
      "\n",
      "\u001b[A"
     ]
    },
    {
     "name": "stdout",
     "output_type": "stream",
     "text": [
      "Scaler: MinMaxScaler\n",
      "Resampler: SMOTEENN\n",
      "Classifier: GradientBoosting\n",
      "Balanced Accuracy: 0.7894244227714351\n",
      "Classification Report:\n",
      "              precision    recall  f1-score   support\n",
      "\n",
      "           0       0.97      0.98      0.97     17383\n",
      "           1       0.68      0.60      0.64      1506\n",
      "\n",
      "    accuracy                           0.95     18889\n",
      "   macro avg       0.82      0.79      0.80     18889\n",
      "weighted avg       0.94      0.95      0.94     18889\n",
      "\n",
      "================================================================================\n"
     ]
    },
    {
     "name": "stderr",
     "output_type": "stream",
     "text": [
      "\n",
      "\u001b[A"
     ]
    },
    {
     "name": "stdout",
     "output_type": "stream",
     "text": [
      "Scaler: MinMaxScaler\n",
      "Resampler: SMOTEENN\n",
      "Classifier: AdaBoost\n",
      "Balanced Accuracy: 0.8082201482283488\n",
      "Classification Report:\n",
      "              precision    recall  f1-score   support\n",
      "\n",
      "           0       0.97      0.95      0.96     17383\n",
      "           1       0.54      0.67      0.60      1506\n",
      "\n",
      "    accuracy                           0.93     18889\n",
      "   macro avg       0.76      0.81      0.78     18889\n",
      "weighted avg       0.94      0.93      0.93     18889\n",
      "\n",
      "================================================================================\n"
     ]
    },
    {
     "name": "stderr",
     "output_type": "stream",
     "text": [
      "\n",
      "\u001b[A\n",
      "\u001b[A"
     ]
    },
    {
     "name": "stdout",
     "output_type": "stream",
     "text": [
      "Scaler: MinMaxScaler\n",
      "Resampler: SMOTEENN\n",
      "Classifier: Bagging\n",
      "Balanced Accuracy: 0.7793042675221376\n",
      "Classification Report:\n",
      "              precision    recall  f1-score   support\n",
      "\n",
      "           0       0.96      0.99      0.98     17383\n",
      "           1       0.85      0.57      0.68      1506\n",
      "\n",
      "    accuracy                           0.96     18889\n",
      "   macro avg       0.91      0.78      0.83     18889\n",
      "weighted avg       0.95      0.96      0.95     18889\n",
      "\n",
      "================================================================================\n"
     ]
    },
    {
     "name": "stderr",
     "output_type": "stream",
     "text": [
      "\n",
      "\u001b[A\n",
      "\u001b[A"
     ]
    },
    {
     "name": "stdout",
     "output_type": "stream",
     "text": [
      "Scaler: MinMaxScaler\n",
      "Resampler: RandomUnderSampler\n",
      "Classifier: RandomForest\n",
      "Balanced Accuracy: 0.8233072236548065\n",
      "Classification Report:\n",
      "              precision    recall  f1-score   support\n",
      "\n",
      "           0       0.97      0.93      0.95     17383\n",
      "           1       0.48      0.71      0.58      1506\n",
      "\n",
      "    accuracy                           0.92     18889\n",
      "   macro avg       0.73      0.82      0.76     18889\n",
      "weighted avg       0.93      0.92      0.92     18889\n",
      "\n",
      "================================================================================\n",
      "Scaler: MinMaxScaler\n",
      "Resampler: RandomUnderSampler\n",
      "Classifier: LogisticRegression\n",
      "Balanced Accuracy: 0.7721176503214547\n",
      "Classification Report:\n",
      "              precision    recall  f1-score   support\n",
      "\n",
      "           0       0.96      0.99      0.98     17383\n",
      "           1       0.83      0.55      0.67      1506\n",
      "\n",
      "    accuracy                           0.96     18889\n",
      "   macro avg       0.90      0.77      0.82     18889\n",
      "weighted avg       0.95      0.96      0.95     18889\n",
      "\n",
      "================================================================================\n"
     ]
    },
    {
     "name": "stderr",
     "output_type": "stream",
     "text": [
      "\n",
      "\u001b[A"
     ]
    },
    {
     "name": "stdout",
     "output_type": "stream",
     "text": [
      "Scaler: MinMaxScaler\n",
      "Resampler: RandomUnderSampler\n",
      "Classifier: XGBoost\n",
      "Balanced Accuracy: 0.8000085985613243\n",
      "Classification Report:\n",
      "              precision    recall  f1-score   support\n",
      "\n",
      "           0       0.97      0.89      0.93     17383\n",
      "           1       0.35      0.71      0.47      1506\n",
      "\n",
      "    accuracy                           0.87     18889\n",
      "   macro avg       0.66      0.80      0.70     18889\n",
      "weighted avg       0.92      0.87      0.89     18889\n",
      "\n",
      "================================================================================\n"
     ]
    },
    {
     "name": "stderr",
     "output_type": "stream",
     "text": [
      "\n",
      "\u001b[A\n",
      "\u001b[A"
     ]
    },
    {
     "name": "stdout",
     "output_type": "stream",
     "text": [
      "Scaler: MinMaxScaler\n",
      "Resampler: RandomUnderSampler\n",
      "Classifier: CatBoost\n",
      "Balanced Accuracy: 0.8222346954203168\n",
      "Classification Report:\n",
      "              precision    recall  f1-score   support\n",
      "\n",
      "           0       0.97      0.93      0.95     17383\n",
      "           1       0.47      0.72      0.56      1506\n",
      "\n",
      "    accuracy                           0.91     18889\n",
      "   macro avg       0.72      0.82      0.76     18889\n",
      "weighted avg       0.93      0.91      0.92     18889\n",
      "\n",
      "================================================================================\n",
      "Scaler: MinMaxScaler\n",
      "Resampler: RandomUnderSampler\n",
      "Classifier: KNeighbors\n",
      "Balanced Accuracy: 0.7148981591897382\n",
      "Classification Report:\n",
      "              precision    recall  f1-score   support\n",
      "\n",
      "           0       0.96      0.81      0.88     17383\n",
      "           1       0.22      0.62      0.33      1506\n",
      "\n",
      "    accuracy                           0.80     18889\n",
      "   macro avg       0.59      0.71      0.60     18889\n",
      "weighted avg       0.90      0.80      0.84     18889\n",
      "\n",
      "================================================================================\n"
     ]
    },
    {
     "name": "stderr",
     "output_type": "stream",
     "text": [
      "\n",
      "\u001b[A"
     ]
    },
    {
     "name": "stdout",
     "output_type": "stream",
     "text": [
      "Scaler: MinMaxScaler\n",
      "Resampler: RandomUnderSampler\n",
      "Classifier: DecisionTree\n",
      "Balanced Accuracy: 0.726991781670037\n",
      "Classification Report:\n",
      "              precision    recall  f1-score   support\n",
      "\n",
      "           0       0.97      0.71      0.82     17383\n",
      "           1       0.18      0.74      0.29      1506\n",
      "\n",
      "    accuracy                           0.71     18889\n",
      "   macro avg       0.58      0.73      0.56     18889\n",
      "weighted avg       0.91      0.71      0.78     18889\n",
      "\n",
      "================================================================================\n",
      "Scaler: MinMaxScaler\n",
      "Resampler: RandomUnderSampler\n",
      "Classifier: GaussianNB\n",
      "Balanced Accuracy: 0.7613707283275573\n",
      "Classification Report:\n",
      "              precision    recall  f1-score   support\n",
      "\n",
      "           0       0.96      0.97      0.97     17383\n",
      "           1       0.62      0.55      0.58      1506\n",
      "\n",
      "    accuracy                           0.94     18889\n",
      "   macro avg       0.79      0.76      0.78     18889\n",
      "weighted avg       0.93      0.94      0.94     18889\n",
      "\n",
      "================================================================================\n"
     ]
    },
    {
     "name": "stderr",
     "output_type": "stream",
     "text": [
      "\n",
      "\u001b[A"
     ]
    },
    {
     "name": "stdout",
     "output_type": "stream",
     "text": [
      "Scaler: MinMaxScaler\n",
      "Resampler: RandomUnderSampler\n",
      "Classifier: GradientBoosting\n",
      "Balanced Accuracy: 0.8237279648973952\n",
      "Classification Report:\n",
      "              precision    recall  f1-score   support\n",
      "\n",
      "           0       0.97      0.93      0.95     17383\n",
      "           1       0.48      0.71      0.57      1506\n",
      "\n",
      "    accuracy                           0.92     18889\n",
      "   macro avg       0.73      0.82      0.76     18889\n",
      "weighted avg       0.93      0.92      0.92     18889\n",
      "\n",
      "================================================================================\n"
     ]
    },
    {
     "name": "stderr",
     "output_type": "stream",
     "text": [
      "\n",
      "\u001b[A"
     ]
    },
    {
     "name": "stdout",
     "output_type": "stream",
     "text": [
      "Scaler: MinMaxScaler\n",
      "Resampler: RandomUnderSampler\n",
      "Classifier: AdaBoost\n",
      "Balanced Accuracy: 0.8249804097193462\n",
      "Classification Report:\n",
      "              precision    recall  f1-score   support\n",
      "\n",
      "           0       0.97      0.93      0.95     17383\n",
      "           1       0.49      0.72      0.58      1506\n",
      "\n",
      "    accuracy                           0.92     18889\n",
      "   macro avg       0.73      0.82      0.77     18889\n",
      "weighted avg       0.94      0.92      0.92     18889\n",
      "\n",
      "================================================================================\n"
     ]
    },
    {
     "name": "stderr",
     "output_type": "stream",
     "text": [
      "\n",
      "\u001b[A\n",
      "\u001b[A"
     ]
    },
    {
     "name": "stdout",
     "output_type": "stream",
     "text": [
      "Scaler: MinMaxScaler\n",
      "Resampler: RandomUnderSampler\n",
      "Classifier: Bagging\n",
      "Balanced Accuracy: 0.79901783496706\n",
      "Classification Report:\n",
      "              precision    recall  f1-score   support\n",
      "\n",
      "           0       0.97      0.91      0.94     17383\n",
      "           1       0.39      0.69      0.50      1506\n",
      "\n",
      "    accuracy                           0.89     18889\n",
      "   macro avg       0.68      0.80      0.72     18889\n",
      "weighted avg       0.93      0.89      0.90     18889\n",
      "\n",
      "================================================================================\n"
     ]
    },
    {
     "name": "stderr",
     "output_type": "stream",
     "text": [
      "\n",
      "\u001b[A\n",
      "\u001b[A"
     ]
    },
    {
     "name": "stdout",
     "output_type": "stream",
     "text": [
      "Scaler: MinMaxScaler\n",
      "Resampler: NearMiss\n",
      "Classifier: RandomForest\n",
      "Balanced Accuracy: 0.7610813338335854\n",
      "Classification Report:\n",
      "              precision    recall  f1-score   support\n",
      "\n",
      "           0       0.97      0.75      0.85     17383\n",
      "           1       0.21      0.77      0.33      1506\n",
      "\n",
      "    accuracy                           0.75     18889\n",
      "   macro avg       0.59      0.76      0.59     18889\n",
      "weighted avg       0.91      0.75      0.81     18889\n",
      "\n",
      "================================================================================\n",
      "Scaler: MinMaxScaler\n",
      "Resampler: NearMiss\n",
      "Classifier: LogisticRegression\n",
      "Balanced Accuracy: 0.7412826211501383\n",
      "Classification Report:\n",
      "              precision    recall  f1-score   support\n",
      "\n",
      "           0       0.97      0.80      0.88     17383\n",
      "           1       0.23      0.68      0.34      1506\n",
      "\n",
      "    accuracy                           0.79     18889\n",
      "   macro avg       0.60      0.74      0.61     18889\n",
      "weighted avg       0.91      0.79      0.84     18889\n",
      "\n",
      "================================================================================\n"
     ]
    },
    {
     "name": "stderr",
     "output_type": "stream",
     "text": [
      "\n",
      "\u001b[A"
     ]
    },
    {
     "name": "stdout",
     "output_type": "stream",
     "text": [
      "Scaler: MinMaxScaler\n",
      "Resampler: NearMiss\n",
      "Classifier: XGBoost\n",
      "Balanced Accuracy: 0.7188952869417458\n",
      "Classification Report:\n",
      "              precision    recall  f1-score   support\n",
      "\n",
      "           0       0.97      0.65      0.78     17383\n",
      "           1       0.16      0.79      0.27      1506\n",
      "\n",
      "    accuracy                           0.66     18889\n",
      "   macro avg       0.57      0.72      0.52     18889\n",
      "weighted avg       0.91      0.66      0.74     18889\n",
      "\n",
      "================================================================================\n"
     ]
    },
    {
     "name": "stderr",
     "output_type": "stream",
     "text": [
      "\n",
      "\u001b[A"
     ]
    },
    {
     "name": "stdout",
     "output_type": "stream",
     "text": [
      "Scaler: MinMaxScaler\n",
      "Resampler: NearMiss\n",
      "Classifier: CatBoost\n",
      "Balanced Accuracy: 0.7368570168882467\n",
      "Classification Report:\n",
      "              precision    recall  f1-score   support\n",
      "\n",
      "           0       0.97      0.68      0.80     17383\n",
      "           1       0.18      0.79      0.29      1506\n",
      "\n",
      "    accuracy                           0.69     18889\n",
      "   macro avg       0.58      0.74      0.55     18889\n",
      "weighted avg       0.91      0.69      0.76     18889\n",
      "\n",
      "================================================================================\n"
     ]
    },
    {
     "name": "stderr",
     "output_type": "stream",
     "text": [
      "\n",
      "\u001b[A"
     ]
    },
    {
     "name": "stdout",
     "output_type": "stream",
     "text": [
      "Scaler: MinMaxScaler\n",
      "Resampler: NearMiss\n",
      "Classifier: KNeighbors\n",
      "Balanced Accuracy: 0.724326838841111\n",
      "Classification Report:\n",
      "              precision    recall  f1-score   support\n",
      "\n",
      "           0       0.96      0.82      0.89     17383\n",
      "           1       0.24      0.62      0.34      1506\n",
      "\n",
      "    accuracy                           0.81     18889\n",
      "   macro avg       0.60      0.72      0.61     18889\n",
      "weighted avg       0.90      0.81      0.84     18889\n",
      "\n",
      "================================================================================\n"
     ]
    },
    {
     "name": "stderr",
     "output_type": "stream",
     "text": [
      "\n",
      "\u001b[A"
     ]
    },
    {
     "name": "stdout",
     "output_type": "stream",
     "text": [
      "Scaler: MinMaxScaler\n",
      "Resampler: NearMiss\n",
      "Classifier: DecisionTree\n",
      "Balanced Accuracy: 0.6938084208449906\n",
      "Classification Report:\n",
      "              precision    recall  f1-score   support\n",
      "\n",
      "           0       0.97      0.60      0.74     17383\n",
      "           1       0.15      0.79      0.25      1506\n",
      "\n",
      "    accuracy                           0.61     18889\n",
      "   macro avg       0.56      0.69      0.49     18889\n",
      "weighted avg       0.90      0.61      0.70     18889\n",
      "\n",
      "================================================================================\n",
      "Scaler: MinMaxScaler\n",
      "Resampler: NearMiss\n",
      "Classifier: GaussianNB\n",
      "Balanced Accuracy: 0.7622556429061411\n",
      "Classification Report:\n",
      "              precision    recall  f1-score   support\n",
      "\n",
      "           0       0.96      0.96      0.96     17383\n",
      "           1       0.55      0.56      0.56      1506\n",
      "\n",
      "    accuracy                           0.93     18889\n",
      "   macro avg       0.76      0.76      0.76     18889\n",
      "weighted avg       0.93      0.93      0.93     18889\n",
      "\n",
      "================================================================================\n"
     ]
    },
    {
     "name": "stderr",
     "output_type": "stream",
     "text": [
      "\n",
      "\u001b[A"
     ]
    },
    {
     "name": "stdout",
     "output_type": "stream",
     "text": [
      "Scaler: MinMaxScaler\n",
      "Resampler: NearMiss\n",
      "Classifier: GradientBoosting\n",
      "Balanced Accuracy: 0.7507444383046158\n",
      "Classification Report:\n",
      "              precision    recall  f1-score   support\n",
      "\n",
      "           0       0.97      0.73      0.83     17383\n",
      "           1       0.20      0.77      0.32      1506\n",
      "\n",
      "    accuracy                           0.73     18889\n",
      "   macro avg       0.59      0.75      0.57     18889\n",
      "weighted avg       0.91      0.73      0.79     18889\n",
      "\n",
      "================================================================================\n"
     ]
    },
    {
     "name": "stderr",
     "output_type": "stream",
     "text": [
      "\n",
      "\u001b[A"
     ]
    },
    {
     "name": "stdout",
     "output_type": "stream",
     "text": [
      "Scaler: MinMaxScaler\n",
      "Resampler: NearMiss\n",
      "Classifier: AdaBoost\n",
      "Balanced Accuracy: 0.7251452874192315\n",
      "Classification Report:\n",
      "              precision    recall  f1-score   support\n",
      "\n",
      "           0       0.97      0.66      0.79     17383\n",
      "           1       0.17      0.79      0.28      1506\n",
      "\n",
      "    accuracy                           0.67     18889\n",
      "   macro avg       0.57      0.73      0.53     18889\n",
      "weighted avg       0.91      0.67      0.75     18889\n",
      "\n",
      "================================================================================\n"
     ]
    },
    {
     "name": "stderr",
     "output_type": "stream",
     "text": [
      "\n",
      "\u001b[A\n",
      "\u001b[A"
     ]
    },
    {
     "name": "stdout",
     "output_type": "stream",
     "text": [
      "Scaler: MinMaxScaler\n",
      "Resampler: NearMiss\n",
      "Classifier: Bagging\n",
      "Balanced Accuracy: 0.7479440041517567\n",
      "Classification Report:\n",
      "              precision    recall  f1-score   support\n",
      "\n",
      "           0       0.97      0.75      0.84     17383\n",
      "           1       0.20      0.75      0.32      1506\n",
      "\n",
      "    accuracy                           0.75     18889\n",
      "   macro avg       0.59      0.75      0.58     18889\n",
      "weighted avg       0.91      0.75      0.80     18889\n",
      "\n",
      "================================================================================\n"
     ]
    },
    {
     "name": "stderr",
     "output_type": "stream",
     "text": [
      "\n",
      "\u001b[A\n",
      "\u001b[A\n",
      "\u001b[A"
     ]
    },
    {
     "name": "stdout",
     "output_type": "stream",
     "text": [
      "Scaler: MinMaxScaler\n",
      "Resampler: TomekLinks\n",
      "Classifier: RandomForest\n",
      "Balanced Accuracy: 0.7708875709266713\n",
      "Classification Report:\n",
      "              precision    recall  f1-score   support\n",
      "\n",
      "           0       0.96      1.00      0.98     17383\n",
      "           1       1.00      0.54      0.70      1506\n",
      "\n",
      "    accuracy                           0.96     18889\n",
      "   macro avg       0.98      0.77      0.84     18889\n",
      "weighted avg       0.96      0.96      0.96     18889\n",
      "\n",
      "================================================================================\n",
      "Scaler: MinMaxScaler\n",
      "Resampler: TomekLinks\n",
      "Classifier: LogisticRegression\n",
      "Balanced Accuracy: 0.7679068572972678\n",
      "Classification Report:\n",
      "              precision    recall  f1-score   support\n",
      "\n",
      "           0       0.96      1.00      0.98     17383\n",
      "           1       0.92      0.54      0.68      1506\n",
      "\n",
      "    accuracy                           0.96     18889\n",
      "   macro avg       0.94      0.77      0.83     18889\n",
      "weighted avg       0.96      0.96      0.95     18889\n",
      "\n",
      "================================================================================\n"
     ]
    },
    {
     "name": "stderr",
     "output_type": "stream",
     "text": [
      "\n",
      "\u001b[A"
     ]
    },
    {
     "name": "stdout",
     "output_type": "stream",
     "text": [
      "Scaler: MinMaxScaler\n",
      "Resampler: TomekLinks\n",
      "Classifier: XGBoost\n",
      "Balanced Accuracy: 0.7724793552400686\n",
      "Classification Report:\n",
      "              precision    recall  f1-score   support\n",
      "\n",
      "           0       0.96      1.00      0.98     17383\n",
      "           1       0.96      0.55      0.70      1506\n",
      "\n",
      "    accuracy                           0.96     18889\n",
      "   macro avg       0.96      0.77      0.84     18889\n",
      "weighted avg       0.96      0.96      0.96     18889\n",
      "\n",
      "================================================================================\n"
     ]
    },
    {
     "name": "stderr",
     "output_type": "stream",
     "text": [
      "\n",
      "\u001b[A"
     ]
    },
    {
     "name": "stdout",
     "output_type": "stream",
     "text": [
      "Scaler: MinMaxScaler\n",
      "Resampler: TomekLinks\n",
      "Classifier: CatBoost\n",
      "Balanced Accuracy: 0.7706862247838882\n",
      "Classification Report:\n",
      "              precision    recall  f1-score   support\n",
      "\n",
      "           0       0.96      1.00      0.98     17383\n",
      "           1       0.99      0.54      0.70      1506\n",
      "\n",
      "    accuracy                           0.96     18889\n",
      "   macro avg       0.98      0.77      0.84     18889\n",
      "weighted avg       0.96      0.96      0.96     18889\n",
      "\n",
      "================================================================================\n"
     ]
    },
    {
     "name": "stderr",
     "output_type": "stream",
     "text": [
      "\n",
      "\u001b[A"
     ]
    },
    {
     "name": "stdout",
     "output_type": "stream",
     "text": [
      "Scaler: MinMaxScaler\n",
      "Resampler: TomekLinks\n",
      "Classifier: KNeighbors\n",
      "Balanced Accuracy: 0.7703147409594588\n",
      "Classification Report:\n",
      "              precision    recall  f1-score   support\n",
      "\n",
      "           0       0.96      1.00      0.98     17383\n",
      "           1       0.95      0.54      0.69      1506\n",
      "\n",
      "    accuracy                           0.96     18889\n",
      "   macro avg       0.96      0.77      0.84     18889\n",
      "weighted avg       0.96      0.96      0.96     18889\n",
      "\n",
      "================================================================================\n"
     ]
    },
    {
     "name": "stderr",
     "output_type": "stream",
     "text": [
      "\n",
      "\u001b[A"
     ]
    },
    {
     "name": "stdout",
     "output_type": "stream",
     "text": [
      "Scaler: MinMaxScaler\n",
      "Resampler: TomekLinks\n",
      "Classifier: DecisionTree\n",
      "Balanced Accuracy: 0.7676316536763834\n",
      "Classification Report:\n",
      "              precision    recall  f1-score   support\n",
      "\n",
      "           0       0.96      0.95      0.96     17383\n",
      "           1       0.50      0.59      0.54      1506\n",
      "\n",
      "    accuracy                           0.92     18889\n",
      "   macro avg       0.73      0.77      0.75     18889\n",
      "weighted avg       0.93      0.92      0.92     18889\n",
      "\n",
      "================================================================================\n",
      "Scaler: MinMaxScaler\n",
      "Resampler: TomekLinks\n",
      "Classifier: GaussianNB\n",
      "Balanced Accuracy: 0.7670824878972671\n",
      "Classification Report:\n",
      "              precision    recall  f1-score   support\n",
      "\n",
      "           0       0.96      0.99      0.98     17383\n",
      "           1       0.81      0.55      0.65      1506\n",
      "\n",
      "    accuracy                           0.95     18889\n",
      "   macro avg       0.89      0.77      0.81     18889\n",
      "weighted avg       0.95      0.95      0.95     18889\n",
      "\n",
      "================================================================================\n"
     ]
    },
    {
     "name": "stderr",
     "output_type": "stream",
     "text": [
      "\n",
      "\u001b[A"
     ]
    },
    {
     "name": "stdout",
     "output_type": "stream",
     "text": [
      "Scaler: MinMaxScaler\n",
      "Resampler: TomekLinks\n",
      "Classifier: GradientBoosting\n",
      "Balanced Accuracy: 0.7707437522532548\n",
      "Classification Report:\n",
      "              precision    recall  f1-score   support\n",
      "\n",
      "           0       0.96      1.00      0.98     17383\n",
      "           1       0.99      0.54      0.70      1506\n",
      "\n",
      "    accuracy                           0.96     18889\n",
      "   macro avg       0.98      0.77      0.84     18889\n",
      "weighted avg       0.96      0.96      0.96     18889\n",
      "\n",
      "================================================================================\n"
     ]
    },
    {
     "name": "stderr",
     "output_type": "stream",
     "text": [
      "\n",
      "\u001b[A"
     ]
    },
    {
     "name": "stdout",
     "output_type": "stream",
     "text": [
      "Scaler: MinMaxScaler\n",
      "Resampler: TomekLinks\n",
      "Classifier: AdaBoost\n",
      "Balanced Accuracy: 0.7708875709266713\n",
      "Classification Report:\n",
      "              precision    recall  f1-score   support\n",
      "\n",
      "           0       0.96      1.00      0.98     17383\n",
      "           1       1.00      0.54      0.70      1506\n",
      "\n",
      "    accuracy                           0.96     18889\n",
      "   macro avg       0.98      0.77      0.84     18889\n",
      "weighted avg       0.96      0.96      0.96     18889\n",
      "\n",
      "================================================================================\n"
     ]
    },
    {
     "name": "stderr",
     "output_type": "stream",
     "text": [
      "\n",
      "\u001b[A\n",
      "\u001b[A"
     ]
    },
    {
     "name": "stdout",
     "output_type": "stream",
     "text": [
      "Scaler: MinMaxScaler\n",
      "Resampler: TomekLinks\n",
      "Classifier: Bagging\n",
      "Balanced Accuracy: 0.7723930640360188\n",
      "Classification Report:\n",
      "              precision    recall  f1-score   support\n",
      "\n",
      "           0       0.96      1.00      0.98     17383\n",
      "           1       0.95      0.55      0.70      1506\n",
      "\n",
      "    accuracy                           0.96     18889\n",
      "   macro avg       0.96      0.77      0.84     18889\n",
      "weighted avg       0.96      0.96      0.96     18889\n",
      "\n",
      "================================================================================\n"
     ]
    },
    {
     "name": "stderr",
     "output_type": "stream",
     "text": [
      "\n",
      "\u001b[A\n",
      "\u001b[A"
     ]
    },
    {
     "name": "stdout",
     "output_type": "stream",
     "text": [
      "Scaler: MinMaxScaler\n",
      "Resampler: ClusterCentroids\n",
      "Classifier: RandomForest\n",
      "Balanced Accuracy: 0.5044690936535742\n",
      "Classification Report:\n",
      "              precision    recall  f1-score   support\n",
      "\n",
      "           0       0.98      0.01      0.02     17383\n",
      "           1       0.08      1.00      0.15      1506\n",
      "\n",
      "    accuracy                           0.09     18889\n",
      "   macro avg       0.53      0.50      0.09     18889\n",
      "weighted avg       0.91      0.09      0.03     18889\n",
      "\n",
      "================================================================================\n",
      "Scaler: MinMaxScaler\n",
      "Resampler: ClusterCentroids\n",
      "Classifier: LogisticRegression\n",
      "Balanced Accuracy: 0.7840630803599157\n",
      "Classification Report:\n",
      "              precision    recall  f1-score   support\n",
      "\n",
      "           0       0.96      0.98      0.97     17383\n",
      "           1       0.70      0.59      0.64      1506\n",
      "\n",
      "    accuracy                           0.95     18889\n",
      "   macro avg       0.83      0.78      0.81     18889\n",
      "weighted avg       0.94      0.95      0.95     18889\n",
      "\n",
      "================================================================================\n"
     ]
    },
    {
     "name": "stderr",
     "output_type": "stream",
     "text": [
      "\n",
      "\u001b[A"
     ]
    },
    {
     "name": "stdout",
     "output_type": "stream",
     "text": [
      "Scaler: MinMaxScaler\n",
      "Resampler: ClusterCentroids\n",
      "Classifier: XGBoost\n",
      "Balanced Accuracy: 0.5\n",
      "Classification Report:\n",
      "              precision    recall  f1-score   support\n",
      "\n",
      "           0       0.00      0.00      0.00     17383\n",
      "           1       0.08      1.00      0.15      1506\n",
      "\n",
      "    accuracy                           0.08     18889\n",
      "   macro avg       0.04      0.50      0.07     18889\n",
      "weighted avg       0.01      0.08      0.01     18889\n",
      "\n",
      "================================================================================\n"
     ]
    },
    {
     "name": "stderr",
     "output_type": "stream",
     "text": [
      "\n",
      "\u001b[A"
     ]
    },
    {
     "name": "stdout",
     "output_type": "stream",
     "text": [
      "Scaler: MinMaxScaler\n",
      "Resampler: ClusterCentroids\n",
      "Classifier: CatBoost\n",
      "Balanced Accuracy: 0.5001150549387332\n",
      "Classification Report:\n",
      "              precision    recall  f1-score   support\n",
      "\n",
      "           0       1.00      0.00      0.00     17383\n",
      "           1       0.08      1.00      0.15      1506\n",
      "\n",
      "    accuracy                           0.08     18889\n",
      "   macro avg       0.54      0.50      0.07     18889\n",
      "weighted avg       0.93      0.08      0.01     18889\n",
      "\n",
      "================================================================================\n"
     ]
    },
    {
     "name": "stderr",
     "output_type": "stream",
     "text": [
      "\n",
      "\u001b[A"
     ]
    },
    {
     "name": "stdout",
     "output_type": "stream",
     "text": [
      "Scaler: MinMaxScaler\n",
      "Resampler: ClusterCentroids\n",
      "Classifier: KNeighbors\n",
      "Balanced Accuracy: 0.7575852031097838\n",
      "Classification Report:\n",
      "              precision    recall  f1-score   support\n",
      "\n",
      "           0       0.96      0.95      0.96     17383\n",
      "           1       0.49      0.57      0.53      1506\n",
      "\n",
      "    accuracy                           0.92     18889\n",
      "   macro avg       0.73      0.76      0.74     18889\n",
      "weighted avg       0.92      0.92      0.92     18889\n",
      "\n",
      "================================================================================\n"
     ]
    },
    {
     "name": "stderr",
     "output_type": "stream",
     "text": [
      "\n",
      "\u001b[A"
     ]
    },
    {
     "name": "stdout",
     "output_type": "stream",
     "text": [
      "Scaler: MinMaxScaler\n",
      "Resampler: ClusterCentroids\n",
      "Classifier: DecisionTree\n",
      "Balanced Accuracy: 0.521716982574983\n",
      "Classification Report:\n",
      "              precision    recall  f1-score   support\n",
      "\n",
      "           0       0.97      0.07      0.12     17383\n",
      "           1       0.08      0.98      0.15      1506\n",
      "\n",
      "    accuracy                           0.14     18889\n",
      "   macro avg       0.53      0.52      0.14     18889\n",
      "weighted avg       0.90      0.14      0.13     18889\n",
      "\n",
      "================================================================================\n",
      "Scaler: MinMaxScaler\n",
      "Resampler: ClusterCentroids\n",
      "Classifier: GaussianNB\n",
      "Balanced Accuracy: 0.7458710862125908\n",
      "Classification Report:\n",
      "              precision    recall  f1-score   support\n",
      "\n",
      "           0       0.97      0.83      0.89     17383\n",
      "           1       0.25      0.66      0.36      1506\n",
      "\n",
      "    accuracy                           0.82     18889\n",
      "   macro avg       0.61      0.75      0.63     18889\n",
      "weighted avg       0.91      0.82      0.85     18889\n",
      "\n",
      "================================================================================\n"
     ]
    },
    {
     "name": "stderr",
     "output_type": "stream",
     "text": [
      "\n",
      "\u001b[A"
     ]
    },
    {
     "name": "stdout",
     "output_type": "stream",
     "text": [
      "Scaler: MinMaxScaler\n",
      "Resampler: ClusterCentroids\n",
      "Classifier: GradientBoosting\n",
      "Balanced Accuracy: 0.5017809068239115\n",
      "Classification Report:\n",
      "              precision    recall  f1-score   support\n",
      "\n",
      "           0       0.98      0.00      0.01     17383\n",
      "           1       0.08      1.00      0.15      1506\n",
      "\n",
      "    accuracy                           0.08     18889\n",
      "   macro avg       0.53      0.50      0.08     18889\n",
      "weighted avg       0.91      0.08      0.02     18889\n",
      "\n",
      "================================================================================\n"
     ]
    },
    {
     "name": "stderr",
     "output_type": "stream",
     "text": [
      "\n",
      "\u001b[A"
     ]
    },
    {
     "name": "stdout",
     "output_type": "stream",
     "text": [
      "Scaler: MinMaxScaler\n",
      "Resampler: ClusterCentroids\n",
      "Classifier: AdaBoost\n",
      "Balanced Accuracy: 0.5042784622884519\n",
      "Classification Report:\n",
      "              precision    recall  f1-score   support\n",
      "\n",
      "           0       0.97      0.01      0.02     17383\n",
      "           1       0.08      1.00      0.15      1506\n",
      "\n",
      "    accuracy                           0.09     18889\n",
      "   macro avg       0.53      0.50      0.09     18889\n",
      "weighted avg       0.90      0.09      0.03     18889\n",
      "\n",
      "================================================================================\n"
     ]
    },
    {
     "name": "stderr",
     "output_type": "stream",
     "text": [
      "\n",
      "\u001b[A\n",
      "Scalers:  67%|██████▋   | 2/3 [32:57<16:28, 988.92s/it]"
     ]
    },
    {
     "name": "stdout",
     "output_type": "stream",
     "text": [
      "Scaler: MinMaxScaler\n",
      "Resampler: ClusterCentroids\n",
      "Classifier: Bagging\n",
      "Balanced Accuracy: 0.5140746721831919\n",
      "Classification Report:\n",
      "              precision    recall  f1-score   support\n",
      "\n",
      "           0       0.98      0.04      0.07     17383\n",
      "           1       0.08      0.99      0.15      1506\n",
      "\n",
      "    accuracy                           0.11     18889\n",
      "   macro avg       0.53      0.51      0.11     18889\n",
      "weighted avg       0.91      0.11      0.08     18889\n",
      "\n",
      "================================================================================\n"
     ]
    },
    {
     "name": "stderr",
     "output_type": "stream",
     "text": [
      "\n",
      "\u001b[A\n",
      "\u001b[A"
     ]
    },
    {
     "name": "stdout",
     "output_type": "stream",
     "text": [
      "Scaler: RobustScaler\n",
      "Resampler: SMOTE\n",
      "Classifier: RandomForest\n",
      "Balanced Accuracy: 0.7753679523406689\n",
      "Classification Report:\n",
      "              precision    recall  f1-score   support\n",
      "\n",
      "           0       0.96      1.00      0.98     17383\n",
      "           1       0.94      0.55      0.70      1506\n",
      "\n",
      "    accuracy                           0.96     18889\n",
      "   macro avg       0.95      0.78      0.84     18889\n",
      "weighted avg       0.96      0.96      0.96     18889\n",
      "\n",
      "================================================================================\n"
     ]
    },
    {
     "name": "stderr",
     "output_type": "stream",
     "text": [
      "\n",
      "\u001b[A"
     ]
    },
    {
     "name": "stdout",
     "output_type": "stream",
     "text": [
      "Scaler: RobustScaler\n",
      "Resampler: SMOTE\n",
      "Classifier: LogisticRegression\n",
      "Balanced Accuracy: 0.8005118302223043\n",
      "Classification Report:\n",
      "              precision    recall  f1-score   support\n",
      "\n",
      "           0       0.97      0.96      0.96     17383\n",
      "           1       0.58      0.64      0.61      1506\n",
      "\n",
      "    accuracy                           0.93     18889\n",
      "   macro avg       0.77      0.80      0.79     18889\n",
      "weighted avg       0.94      0.93      0.94     18889\n",
      "\n",
      "================================================================================\n"
     ]
    },
    {
     "name": "stderr",
     "output_type": "stream",
     "text": [
      "\n",
      "\u001b[A"
     ]
    },
    {
     "name": "stdout",
     "output_type": "stream",
     "text": [
      "Scaler: RobustScaler\n",
      "Resampler: SMOTE\n",
      "Classifier: XGBoost\n",
      "Balanced Accuracy: 0.7724062235401334\n",
      "Classification Report:\n",
      "              precision    recall  f1-score   support\n",
      "\n",
      "           0       0.96      1.00      0.98     17383\n",
      "           1       0.97      0.55      0.70      1506\n",
      "\n",
      "    accuracy                           0.96     18889\n",
      "   macro avg       0.96      0.77      0.84     18889\n",
      "weighted avg       0.96      0.96      0.96     18889\n",
      "\n",
      "================================================================================\n"
     ]
    },
    {
     "name": "stderr",
     "output_type": "stream",
     "text": [
      "\n",
      "\u001b[A"
     ]
    },
    {
     "name": "stdout",
     "output_type": "stream",
     "text": [
      "Scaler: RobustScaler\n",
      "Resampler: SMOTE\n",
      "Classifier: CatBoost\n",
      "Balanced Accuracy: 0.7717397681895097\n",
      "Classification Report:\n",
      "              precision    recall  f1-score   support\n",
      "\n",
      "           0       0.96      1.00      0.98     17383\n",
      "           1       0.99      0.54      0.70      1506\n",
      "\n",
      "    accuracy                           0.96     18889\n",
      "   macro avg       0.98      0.77      0.84     18889\n",
      "weighted avg       0.96      0.96      0.96     18889\n",
      "\n",
      "================================================================================\n"
     ]
    },
    {
     "name": "stderr",
     "output_type": "stream",
     "text": [
      "\n",
      "\u001b[A"
     ]
    },
    {
     "name": "stdout",
     "output_type": "stream",
     "text": [
      "Scaler: RobustScaler\n",
      "Resampler: SMOTE\n",
      "Classifier: KNeighbors\n",
      "Balanced Accuracy: 0.7549604263725171\n",
      "Classification Report:\n",
      "              precision    recall  f1-score   support\n",
      "\n",
      "           0       0.97      0.85      0.90     17383\n",
      "           1       0.27      0.66      0.39      1506\n",
      "\n",
      "    accuracy                           0.83     18889\n",
      "   macro avg       0.62      0.75      0.64     18889\n",
      "weighted avg       0.91      0.83      0.86     18889\n",
      "\n",
      "================================================================================\n"
     ]
    },
    {
     "name": "stderr",
     "output_type": "stream",
     "text": [
      "\n",
      "\u001b[A"
     ]
    },
    {
     "name": "stdout",
     "output_type": "stream",
     "text": [
      "Scaler: RobustScaler\n",
      "Resampler: SMOTE\n",
      "Classifier: DecisionTree\n",
      "Balanced Accuracy: 0.7734400563387211\n",
      "Classification Report:\n",
      "              precision    recall  f1-score   support\n",
      "\n",
      "           0       0.96      0.95      0.96     17383\n",
      "           1       0.49      0.60      0.54      1506\n",
      "\n",
      "    accuracy                           0.92     18889\n",
      "   macro avg       0.73      0.77      0.75     18889\n",
      "weighted avg       0.93      0.92      0.92     18889\n",
      "\n",
      "================================================================================\n",
      "Scaler: RobustScaler\n",
      "Resampler: SMOTE\n",
      "Classifier: GaussianNB\n",
      "Balanced Accuracy: 0.7628952062657728\n",
      "Classification Report:\n",
      "              precision    recall  f1-score   support\n",
      "\n",
      "           0       0.96      0.97      0.97     17383\n",
      "           1       0.65      0.55      0.60      1506\n",
      "\n",
      "    accuracy                           0.94     18889\n",
      "   macro avg       0.80      0.76      0.78     18889\n",
      "weighted avg       0.94      0.94      0.94     18889\n",
      "\n",
      "================================================================================\n"
     ]
    },
    {
     "name": "stderr",
     "output_type": "stream",
     "text": [
      "\n",
      "\u001b[A"
     ]
    },
    {
     "name": "stdout",
     "output_type": "stream",
     "text": [
      "Scaler: RobustScaler\n",
      "Resampler: SMOTE\n",
      "Classifier: GradientBoosting\n",
      "Balanced Accuracy: 0.7869804411951993\n",
      "Classification Report:\n",
      "              precision    recall  f1-score   support\n",
      "\n",
      "           0       0.97      0.98      0.97     17383\n",
      "           1       0.70      0.60      0.64      1506\n",
      "\n",
      "    accuracy                           0.95     18889\n",
      "   macro avg       0.83      0.79      0.81     18889\n",
      "weighted avg       0.94      0.95      0.95     18889\n",
      "\n",
      "================================================================================\n"
     ]
    },
    {
     "name": "stderr",
     "output_type": "stream",
     "text": [
      "\n",
      "\u001b[A"
     ]
    },
    {
     "name": "stdout",
     "output_type": "stream",
     "text": [
      "Scaler: RobustScaler\n",
      "Resampler: SMOTE\n",
      "Classifier: AdaBoost\n",
      "Balanced Accuracy: 0.7888023353860631\n",
      "Classification Report:\n",
      "              precision    recall  f1-score   support\n",
      "\n",
      "           0       0.97      0.98      0.97     17383\n",
      "           1       0.68      0.60      0.64      1506\n",
      "\n",
      "    accuracy                           0.95     18889\n",
      "   macro avg       0.83      0.79      0.81     18889\n",
      "weighted avg       0.94      0.95      0.94     18889\n",
      "\n",
      "================================================================================\n"
     ]
    },
    {
     "name": "stderr",
     "output_type": "stream",
     "text": [
      "\n",
      "\u001b[A\n",
      "\u001b[A"
     ]
    },
    {
     "name": "stdout",
     "output_type": "stream",
     "text": [
      "Scaler: RobustScaler\n",
      "Resampler: SMOTE\n",
      "Classifier: Bagging\n",
      "Balanced Accuracy: 0.7755873474404745\n",
      "Classification Report:\n",
      "              precision    recall  f1-score   support\n",
      "\n",
      "           0       0.96      1.00      0.98     17383\n",
      "           1       0.91      0.56      0.69      1506\n",
      "\n",
      "    accuracy                           0.96     18889\n",
      "   macro avg       0.94      0.78      0.83     18889\n",
      "weighted avg       0.96      0.96      0.96     18889\n",
      "\n",
      "================================================================================\n"
     ]
    },
    {
     "name": "stderr",
     "output_type": "stream",
     "text": [
      "\n",
      "\u001b[A\n",
      "\u001b[A"
     ]
    },
    {
     "name": "stdout",
     "output_type": "stream",
     "text": [
      "Scaler: RobustScaler\n",
      "Resampler: SMOTETomek\n",
      "Classifier: RandomForest\n",
      "Balanced Accuracy: 0.7739248761535957\n",
      "Classification Report:\n",
      "              precision    recall  f1-score   support\n",
      "\n",
      "           0       0.96      1.00      0.98     17383\n",
      "           1       0.94      0.55      0.69      1506\n",
      "\n",
      "    accuracy                           0.96     18889\n",
      "   macro avg       0.95      0.77      0.84     18889\n",
      "weighted avg       0.96      0.96      0.96     18889\n",
      "\n",
      "================================================================================\n"
     ]
    },
    {
     "name": "stderr",
     "output_type": "stream",
     "text": [
      "\n",
      "\u001b[A"
     ]
    },
    {
     "name": "stdout",
     "output_type": "stream",
     "text": [
      "Scaler: RobustScaler\n",
      "Resampler: SMOTETomek\n",
      "Classifier: LogisticRegression\n",
      "Balanced Accuracy: 0.8002661161142692\n",
      "Classification Report:\n",
      "              precision    recall  f1-score   support\n",
      "\n",
      "           0       0.97      0.96      0.96     17383\n",
      "           1       0.58      0.64      0.61      1506\n",
      "\n",
      "    accuracy                           0.93     18889\n",
      "   macro avg       0.77      0.80      0.79     18889\n",
      "weighted avg       0.94      0.93      0.94     18889\n",
      "\n",
      "================================================================================\n"
     ]
    },
    {
     "name": "stderr",
     "output_type": "stream",
     "text": [
      "\n",
      "\u001b[A"
     ]
    },
    {
     "name": "stdout",
     "output_type": "stream",
     "text": [
      "Scaler: RobustScaler\n",
      "Resampler: SMOTETomek\n",
      "Classifier: XGBoost\n",
      "Balanced Accuracy: 0.7716559217119136\n",
      "Classification Report:\n",
      "              precision    recall  f1-score   support\n",
      "\n",
      "           0       0.96      1.00      0.98     17383\n",
      "           1       0.96      0.55      0.70      1506\n",
      "\n",
      "    accuracy                           0.96     18889\n",
      "   macro avg       0.96      0.77      0.84     18889\n",
      "weighted avg       0.96      0.96      0.96     18889\n",
      "\n",
      "================================================================================\n"
     ]
    },
    {
     "name": "stderr",
     "output_type": "stream",
     "text": [
      "\n",
      "\u001b[A"
     ]
    },
    {
     "name": "stdout",
     "output_type": "stream",
     "text": [
      "Scaler: RobustScaler\n",
      "Resampler: SMOTETomek\n",
      "Classifier: CatBoost\n",
      "Balanced Accuracy: 0.7714521308426765\n",
      "Classification Report:\n",
      "              precision    recall  f1-score   support\n",
      "\n",
      "           0       0.96      1.00      0.98     17383\n",
      "           1       0.98      0.54      0.70      1506\n",
      "\n",
      "    accuracy                           0.96     18889\n",
      "   macro avg       0.97      0.77      0.84     18889\n",
      "weighted avg       0.96      0.96      0.96     18889\n",
      "\n",
      "================================================================================\n"
     ]
    },
    {
     "name": "stderr",
     "output_type": "stream",
     "text": [
      "\n",
      "\u001b[A"
     ]
    },
    {
     "name": "stdout",
     "output_type": "stream",
     "text": [
      "Scaler: RobustScaler\n",
      "Resampler: SMOTETomek\n",
      "Classifier: KNeighbors\n",
      "Balanced Accuracy: 0.7549604263725171\n",
      "Classification Report:\n",
      "              precision    recall  f1-score   support\n",
      "\n",
      "           0       0.97      0.85      0.90     17383\n",
      "           1       0.27      0.66      0.39      1506\n",
      "\n",
      "    accuracy                           0.83     18889\n",
      "   macro avg       0.62      0.75      0.64     18889\n",
      "weighted avg       0.91      0.83      0.86     18889\n",
      "\n",
      "================================================================================\n"
     ]
    },
    {
     "name": "stderr",
     "output_type": "stream",
     "text": [
      "\n",
      "\u001b[A"
     ]
    },
    {
     "name": "stdout",
     "output_type": "stream",
     "text": [
      "Scaler: RobustScaler\n",
      "Resampler: SMOTETomek\n",
      "Classifier: DecisionTree\n",
      "Balanced Accuracy: 0.7759917586743288\n",
      "Classification Report:\n",
      "              precision    recall  f1-score   support\n",
      "\n",
      "           0       0.97      0.95      0.96     17383\n",
      "           1       0.50      0.60      0.55      1506\n",
      "\n",
      "    accuracy                           0.92     18889\n",
      "   macro avg       0.73      0.78      0.75     18889\n",
      "weighted avg       0.93      0.92      0.92     18889\n",
      "\n",
      "================================================================================\n",
      "Scaler: RobustScaler\n",
      "Resampler: SMOTETomek\n",
      "Classifier: GaussianNB\n",
      "Balanced Accuracy: 0.7628952062657728\n",
      "Classification Report:\n",
      "              precision    recall  f1-score   support\n",
      "\n",
      "           0       0.96      0.97      0.97     17383\n",
      "           1       0.65      0.55      0.60      1506\n",
      "\n",
      "    accuracy                           0.94     18889\n",
      "   macro avg       0.80      0.76      0.78     18889\n",
      "weighted avg       0.94      0.94      0.94     18889\n",
      "\n",
      "================================================================================\n"
     ]
    },
    {
     "name": "stderr",
     "output_type": "stream",
     "text": [
      "\n",
      "\u001b[A"
     ]
    },
    {
     "name": "stdout",
     "output_type": "stream",
     "text": [
      "Scaler: RobustScaler\n",
      "Resampler: SMOTETomek\n",
      "Classifier: GradientBoosting\n",
      "Balanced Accuracy: 0.7867322823607104\n",
      "Classification Report:\n",
      "              precision    recall  f1-score   support\n",
      "\n",
      "           0       0.97      0.98      0.97     17383\n",
      "           1       0.71      0.59      0.65      1506\n",
      "\n",
      "    accuracy                           0.95     18889\n",
      "   macro avg       0.84      0.79      0.81     18889\n",
      "weighted avg       0.95      0.95      0.95     18889\n",
      "\n",
      "================================================================================\n"
     ]
    },
    {
     "name": "stderr",
     "output_type": "stream",
     "text": [
      "\n",
      "\u001b[A"
     ]
    },
    {
     "name": "stdout",
     "output_type": "stream",
     "text": [
      "Scaler: RobustScaler\n",
      "Resampler: SMOTETomek\n",
      "Classifier: AdaBoost\n",
      "Balanced Accuracy: 0.7888310991207466\n",
      "Classification Report:\n",
      "              precision    recall  f1-score   support\n",
      "\n",
      "           0       0.97      0.98      0.97     17383\n",
      "           1       0.69      0.60      0.64      1506\n",
      "\n",
      "    accuracy                           0.95     18889\n",
      "   macro avg       0.83      0.79      0.81     18889\n",
      "weighted avg       0.94      0.95      0.94     18889\n",
      "\n",
      "================================================================================\n"
     ]
    },
    {
     "name": "stderr",
     "output_type": "stream",
     "text": [
      "\n",
      "\u001b[A\n",
      "\u001b[A"
     ]
    },
    {
     "name": "stdout",
     "output_type": "stream",
     "text": [
      "Scaler: RobustScaler\n",
      "Resampler: SMOTETomek\n",
      "Classifier: Bagging\n",
      "Balanced Accuracy: 0.7775530603047549\n",
      "Classification Report:\n",
      "              precision    recall  f1-score   support\n",
      "\n",
      "           0       0.96      0.99      0.98     17383\n",
      "           1       0.89      0.56      0.69      1506\n",
      "\n",
      "    accuracy                           0.96     18889\n",
      "   macro avg       0.93      0.78      0.83     18889\n",
      "weighted avg       0.96      0.96      0.96     18889\n",
      "\n",
      "================================================================================\n"
     ]
    },
    {
     "name": "stderr",
     "output_type": "stream",
     "text": [
      "\n",
      "\u001b[A\n",
      "\u001b[A"
     ]
    },
    {
     "name": "stdout",
     "output_type": "stream",
     "text": [
      "Scaler: RobustScaler\n",
      "Resampler: SMOTENC\n",
      "Classifier: RandomForest\n",
      "Balanced Accuracy: 0.7738961124189124\n",
      "Classification Report:\n",
      "              precision    recall  f1-score   support\n",
      "\n",
      "           0       0.96      1.00      0.98     17383\n",
      "           1       0.93      0.55      0.69      1506\n",
      "\n",
      "    accuracy                           0.96     18889\n",
      "   macro avg       0.95      0.77      0.84     18889\n",
      "weighted avg       0.96      0.96      0.96     18889\n",
      "\n",
      "================================================================================\n"
     ]
    },
    {
     "name": "stderr",
     "output_type": "stream",
     "text": [
      "\n",
      "\u001b[A"
     ]
    },
    {
     "name": "stdout",
     "output_type": "stream",
     "text": [
      "Scaler: RobustScaler\n",
      "Resampler: SMOTENC\n",
      "Classifier: LogisticRegression\n",
      "Balanced Accuracy: 0.8009876542078058\n",
      "Classification Report:\n",
      "              precision    recall  f1-score   support\n",
      "\n",
      "           0       0.97      0.96      0.96     17383\n",
      "           1       0.58      0.64      0.61      1506\n",
      "\n",
      "    accuracy                           0.93     18889\n",
      "   macro avg       0.77      0.80      0.79     18889\n",
      "weighted avg       0.94      0.93      0.94     18889\n",
      "\n",
      "================================================================================\n"
     ]
    },
    {
     "name": "stderr",
     "output_type": "stream",
     "text": [
      "\n",
      "\u001b[A"
     ]
    },
    {
     "name": "stdout",
     "output_type": "stream",
     "text": [
      "Scaler: RobustScaler\n",
      "Resampler: SMOTENC\n",
      "Classifier: XGBoost\n",
      "Balanced Accuracy: 0.7724062235401334\n",
      "Classification Report:\n",
      "              precision    recall  f1-score   support\n",
      "\n",
      "           0       0.96      1.00      0.98     17383\n",
      "           1       0.97      0.55      0.70      1506\n",
      "\n",
      "    accuracy                           0.96     18889\n",
      "   macro avg       0.96      0.77      0.84     18889\n",
      "weighted avg       0.96      0.96      0.96     18889\n",
      "\n",
      "================================================================================\n"
     ]
    },
    {
     "name": "stderr",
     "output_type": "stream",
     "text": [
      "\n",
      "\u001b[A"
     ]
    },
    {
     "name": "stdout",
     "output_type": "stream",
     "text": [
      "Scaler: RobustScaler\n",
      "Resampler: SMOTENC\n",
      "Classifier: CatBoost\n",
      "Balanced Accuracy: 0.7722311964055798\n",
      "Classification Report:\n",
      "              precision    recall  f1-score   support\n",
      "\n",
      "           0       0.96      1.00      0.98     17383\n",
      "           1       0.99      0.55      0.70      1506\n",
      "\n",
      "    accuracy                           0.96     18889\n",
      "   macro avg       0.97      0.77      0.84     18889\n",
      "weighted avg       0.96      0.96      0.96     18889\n",
      "\n",
      "================================================================================\n"
     ]
    },
    {
     "name": "stderr",
     "output_type": "stream",
     "text": [
      "\n",
      "\u001b[A"
     ]
    },
    {
     "name": "stdout",
     "output_type": "stream",
     "text": [
      "Scaler: RobustScaler\n",
      "Resampler: SMOTENC\n",
      "Classifier: KNeighbors\n",
      "Balanced Accuracy: 0.7580546860860456\n",
      "Classification Report:\n",
      "              precision    recall  f1-score   support\n",
      "\n",
      "           0       0.97      0.86      0.91     17383\n",
      "           1       0.29      0.66      0.40      1506\n",
      "\n",
      "    accuracy                           0.84     18889\n",
      "   macro avg       0.63      0.76      0.66     18889\n",
      "weighted avg       0.91      0.84      0.87     18889\n",
      "\n",
      "================================================================================\n"
     ]
    },
    {
     "name": "stderr",
     "output_type": "stream",
     "text": [
      "\n",
      "\u001b[A"
     ]
    },
    {
     "name": "stdout",
     "output_type": "stream",
     "text": [
      "Scaler: RobustScaler\n",
      "Resampler: SMOTENC\n",
      "Classifier: DecisionTree\n",
      "Balanced Accuracy: 0.7723684639760772\n",
      "Classification Report:\n",
      "              precision    recall  f1-score   support\n",
      "\n",
      "           0       0.96      0.95      0.96     17383\n",
      "           1       0.50      0.60      0.54      1506\n",
      "\n",
      "    accuracy                           0.92     18889\n",
      "   macro avg       0.73      0.77      0.75     18889\n",
      "weighted avg       0.93      0.92      0.92     18889\n",
      "\n",
      "================================================================================\n",
      "Scaler: RobustScaler\n",
      "Resampler: SMOTENC\n",
      "Classifier: GaussianNB\n",
      "Balanced Accuracy: 0.7628376787964062\n",
      "Classification Report:\n",
      "              precision    recall  f1-score   support\n",
      "\n",
      "           0       0.96      0.97      0.97     17383\n",
      "           1       0.65      0.55      0.60      1506\n",
      "\n",
      "    accuracy                           0.94     18889\n",
      "   macro avg       0.80      0.76      0.78     18889\n",
      "weighted avg       0.94      0.94      0.94     18889\n",
      "\n",
      "================================================================================\n"
     ]
    },
    {
     "name": "stderr",
     "output_type": "stream",
     "text": [
      "\n",
      "\u001b[A"
     ]
    },
    {
     "name": "stdout",
     "output_type": "stream",
     "text": [
      "Scaler: RobustScaler\n",
      "Resampler: SMOTENC\n",
      "Classifier: GradientBoosting\n",
      "Balanced Accuracy: 0.7921297226862746\n",
      "Classification Report:\n",
      "              precision    recall  f1-score   support\n",
      "\n",
      "           0       0.97      0.97      0.97     17383\n",
      "           1       0.65      0.61      0.63      1506\n",
      "\n",
      "    accuracy                           0.94     18889\n",
      "   macro avg       0.81      0.79      0.80     18889\n",
      "weighted avg       0.94      0.94      0.94     18889\n",
      "\n",
      "================================================================================\n"
     ]
    },
    {
     "name": "stderr",
     "output_type": "stream",
     "text": [
      "\n",
      "\u001b[A"
     ]
    },
    {
     "name": "stdout",
     "output_type": "stream",
     "text": [
      "Scaler: RobustScaler\n",
      "Resampler: SMOTENC\n",
      "Classifier: AdaBoost\n",
      "Balanced Accuracy: 0.7918552448435563\n",
      "Classification Report:\n",
      "              precision    recall  f1-score   support\n",
      "\n",
      "           0       0.97      0.97      0.97     17383\n",
      "           1       0.66      0.61      0.63      1506\n",
      "\n",
      "    accuracy                           0.94     18889\n",
      "   macro avg       0.81      0.79      0.80     18889\n",
      "weighted avg       0.94      0.94      0.94     18889\n",
      "\n",
      "================================================================================\n"
     ]
    },
    {
     "name": "stderr",
     "output_type": "stream",
     "text": [
      "\n",
      "\u001b[A\n",
      "\u001b[A"
     ]
    },
    {
     "name": "stdout",
     "output_type": "stream",
     "text": [
      "Scaler: RobustScaler\n",
      "Resampler: SMOTENC\n",
      "Classifier: Bagging\n",
      "Balanced Accuracy: 0.7754147650323746\n",
      "Classification Report:\n",
      "              precision    recall  f1-score   support\n",
      "\n",
      "           0       0.96      1.00      0.98     17383\n",
      "           1       0.91      0.56      0.69      1506\n",
      "\n",
      "    accuracy                           0.96     18889\n",
      "   macro avg       0.93      0.78      0.83     18889\n",
      "weighted avg       0.96      0.96      0.96     18889\n",
      "\n",
      "================================================================================\n"
     ]
    },
    {
     "name": "stderr",
     "output_type": "stream",
     "text": [
      "\n",
      "\u001b[A\n",
      "\u001b[A"
     ]
    },
    {
     "name": "stdout",
     "output_type": "stream",
     "text": [
      "Scaler: RobustScaler\n",
      "Resampler: ADASYN\n",
      "Classifier: RandomForest\n",
      "Balanced Accuracy: 0.7766408908460961\n",
      "Classification Report:\n",
      "              precision    recall  f1-score   support\n",
      "\n",
      "           0       0.96      1.00      0.98     17383\n",
      "           1       0.92      0.56      0.69      1506\n",
      "\n",
      "    accuracy                           0.96     18889\n",
      "   macro avg       0.94      0.78      0.84     18889\n",
      "weighted avg       0.96      0.96      0.96     18889\n",
      "\n",
      "================================================================================\n"
     ]
    },
    {
     "name": "stderr",
     "output_type": "stream",
     "text": [
      "\n",
      "\u001b[A"
     ]
    },
    {
     "name": "stdout",
     "output_type": "stream",
     "text": [
      "Scaler: RobustScaler\n",
      "Resampler: ADASYN\n",
      "Classifier: LogisticRegression\n",
      "Balanced Accuracy: 0.8157906829794095\n",
      "Classification Report:\n",
      "              precision    recall  f1-score   support\n",
      "\n",
      "           0       0.97      0.91      0.94     17383\n",
      "           1       0.41      0.72      0.52      1506\n",
      "\n",
      "    accuracy                           0.89     18889\n",
      "   macro avg       0.69      0.82      0.73     18889\n",
      "weighted avg       0.93      0.89      0.91     18889\n",
      "\n",
      "================================================================================\n"
     ]
    },
    {
     "name": "stderr",
     "output_type": "stream",
     "text": [
      "\n",
      "\u001b[A"
     ]
    },
    {
     "name": "stdout",
     "output_type": "stream",
     "text": [
      "Scaler: RobustScaler\n",
      "Resampler: ADASYN\n",
      "Classifier: XGBoost\n",
      "Balanced Accuracy: 0.7723067728319688\n",
      "Classification Report:\n",
      "              precision    recall  f1-score   support\n",
      "\n",
      "           0       0.96      1.00      0.98     17383\n",
      "           1       0.95      0.55      0.69      1506\n",
      "\n",
      "    accuracy                           0.96     18889\n",
      "   macro avg       0.96      0.77      0.84     18889\n",
      "weighted avg       0.96      0.96      0.96     18889\n",
      "\n",
      "================================================================================\n"
     ]
    },
    {
     "name": "stderr",
     "output_type": "stream",
     "text": [
      "\n",
      "\u001b[A"
     ]
    },
    {
     "name": "stdout",
     "output_type": "stream",
     "text": [
      "Scaler: RobustScaler\n",
      "Resampler: ADASYN\n",
      "Classifier: CatBoost\n",
      "Balanced Accuracy: 0.7722887238749464\n",
      "Classification Report:\n",
      "              precision    recall  f1-score   support\n",
      "\n",
      "           0       0.96      1.00      0.98     17383\n",
      "           1       0.99      0.55      0.70      1506\n",
      "\n",
      "    accuracy                           0.96     18889\n",
      "   macro avg       0.98      0.77      0.84     18889\n",
      "weighted avg       0.96      0.96      0.96     18889\n",
      "\n",
      "================================================================================\n"
     ]
    },
    {
     "name": "stderr",
     "output_type": "stream",
     "text": [
      "\n",
      "\u001b[A"
     ]
    },
    {
     "name": "stdout",
     "output_type": "stream",
     "text": [
      "Scaler: RobustScaler\n",
      "Resampler: ADASYN\n",
      "Classifier: KNeighbors\n",
      "Balanced Accuracy: 0.7416819328374052\n",
      "Classification Report:\n",
      "              precision    recall  f1-score   support\n",
      "\n",
      "           0       0.97      0.80      0.87     17383\n",
      "           1       0.23      0.68      0.34      1506\n",
      "\n",
      "    accuracy                           0.79     18889\n",
      "   macro avg       0.60      0.74      0.61     18889\n",
      "weighted avg       0.91      0.79      0.83     18889\n",
      "\n",
      "================================================================================\n"
     ]
    },
    {
     "name": "stderr",
     "output_type": "stream",
     "text": [
      "\n",
      "\u001b[A"
     ]
    },
    {
     "name": "stdout",
     "output_type": "stream",
     "text": [
      "Scaler: RobustScaler\n",
      "Resampler: ADASYN\n",
      "Classifier: DecisionTree\n",
      "Balanced Accuracy: 0.7706762930826694\n",
      "Classification Report:\n",
      "              precision    recall  f1-score   support\n",
      "\n",
      "           0       0.96      0.94      0.95     17383\n",
      "           1       0.47      0.60      0.53      1506\n",
      "\n",
      "    accuracy                           0.92     18889\n",
      "   macro avg       0.72      0.77      0.74     18889\n",
      "weighted avg       0.93      0.92      0.92     18889\n",
      "\n",
      "================================================================================\n",
      "Scaler: RobustScaler\n",
      "Resampler: ADASYN\n",
      "Classifier: GaussianNB\n",
      "Balanced Accuracy: 0.7727758356208715\n",
      "Classification Report:\n",
      "              precision    recall  f1-score   support\n",
      "\n",
      "           0       0.96      0.99      0.97     17383\n",
      "           1       0.77      0.56      0.65      1506\n",
      "\n",
      "    accuracy                           0.95     18889\n",
      "   macro avg       0.87      0.77      0.81     18889\n",
      "weighted avg       0.95      0.95      0.95     18889\n",
      "\n",
      "================================================================================\n"
     ]
    },
    {
     "name": "stderr",
     "output_type": "stream",
     "text": [
      "\n",
      "\u001b[A"
     ]
    },
    {
     "name": "stdout",
     "output_type": "stream",
     "text": [
      "Scaler: RobustScaler\n",
      "Resampler: ADASYN\n",
      "Classifier: GradientBoosting\n",
      "Balanced Accuracy: 0.7905847510645829\n",
      "Classification Report:\n",
      "              precision    recall  f1-score   support\n",
      "\n",
      "           0       0.97      0.97      0.97     17383\n",
      "           1       0.66      0.61      0.63      1506\n",
      "\n",
      "    accuracy                           0.94     18889\n",
      "   macro avg       0.81      0.79      0.80     18889\n",
      "weighted avg       0.94      0.94      0.94     18889\n",
      "\n",
      "================================================================================\n"
     ]
    },
    {
     "name": "stderr",
     "output_type": "stream",
     "text": [
      "\n",
      "\u001b[A"
     ]
    },
    {
     "name": "stdout",
     "output_type": "stream",
     "text": [
      "Scaler: RobustScaler\n",
      "Resampler: ADASYN\n",
      "Classifier: AdaBoost\n",
      "Balanced Accuracy: 0.8109936903902157\n",
      "Classification Report:\n",
      "              precision    recall  f1-score   support\n",
      "\n",
      "           0       0.97      0.95      0.96     17383\n",
      "           1       0.54      0.67      0.60      1506\n",
      "\n",
      "    accuracy                           0.93     18889\n",
      "   macro avg       0.75      0.81      0.78     18889\n",
      "weighted avg       0.94      0.93      0.93     18889\n",
      "\n",
      "================================================================================\n"
     ]
    },
    {
     "name": "stderr",
     "output_type": "stream",
     "text": [
      "\n",
      "\u001b[A\n",
      "\u001b[A"
     ]
    },
    {
     "name": "stdout",
     "output_type": "stream",
     "text": [
      "Scaler: RobustScaler\n",
      "Resampler: ADASYN\n",
      "Classifier: Bagging\n",
      "Balanced Accuracy: 0.7791687188999281\n",
      "Classification Report:\n",
      "              precision    recall  f1-score   support\n",
      "\n",
      "           0       0.96      0.99      0.98     17383\n",
      "           1       0.90      0.56      0.69      1506\n",
      "\n",
      "    accuracy                           0.96     18889\n",
      "   macro avg       0.93      0.78      0.84     18889\n",
      "weighted avg       0.96      0.96      0.96     18889\n",
      "\n",
      "================================================================================\n"
     ]
    },
    {
     "name": "stderr",
     "output_type": "stream",
     "text": [
      "\n",
      "\u001b[A\n",
      "\u001b[A"
     ]
    },
    {
     "name": "stdout",
     "output_type": "stream",
     "text": [
      "Scaler: RobustScaler\n",
      "Resampler: SMOTEENN\n",
      "Classifier: RandomForest\n",
      "Balanced Accuracy: 0.8001158991333368\n",
      "Classification Report:\n",
      "              precision    recall  f1-score   support\n",
      "\n",
      "           0       0.97      0.97      0.97     17383\n",
      "           1       0.65      0.63      0.64      1506\n",
      "\n",
      "    accuracy                           0.94     18889\n",
      "   macro avg       0.81      0.80      0.80     18889\n",
      "weighted avg       0.94      0.94      0.94     18889\n",
      "\n",
      "================================================================================\n"
     ]
    },
    {
     "name": "stderr",
     "output_type": "stream",
     "text": [
      "\n",
      "\u001b[A"
     ]
    },
    {
     "name": "stdout",
     "output_type": "stream",
     "text": [
      "Scaler: RobustScaler\n",
      "Resampler: SMOTEENN\n",
      "Classifier: LogisticRegression\n",
      "Balanced Accuracy: 0.8239629642277694\n",
      "Classification Report:\n",
      "              precision    recall  f1-score   support\n",
      "\n",
      "           0       0.97      0.93      0.95     17383\n",
      "           1       0.47      0.72      0.57      1506\n",
      "\n",
      "    accuracy                           0.91     18889\n",
      "   macro avg       0.72      0.82      0.76     18889\n",
      "weighted avg       0.93      0.91      0.92     18889\n",
      "\n",
      "================================================================================\n"
     ]
    },
    {
     "name": "stderr",
     "output_type": "stream",
     "text": [
      "\n",
      "\u001b[A"
     ]
    },
    {
     "name": "stdout",
     "output_type": "stream",
     "text": [
      "Scaler: RobustScaler\n",
      "Resampler: SMOTEENN\n",
      "Classifier: XGBoost\n",
      "Balanced Accuracy: 0.7870954961339325\n",
      "Classification Report:\n",
      "              precision    recall  f1-score   support\n",
      "\n",
      "           0       0.97      0.98      0.97     17383\n",
      "           1       0.70      0.60      0.64      1506\n",
      "\n",
      "    accuracy                           0.95     18889\n",
      "   macro avg       0.83      0.79      0.81     18889\n",
      "weighted avg       0.94      0.95      0.95     18889\n",
      "\n",
      "================================================================================\n"
     ]
    },
    {
     "name": "stderr",
     "output_type": "stream",
     "text": [
      "\n",
      "\u001b[A"
     ]
    },
    {
     "name": "stdout",
     "output_type": "stream",
     "text": [
      "Scaler: RobustScaler\n",
      "Resampler: SMOTEENN\n",
      "Classifier: CatBoost\n",
      "Balanced Accuracy: 0.7848372564699113\n",
      "Classification Report:\n",
      "              precision    recall  f1-score   support\n",
      "\n",
      "           0       0.96      0.98      0.97     17383\n",
      "           1       0.73      0.59      0.65      1506\n",
      "\n",
      "    accuracy                           0.95     18889\n",
      "   macro avg       0.85      0.78      0.81     18889\n",
      "weighted avg       0.95      0.95      0.95     18889\n",
      "\n",
      "================================================================================\n"
     ]
    },
    {
     "name": "stderr",
     "output_type": "stream",
     "text": [
      "\n",
      "\u001b[A"
     ]
    },
    {
     "name": "stdout",
     "output_type": "stream",
     "text": [
      "Scaler: RobustScaler\n",
      "Resampler: SMOTEENN\n",
      "Classifier: KNeighbors\n",
      "Balanced Accuracy: 0.7434848421994013\n",
      "Classification Report:\n",
      "              precision    recall  f1-score   support\n",
      "\n",
      "           0       0.97      0.79      0.87     17383\n",
      "           1       0.22      0.70      0.34      1506\n",
      "\n",
      "    accuracy                           0.78     18889\n",
      "   macro avg       0.60      0.74      0.61     18889\n",
      "weighted avg       0.91      0.78      0.83     18889\n",
      "\n",
      "================================================================================\n"
     ]
    },
    {
     "name": "stderr",
     "output_type": "stream",
     "text": [
      "\n",
      "\u001b[A"
     ]
    },
    {
     "name": "stdout",
     "output_type": "stream",
     "text": [
      "Scaler: RobustScaler\n",
      "Resampler: SMOTEENN\n",
      "Classifier: DecisionTree\n",
      "Balanced Accuracy: 0.772744474364331\n",
      "Classification Report:\n",
      "              precision    recall  f1-score   support\n",
      "\n",
      "           0       0.97      0.92      0.94     17383\n",
      "           1       0.42      0.62      0.50      1506\n",
      "\n",
      "    accuracy                           0.90     18889\n",
      "   macro avg       0.69      0.77      0.72     18889\n",
      "weighted avg       0.92      0.90      0.91     18889\n",
      "\n",
      "================================================================================\n",
      "Scaler: RobustScaler\n",
      "Resampler: SMOTEENN\n",
      "Classifier: GaussianNB\n",
      "Balanced Accuracy: 0.767605697557237\n",
      "Classification Report:\n",
      "              precision    recall  f1-score   support\n",
      "\n",
      "           0       0.96      0.97      0.97     17383\n",
      "           1       0.63      0.56      0.60      1506\n",
      "\n",
      "    accuracy                           0.94     18889\n",
      "   macro avg       0.80      0.77      0.78     18889\n",
      "weighted avg       0.94      0.94      0.94     18889\n",
      "\n",
      "================================================================================\n"
     ]
    },
    {
     "name": "stderr",
     "output_type": "stream",
     "text": [
      "\n",
      "\u001b[A"
     ]
    },
    {
     "name": "stdout",
     "output_type": "stream",
     "text": [
      "Scaler: RobustScaler\n",
      "Resampler: SMOTEENN\n",
      "Classifier: GradientBoosting\n",
      "Balanced Accuracy: 0.8183066502900553\n",
      "Classification Report:\n",
      "              precision    recall  f1-score   support\n",
      "\n",
      "           0       0.97      0.94      0.95     17383\n",
      "           1       0.49      0.70      0.58      1506\n",
      "\n",
      "    accuracy                           0.92     18889\n",
      "   macro avg       0.73      0.82      0.77     18889\n",
      "weighted avg       0.93      0.92      0.92     18889\n",
      "\n",
      "================================================================================\n"
     ]
    },
    {
     "name": "stderr",
     "output_type": "stream",
     "text": [
      "\n",
      "\u001b[A"
     ]
    },
    {
     "name": "stdout",
     "output_type": "stream",
     "text": [
      "Scaler: RobustScaler\n",
      "Resampler: SMOTEENN\n",
      "Classifier: AdaBoost\n",
      "Balanced Accuracy: 0.8133440465830402\n",
      "Classification Report:\n",
      "              precision    recall  f1-score   support\n",
      "\n",
      "           0       0.97      0.95      0.96     17383\n",
      "           1       0.55      0.68      0.60      1506\n",
      "\n",
      "    accuracy                           0.93     18889\n",
      "   macro avg       0.76      0.81      0.78     18889\n",
      "weighted avg       0.94      0.93      0.93     18889\n",
      "\n",
      "================================================================================\n"
     ]
    },
    {
     "name": "stderr",
     "output_type": "stream",
     "text": [
      "\n",
      "\u001b[A\n",
      "\u001b[A"
     ]
    },
    {
     "name": "stdout",
     "output_type": "stream",
     "text": [
      "Scaler: RobustScaler\n",
      "Resampler: SMOTEENN\n",
      "Classifier: Bagging\n",
      "Balanced Accuracy: 0.7942319200446102\n",
      "Classification Report:\n",
      "              precision    recall  f1-score   support\n",
      "\n",
      "           0       0.97      0.97      0.97     17383\n",
      "           1       0.68      0.61      0.64      1506\n",
      "\n",
      "    accuracy                           0.95     18889\n",
      "   macro avg       0.82      0.79      0.81     18889\n",
      "weighted avg       0.94      0.95      0.94     18889\n",
      "\n",
      "================================================================================\n"
     ]
    },
    {
     "name": "stderr",
     "output_type": "stream",
     "text": [
      "\n",
      "\u001b[A\n",
      "\u001b[A"
     ]
    },
    {
     "name": "stdout",
     "output_type": "stream",
     "text": [
      "Scaler: RobustScaler\n",
      "Resampler: RandomUnderSampler\n",
      "Classifier: RandomForest\n",
      "Balanced Accuracy: 0.8225569218265866\n",
      "Classification Report:\n",
      "              precision    recall  f1-score   support\n",
      "\n",
      "           0       0.97      0.93      0.95     17383\n",
      "           1       0.48      0.71      0.58      1506\n",
      "\n",
      "    accuracy                           0.92     18889\n",
      "   macro avg       0.73      0.82      0.76     18889\n",
      "weighted avg       0.93      0.92      0.92     18889\n",
      "\n",
      "================================================================================\n",
      "Scaler: RobustScaler\n",
      "Resampler: RandomUnderSampler\n",
      "Classifier: LogisticRegression\n",
      "Balanced Accuracy: 0.7896857411100388\n",
      "Classification Report:\n",
      "              precision    recall  f1-score   support\n",
      "\n",
      "           0       0.97      0.97      0.97     17383\n",
      "           1       0.67      0.60      0.64      1506\n",
      "\n",
      "    accuracy                           0.94     18889\n",
      "   macro avg       0.82      0.79      0.80     18889\n",
      "weighted avg       0.94      0.94      0.94     18889\n",
      "\n",
      "================================================================================\n"
     ]
    },
    {
     "name": "stderr",
     "output_type": "stream",
     "text": [
      "\n",
      "\u001b[A"
     ]
    },
    {
     "name": "stdout",
     "output_type": "stream",
     "text": [
      "Scaler: RobustScaler\n",
      "Resampler: RandomUnderSampler\n",
      "Classifier: XGBoost\n",
      "Balanced Accuracy: 0.8005000267773945\n",
      "Classification Report:\n",
      "              precision    recall  f1-score   support\n",
      "\n",
      "           0       0.97      0.89      0.93     17383\n",
      "           1       0.35      0.71      0.47      1506\n",
      "\n",
      "    accuracy                           0.87     18889\n",
      "   macro avg       0.66      0.80      0.70     18889\n",
      "weighted avg       0.92      0.87      0.89     18889\n",
      "\n",
      "================================================================================\n"
     ]
    },
    {
     "name": "stderr",
     "output_type": "stream",
     "text": [
      "\n",
      "\u001b[A\n",
      "\u001b[A"
     ]
    },
    {
     "name": "stdout",
     "output_type": "stream",
     "text": [
      "Scaler: RobustScaler\n",
      "Resampler: RandomUnderSampler\n",
      "Classifier: CatBoost\n",
      "Balanced Accuracy: 0.8209798058719121\n",
      "Classification Report:\n",
      "              precision    recall  f1-score   support\n",
      "\n",
      "           0       0.97      0.93      0.95     17383\n",
      "           1       0.46      0.71      0.56      1506\n",
      "\n",
      "    accuracy                           0.91     18889\n",
      "   macro avg       0.72      0.82      0.76     18889\n",
      "weighted avg       0.93      0.91      0.92     18889\n",
      "\n",
      "================================================================================\n",
      "Scaler: RobustScaler\n",
      "Resampler: RandomUnderSampler\n",
      "Classifier: KNeighbors\n",
      "Balanced Accuracy: 0.7662596846501508\n",
      "Classification Report:\n",
      "              precision    recall  f1-score   support\n",
      "\n",
      "           0       0.97      0.87      0.92     17383\n",
      "           1       0.31      0.66      0.42      1506\n",
      "\n",
      "    accuracy                           0.85     18889\n",
      "   macro avg       0.64      0.77      0.67     18889\n",
      "weighted avg       0.91      0.85      0.88     18889\n",
      "\n",
      "================================================================================\n"
     ]
    },
    {
     "name": "stderr",
     "output_type": "stream",
     "text": [
      "\n",
      "\u001b[A"
     ]
    },
    {
     "name": "stdout",
     "output_type": "stream",
     "text": [
      "Scaler: RobustScaler\n",
      "Resampler: RandomUnderSampler\n",
      "Classifier: DecisionTree\n",
      "Balanced Accuracy: 0.727151204574022\n",
      "Classification Report:\n",
      "              precision    recall  f1-score   support\n",
      "\n",
      "           0       0.97      0.71      0.82     17383\n",
      "           1       0.18      0.74      0.29      1506\n",
      "\n",
      "    accuracy                           0.71     18889\n",
      "   macro avg       0.58      0.73      0.56     18889\n",
      "weighted avg       0.91      0.71      0.78     18889\n",
      "\n",
      "================================================================================\n",
      "Scaler: RobustScaler\n",
      "Resampler: RandomUnderSampler\n",
      "Classifier: GaussianNB\n",
      "Balanced Accuracy: 0.7613707283275573\n",
      "Classification Report:\n",
      "              precision    recall  f1-score   support\n",
      "\n",
      "           0       0.96      0.97      0.97     17383\n",
      "           1       0.62      0.55      0.58      1506\n",
      "\n",
      "    accuracy                           0.94     18889\n",
      "   macro avg       0.79      0.76      0.78     18889\n",
      "weighted avg       0.93      0.94      0.94     18889\n",
      "\n",
      "================================================================================\n"
     ]
    },
    {
     "name": "stderr",
     "output_type": "stream",
     "text": [
      "\n",
      "\u001b[A"
     ]
    },
    {
     "name": "stdout",
     "output_type": "stream",
     "text": [
      "Scaler: RobustScaler\n",
      "Resampler: RandomUnderSampler\n",
      "Classifier: GradientBoosting\n",
      "Balanced Accuracy: 0.8240312064747969\n",
      "Classification Report:\n",
      "              precision    recall  f1-score   support\n",
      "\n",
      "           0       0.97      0.93      0.95     17383\n",
      "           1       0.48      0.72      0.57      1506\n",
      "\n",
      "    accuracy                           0.92     18889\n",
      "   macro avg       0.73      0.82      0.76     18889\n",
      "weighted avg       0.93      0.92      0.92     18889\n",
      "\n",
      "================================================================================\n"
     ]
    },
    {
     "name": "stderr",
     "output_type": "stream",
     "text": [
      "\n",
      "\u001b[A"
     ]
    },
    {
     "name": "stdout",
     "output_type": "stream",
     "text": [
      "Scaler: RobustScaler\n",
      "Resampler: RandomUnderSampler\n",
      "Classifier: AdaBoost\n",
      "Balanced Accuracy: 0.8249804097193462\n",
      "Classification Report:\n",
      "              precision    recall  f1-score   support\n",
      "\n",
      "           0       0.97      0.93      0.95     17383\n",
      "           1       0.49      0.72      0.58      1506\n",
      "\n",
      "    accuracy                           0.92     18889\n",
      "   macro avg       0.73      0.82      0.77     18889\n",
      "weighted avg       0.94      0.92      0.92     18889\n",
      "\n",
      "================================================================================\n"
     ]
    },
    {
     "name": "stderr",
     "output_type": "stream",
     "text": [
      "\n",
      "\u001b[A\n",
      "\u001b[A"
     ]
    },
    {
     "name": "stdout",
     "output_type": "stream",
     "text": [
      "Scaler: RobustScaler\n",
      "Resampler: RandomUnderSampler\n",
      "Classifier: Bagging\n",
      "Balanced Accuracy: 0.7984688792816232\n",
      "Classification Report:\n",
      "              precision    recall  f1-score   support\n",
      "\n",
      "           0       0.97      0.91      0.94     17383\n",
      "           1       0.39      0.69      0.50      1506\n",
      "\n",
      "    accuracy                           0.89     18889\n",
      "   macro avg       0.68      0.80      0.72     18889\n",
      "weighted avg       0.93      0.89      0.90     18889\n",
      "\n",
      "================================================================================\n"
     ]
    },
    {
     "name": "stderr",
     "output_type": "stream",
     "text": [
      "\n",
      "\u001b[A\n",
      "\u001b[A"
     ]
    },
    {
     "name": "stdout",
     "output_type": "stream",
     "text": [
      "Scaler: RobustScaler\n",
      "Resampler: NearMiss\n",
      "Classifier: RandomForest\n",
      "Balanced Accuracy: 0.7353964647269138\n",
      "Classification Report:\n",
      "              precision    recall  f1-score   support\n",
      "\n",
      "           0       0.97      0.67      0.79     17383\n",
      "           1       0.17      0.80      0.29      1506\n",
      "\n",
      "    accuracy                           0.68     18889\n",
      "   macro avg       0.57      0.74      0.54     18889\n",
      "weighted avg       0.91      0.68      0.75     18889\n",
      "\n",
      "================================================================================\n",
      "Scaler: RobustScaler\n",
      "Resampler: NearMiss\n",
      "Classifier: LogisticRegression\n",
      "Balanced Accuracy: 0.7585918383265725\n",
      "Classification Report:\n",
      "              precision    recall  f1-score   support\n",
      "\n",
      "           0       0.97      0.79      0.87     17383\n",
      "           1       0.23      0.73      0.35      1506\n",
      "\n",
      "    accuracy                           0.78     18889\n",
      "   macro avg       0.60      0.76      0.61     18889\n",
      "weighted avg       0.91      0.78      0.83     18889\n",
      "\n",
      "================================================================================\n"
     ]
    },
    {
     "name": "stderr",
     "output_type": "stream",
     "text": [
      "\n",
      "\u001b[A"
     ]
    },
    {
     "name": "stdout",
     "output_type": "stream",
     "text": [
      "Scaler: RobustScaler\n",
      "Resampler: NearMiss\n",
      "Classifier: XGBoost\n",
      "Balanced Accuracy: 0.7104120670475398\n",
      "Classification Report:\n",
      "              precision    recall  f1-score   support\n",
      "\n",
      "           0       0.97      0.61      0.75     17383\n",
      "           1       0.15      0.82      0.26      1506\n",
      "\n",
      "    accuracy                           0.62     18889\n",
      "   macro avg       0.56      0.71      0.50     18889\n",
      "weighted avg       0.91      0.62      0.71     18889\n",
      "\n",
      "================================================================================\n"
     ]
    },
    {
     "name": "stderr",
     "output_type": "stream",
     "text": [
      "\n",
      "\u001b[A\n",
      "\u001b[A"
     ]
    },
    {
     "name": "stdout",
     "output_type": "stream",
     "text": [
      "Scaler: RobustScaler\n",
      "Resampler: NearMiss\n",
      "Classifier: CatBoost\n",
      "Balanced Accuracy: 0.7206709414236665\n",
      "Classification Report:\n",
      "              precision    recall  f1-score   support\n",
      "\n",
      "           0       0.97      0.63      0.77     17383\n",
      "           1       0.16      0.81      0.27      1506\n",
      "\n",
      "    accuracy                           0.65     18889\n",
      "   macro avg       0.57      0.72      0.52     18889\n",
      "weighted avg       0.91      0.65      0.73     18889\n",
      "\n",
      "================================================================================\n",
      "Scaler: RobustScaler\n",
      "Resampler: NearMiss\n",
      "Classifier: KNeighbors\n",
      "Balanced Accuracy: 0.7701583930629665\n",
      "Classification Report:\n",
      "              precision    recall  f1-score   support\n",
      "\n",
      "           0       0.97      0.88      0.92     17383\n",
      "           1       0.32      0.66      0.43      1506\n",
      "\n",
      "    accuracy                           0.86     18889\n",
      "   macro avg       0.64      0.77      0.68     18889\n",
      "weighted avg       0.92      0.86      0.88     18889\n",
      "\n",
      "================================================================================\n"
     ]
    },
    {
     "name": "stderr",
     "output_type": "stream",
     "text": [
      "\n",
      "\u001b[A"
     ]
    },
    {
     "name": "stdout",
     "output_type": "stream",
     "text": [
      "Scaler: RobustScaler\n",
      "Resampler: NearMiss\n",
      "Classifier: DecisionTree\n",
      "Balanced Accuracy: 0.6883053415974255\n",
      "Classification Report:\n",
      "              precision    recall  f1-score   support\n",
      "\n",
      "           0       0.97      0.58      0.72     17383\n",
      "           1       0.14      0.80      0.24      1506\n",
      "\n",
      "    accuracy                           0.60     18889\n",
      "   macro avg       0.56      0.69      0.48     18889\n",
      "weighted avg       0.90      0.60      0.69     18889\n",
      "\n",
      "================================================================================\n",
      "Scaler: RobustScaler\n",
      "Resampler: NearMiss\n",
      "Classifier: GaussianNB\n",
      "Balanced Accuracy: 0.7560612981543309\n",
      "Classification Report:\n",
      "              precision    recall  f1-score   support\n",
      "\n",
      "           0       0.96      0.93      0.95     17383\n",
      "           1       0.42      0.58      0.49      1506\n",
      "\n",
      "    accuracy                           0.90     18889\n",
      "   macro avg       0.69      0.76      0.72     18889\n",
      "weighted avg       0.92      0.90      0.91     18889\n",
      "\n",
      "================================================================================\n"
     ]
    },
    {
     "name": "stderr",
     "output_type": "stream",
     "text": [
      "\n",
      "\u001b[A"
     ]
    },
    {
     "name": "stdout",
     "output_type": "stream",
     "text": [
      "Scaler: RobustScaler\n",
      "Resampler: NearMiss\n",
      "Classifier: GradientBoosting\n",
      "Balanced Accuracy: 0.7344989636269779\n",
      "Classification Report:\n",
      "              precision    recall  f1-score   support\n",
      "\n",
      "           0       0.98      0.66      0.79     17383\n",
      "           1       0.17      0.81      0.28      1506\n",
      "\n",
      "    accuracy                           0.67     18889\n",
      "   macro avg       0.57      0.73      0.54     18889\n",
      "weighted avg       0.91      0.67      0.75     18889\n",
      "\n",
      "================================================================================\n"
     ]
    },
    {
     "name": "stderr",
     "output_type": "stream",
     "text": [
      "\n",
      "\u001b[A"
     ]
    },
    {
     "name": "stdout",
     "output_type": "stream",
     "text": [
      "Scaler: RobustScaler\n",
      "Resampler: NearMiss\n",
      "Classifier: AdaBoost\n",
      "Balanced Accuracy: 0.7192771226547529\n",
      "Classification Report:\n",
      "              precision    recall  f1-score   support\n",
      "\n",
      "           0       0.97      0.63      0.76     17383\n",
      "           1       0.16      0.81      0.27      1506\n",
      "\n",
      "    accuracy                           0.64     18889\n",
      "   macro avg       0.57      0.72      0.51     18889\n",
      "weighted avg       0.91      0.64      0.72     18889\n",
      "\n",
      "================================================================================\n"
     ]
    },
    {
     "name": "stderr",
     "output_type": "stream",
     "text": [
      "\n",
      "\u001b[A\n",
      "\u001b[A"
     ]
    },
    {
     "name": "stdout",
     "output_type": "stream",
     "text": [
      "Scaler: RobustScaler\n",
      "Resampler: NearMiss\n",
      "Classifier: Bagging\n",
      "Balanced Accuracy: 0.7304631977373446\n",
      "Classification Report:\n",
      "              precision    recall  f1-score   support\n",
      "\n",
      "           0       0.97      0.67      0.79     17383\n",
      "           1       0.17      0.79      0.28      1506\n",
      "\n",
      "    accuracy                           0.68     18889\n",
      "   macro avg       0.57      0.73      0.54     18889\n",
      "weighted avg       0.91      0.68      0.75     18889\n",
      "\n",
      "================================================================================\n"
     ]
    },
    {
     "name": "stderr",
     "output_type": "stream",
     "text": [
      "\n",
      "\u001b[A\n",
      "\u001b[A"
     ]
    },
    {
     "name": "stdout",
     "output_type": "stream",
     "text": [
      "Scaler: RobustScaler\n",
      "Resampler: TomekLinks\n",
      "Classifier: RandomForest\n",
      "Balanced Accuracy: 0.7708875709266713\n",
      "Classification Report:\n",
      "              precision    recall  f1-score   support\n",
      "\n",
      "           0       0.96      1.00      0.98     17383\n",
      "           1       1.00      0.54      0.70      1506\n",
      "\n",
      "    accuracy                           0.96     18889\n",
      "   macro avg       0.98      0.77      0.84     18889\n",
      "weighted avg       0.96      0.96      0.96     18889\n",
      "\n",
      "================================================================================\n"
     ]
    },
    {
     "name": "stderr",
     "output_type": "stream",
     "text": [
      "\n",
      "\u001b[A"
     ]
    },
    {
     "name": "stdout",
     "output_type": "stream",
     "text": [
      "Scaler: RobustScaler\n",
      "Resampler: TomekLinks\n",
      "Classifier: LogisticRegression\n",
      "Balanced Accuracy: 0.7678780935625844\n",
      "Classification Report:\n",
      "              precision    recall  f1-score   support\n",
      "\n",
      "           0       0.96      1.00      0.98     17383\n",
      "           1       0.92      0.54      0.68      1506\n",
      "\n",
      "    accuracy                           0.96     18889\n",
      "   macro avg       0.94      0.77      0.83     18889\n",
      "weighted avg       0.96      0.96      0.95     18889\n",
      "\n",
      "================================================================================\n"
     ]
    },
    {
     "name": "stderr",
     "output_type": "stream",
     "text": [
      "\n",
      "\u001b[A"
     ]
    },
    {
     "name": "stdout",
     "output_type": "stream",
     "text": [
      "Scaler: RobustScaler\n",
      "Resampler: TomekLinks\n",
      "Classifier: XGBoost\n",
      "Balanced Accuracy: 0.7726100144093705\n",
      "Classification Report:\n",
      "              precision    recall  f1-score   support\n",
      "\n",
      "           0       0.96      1.00      0.98     17383\n",
      "           1       0.95      0.55      0.69      1506\n",
      "\n",
      "    accuracy                           0.96     18889\n",
      "   macro avg       0.96      0.77      0.84     18889\n",
      "weighted avg       0.96      0.96      0.96     18889\n",
      "\n",
      "================================================================================\n"
     ]
    },
    {
     "name": "stderr",
     "output_type": "stream",
     "text": [
      "\n",
      "\u001b[A"
     ]
    },
    {
     "name": "stdout",
     "output_type": "stream",
     "text": [
      "Scaler: RobustScaler\n",
      "Resampler: TomekLinks\n",
      "Classifier: CatBoost\n",
      "Balanced Accuracy: 0.7712351804693248\n",
      "Classification Report:\n",
      "              precision    recall  f1-score   support\n",
      "\n",
      "           0       0.96      1.00      0.98     17383\n",
      "           1       0.99      0.54      0.70      1506\n",
      "\n",
      "    accuracy                           0.96     18889\n",
      "   macro avg       0.97      0.77      0.84     18889\n",
      "weighted avg       0.96      0.96      0.96     18889\n",
      "\n",
      "================================================================================\n"
     ]
    },
    {
     "name": "stderr",
     "output_type": "stream",
     "text": [
      "\n",
      "\u001b[A"
     ]
    },
    {
     "name": "stdout",
     "output_type": "stream",
     "text": [
      "Scaler: RobustScaler\n",
      "Resampler: TomekLinks\n",
      "Classifier: KNeighbors\n",
      "Balanced Accuracy: 0.7700163888349648\n",
      "Classification Report:\n",
      "              precision    recall  f1-score   support\n",
      "\n",
      "           0       0.96      0.99      0.98     17383\n",
      "           1       0.90      0.55      0.68      1506\n",
      "\n",
      "    accuracy                           0.96     18889\n",
      "   macro avg       0.93      0.77      0.83     18889\n",
      "weighted avg       0.96      0.96      0.95     18889\n",
      "\n",
      "================================================================================\n"
     ]
    },
    {
     "name": "stderr",
     "output_type": "stream",
     "text": [
      "\n",
      "\u001b[A"
     ]
    },
    {
     "name": "stdout",
     "output_type": "stream",
     "text": [
      "Scaler: RobustScaler\n",
      "Resampler: TomekLinks\n",
      "Classifier: DecisionTree\n",
      "Balanced Accuracy: 0.7697962679569933\n",
      "Classification Report:\n",
      "              precision    recall  f1-score   support\n",
      "\n",
      "           0       0.96      0.95      0.96     17383\n",
      "           1       0.51      0.59      0.54      1506\n",
      "\n",
      "    accuracy                           0.92     18889\n",
      "   macro avg       0.73      0.77      0.75     18889\n",
      "weighted avg       0.93      0.92      0.92     18889\n",
      "\n",
      "================================================================================\n",
      "Scaler: RobustScaler\n",
      "Resampler: TomekLinks\n",
      "Classifier: GaussianNB\n",
      "Balanced Accuracy: 0.7670824878972671\n",
      "Classification Report:\n",
      "              precision    recall  f1-score   support\n",
      "\n",
      "           0       0.96      0.99      0.98     17383\n",
      "           1       0.81      0.55      0.65      1506\n",
      "\n",
      "    accuracy                           0.95     18889\n",
      "   macro avg       0.89      0.77      0.81     18889\n",
      "weighted avg       0.95      0.95      0.95     18889\n",
      "\n",
      "================================================================================\n"
     ]
    },
    {
     "name": "stderr",
     "output_type": "stream",
     "text": [
      "\n",
      "\u001b[A"
     ]
    },
    {
     "name": "stdout",
     "output_type": "stream",
     "text": [
      "Scaler: RobustScaler\n",
      "Resampler: TomekLinks\n",
      "Classifier: GradientBoosting\n",
      "Balanced Accuracy: 0.7707149885185713\n",
      "Classification Report:\n",
      "              precision    recall  f1-score   support\n",
      "\n",
      "           0       0.96      1.00      0.98     17383\n",
      "           1       0.99      0.54      0.70      1506\n",
      "\n",
      "    accuracy                           0.96     18889\n",
      "   macro avg       0.98      0.77      0.84     18889\n",
      "weighted avg       0.96      0.96      0.96     18889\n",
      "\n",
      "================================================================================\n"
     ]
    },
    {
     "name": "stderr",
     "output_type": "stream",
     "text": [
      "\n",
      "\u001b[A"
     ]
    },
    {
     "name": "stdout",
     "output_type": "stream",
     "text": [
      "Scaler: RobustScaler\n",
      "Resampler: TomekLinks\n",
      "Classifier: AdaBoost\n",
      "Balanced Accuracy: 0.7708875709266713\n",
      "Classification Report:\n",
      "              precision    recall  f1-score   support\n",
      "\n",
      "           0       0.96      1.00      0.98     17383\n",
      "           1       1.00      0.54      0.70      1506\n",
      "\n",
      "    accuracy                           0.96     18889\n",
      "   macro avg       0.98      0.77      0.84     18889\n",
      "weighted avg       0.96      0.96      0.96     18889\n",
      "\n",
      "================================================================================\n"
     ]
    },
    {
     "name": "stderr",
     "output_type": "stream",
     "text": [
      "\n",
      "\u001b[A\n",
      "\u001b[A"
     ]
    },
    {
     "name": "stdout",
     "output_type": "stream",
     "text": [
      "Scaler: RobustScaler\n",
      "Resampler: TomekLinks\n",
      "Classifier: Bagging\n",
      "Balanced Accuracy: 0.7734334479375256\n",
      "Classification Report:\n",
      "              precision    recall  f1-score   support\n",
      "\n",
      "           0       0.96      1.00      0.98     17383\n",
      "           1       0.94      0.55      0.69      1506\n",
      "\n",
      "    accuracy                           0.96     18889\n",
      "   macro avg       0.95      0.77      0.84     18889\n",
      "weighted avg       0.96      0.96      0.96     18889\n",
      "\n",
      "================================================================================\n"
     ]
    },
    {
     "name": "stderr",
     "output_type": "stream",
     "text": [
      "\n",
      "\u001b[A\n",
      "\u001b[A\n",
      "\u001b[A"
     ]
    },
    {
     "name": "stdout",
     "output_type": "stream",
     "text": [
      "Scaler: RobustScaler\n",
      "Resampler: ClusterCentroids\n",
      "Classifier: RandomForest\n",
      "Balanced Accuracy: 0.5027145058378921\n",
      "Classification Report:\n",
      "              precision    recall  f1-score   support\n",
      "\n",
      "           0       0.98      0.01      0.01     17383\n",
      "           1       0.08      1.00      0.15      1506\n",
      "\n",
      "    accuracy                           0.09     18889\n",
      "   macro avg       0.53      0.50      0.08     18889\n",
      "weighted avg       0.91      0.09      0.03     18889\n",
      "\n",
      "================================================================================\n",
      "Scaler: RobustScaler\n",
      "Resampler: ClusterCentroids\n",
      "Classifier: LogisticRegression\n",
      "Balanced Accuracy: 0.7639839117135936\n",
      "Classification Report:\n",
      "              precision    recall  f1-score   support\n",
      "\n",
      "           0       0.96      0.96      0.96     17383\n",
      "           1       0.57      0.57      0.57      1506\n",
      "\n",
      "    accuracy                           0.93     18889\n",
      "   macro avg       0.77      0.76      0.76     18889\n",
      "weighted avg       0.93      0.93      0.93     18889\n",
      "\n",
      "================================================================================\n"
     ]
    },
    {
     "name": "stderr",
     "output_type": "stream",
     "text": [
      "\n",
      "\u001b[A"
     ]
    },
    {
     "name": "stdout",
     "output_type": "stream",
     "text": [
      "Scaler: RobustScaler\n",
      "Resampler: ClusterCentroids\n",
      "Classifier: XGBoost\n",
      "Balanced Accuracy: 0.5008160993487937\n",
      "Classification Report:\n",
      "              precision    recall  f1-score   support\n",
      "\n",
      "           0       0.95      0.00      0.01     17383\n",
      "           1       0.08      1.00      0.15      1506\n",
      "\n",
      "    accuracy                           0.08     18889\n",
      "   macro avg       0.52      0.50      0.08     18889\n",
      "weighted avg       0.88      0.08      0.02     18889\n",
      "\n",
      "================================================================================\n"
     ]
    },
    {
     "name": "stderr",
     "output_type": "stream",
     "text": [
      "\n",
      "\u001b[A\n",
      "\u001b[A"
     ]
    },
    {
     "name": "stdout",
     "output_type": "stream",
     "text": [
      "Scaler: RobustScaler\n",
      "Resampler: ClusterCentroids\n",
      "Classifier: CatBoost\n",
      "Balanced Accuracy: 0.5011900278996767\n",
      "Classification Report:\n",
      "              precision    recall  f1-score   support\n",
      "\n",
      "           0       0.96      0.00      0.01     17383\n",
      "           1       0.08      1.00      0.15      1506\n",
      "\n",
      "    accuracy                           0.08     18889\n",
      "   macro avg       0.52      0.50      0.08     18889\n",
      "weighted avg       0.89      0.08      0.02     18889\n",
      "\n",
      "================================================================================\n",
      "Scaler: RobustScaler\n",
      "Resampler: ClusterCentroids\n",
      "Classifier: KNeighbors\n",
      "Balanced Accuracy: 0.774277012260074\n",
      "Classification Report:\n",
      "              precision    recall  f1-score   support\n",
      "\n",
      "           0       0.96      0.97      0.97     17383\n",
      "           1       0.63      0.58      0.60      1506\n",
      "\n",
      "    accuracy                           0.94     18889\n",
      "   macro avg       0.80      0.77      0.78     18889\n",
      "weighted avg       0.94      0.94      0.94     18889\n",
      "\n",
      "================================================================================\n"
     ]
    },
    {
     "name": "stderr",
     "output_type": "stream",
     "text": [
      "\n",
      "\u001b[A"
     ]
    },
    {
     "name": "stdout",
     "output_type": "stream",
     "text": [
      "Scaler: RobustScaler\n",
      "Resampler: ClusterCentroids\n",
      "Classifier: DecisionTree\n",
      "Balanced Accuracy: 0.5096206097774237\n",
      "Classification Report:\n",
      "              precision    recall  f1-score   support\n",
      "\n",
      "           0       0.95      0.04      0.08     17383\n",
      "           1       0.08      0.98      0.15      1506\n",
      "\n",
      "    accuracy                           0.12     18889\n",
      "   macro avg       0.52      0.51      0.12     18889\n",
      "weighted avg       0.88      0.12      0.09     18889\n",
      "\n",
      "================================================================================\n",
      "Scaler: RobustScaler\n",
      "Resampler: ClusterCentroids\n",
      "Classifier: GaussianNB\n",
      "Balanced Accuracy: 0.7468223139962347\n",
      "Classification Report:\n",
      "              precision    recall  f1-score   support\n",
      "\n",
      "           0       0.96      0.91      0.93     17383\n",
      "           1       0.35      0.59      0.44      1506\n",
      "\n",
      "    accuracy                           0.88     18889\n",
      "   macro avg       0.66      0.75      0.69     18889\n",
      "weighted avg       0.91      0.88      0.89     18889\n",
      "\n",
      "================================================================================\n"
     ]
    },
    {
     "name": "stderr",
     "output_type": "stream",
     "text": [
      "\n",
      "\u001b[A"
     ]
    },
    {
     "name": "stdout",
     "output_type": "stream",
     "text": [
      "Scaler: RobustScaler\n",
      "Resampler: ClusterCentroids\n",
      "Classifier: GradientBoosting\n",
      "Balanced Accuracy: 0.5018335448403705\n",
      "Classification Report:\n",
      "              precision    recall  f1-score   support\n",
      "\n",
      "           0       0.96      0.01      0.02     17383\n",
      "           1       0.08      1.00      0.15      1506\n",
      "\n",
      "    accuracy                           0.09     18889\n",
      "   macro avg       0.52      0.50      0.08     18889\n",
      "weighted avg       0.89      0.09      0.03     18889\n",
      "\n",
      "================================================================================\n"
     ]
    },
    {
     "name": "stderr",
     "output_type": "stream",
     "text": [
      "\n",
      "\u001b[A"
     ]
    },
    {
     "name": "stdout",
     "output_type": "stream",
     "text": [
      "Scaler: RobustScaler\n",
      "Resampler: ClusterCentroids\n",
      "Classifier: AdaBoost\n",
      "Balanced Accuracy: 0.5021211821872036\n",
      "Classification Report:\n",
      "              precision    recall  f1-score   support\n",
      "\n",
      "           0       0.96      0.01      0.02     17383\n",
      "           1       0.08      1.00      0.15      1506\n",
      "\n",
      "    accuracy                           0.09     18889\n",
      "   macro avg       0.52      0.50      0.08     18889\n",
      "weighted avg       0.89      0.09      0.03     18889\n",
      "\n",
      "================================================================================\n"
     ]
    },
    {
     "name": "stderr",
     "output_type": "stream",
     "text": [
      "\n",
      "\u001b[A\n",
      "Scalers: 100%|██████████| 3/3 [49:39<00:00, 993.08s/it]"
     ]
    },
    {
     "name": "stdout",
     "output_type": "stream",
     "text": [
      "Scaler: RobustScaler\n",
      "Resampler: ClusterCentroids\n",
      "Classifier: Bagging\n",
      "Balanced Accuracy: 0.5072888755243843\n",
      "Classification Report:\n",
      "              precision    recall  f1-score   support\n",
      "\n",
      "           0       0.97      0.02      0.05     17383\n",
      "           1       0.08      0.99      0.15      1506\n",
      "\n",
      "    accuracy                           0.10     18889\n",
      "   macro avg       0.52      0.51      0.10     18889\n",
      "weighted avg       0.90      0.10      0.05     18889\n",
      "\n",
      "================================================================================\n",
      "             Scaler         Resampler          Classifier  Balanced Accuracy  \\\n",
      "0    StandardScaler             SMOTE        RandomForest           0.773980   \n",
      "1    StandardScaler             SMOTE  LogisticRegression           0.814904   \n",
      "2    StandardScaler             SMOTE             XGBoost           0.772723   \n",
      "3    StandardScaler             SMOTE            CatBoost           0.771813   \n",
      "4    StandardScaler             SMOTE          KNeighbors           0.724531   \n",
      "..              ...               ...                 ...                ...   \n",
      "265    RobustScaler  ClusterCentroids        DecisionTree           0.509621   \n",
      "266    RobustScaler  ClusterCentroids          GaussianNB           0.746822   \n",
      "267    RobustScaler  ClusterCentroids    GradientBoosting           0.501834   \n",
      "268    RobustScaler  ClusterCentroids            AdaBoost           0.502121   \n",
      "269    RobustScaler  ClusterCentroids             Bagging           0.507289   \n",
      "\n",
      "                                 Classification Report  \n",
      "0                  precision    recall  f1-score   ...  \n",
      "1                  precision    recall  f1-score   ...  \n",
      "2                  precision    recall  f1-score   ...  \n",
      "3                  precision    recall  f1-score   ...  \n",
      "4                  precision    recall  f1-score   ...  \n",
      "..                                                 ...  \n",
      "265                precision    recall  f1-score   ...  \n",
      "266                precision    recall  f1-score   ...  \n",
      "267                precision    recall  f1-score   ...  \n",
      "268                precision    recall  f1-score   ...  \n",
      "269                precision    recall  f1-score   ...  \n",
      "\n",
      "[270 rows x 5 columns]\n"
     ]
    },
    {
     "name": "stderr",
     "output_type": "stream",
     "text": [
      "\n"
     ]
    }
   ],
   "source": [
    "from sklearn.ensemble import RandomForestClassifier\n",
    "from sklearn.linear_model import LogisticRegression\n",
    "from xgboost import XGBClassifier\n",
    "from catboost import CatBoostClassifier\n",
    "from sklearn.neighbors import KNeighborsClassifier\n",
    "from sklearn.tree import DecisionTreeClassifier\n",
    "from sklearn.naive_bayes import GaussianNB\n",
    "from sklearn.ensemble import GradientBoostingClassifier, AdaBoostClassifier, BaggingClassifier\n",
    "from imblearn.over_sampling import SMOTE, SMOTENC, ADASYN\n",
    "from imblearn.combine import SMOTETomek, SMOTEENN\n",
    "from imblearn.under_sampling import RandomUnderSampler, NearMiss, TomekLinks, ClusterCentroids\n",
    "from tqdm import tqdm  \n",
    "\n",
    "\n",
    "scalers = [StandardScaler(), MinMaxScaler(), RobustScaler()]\n",
    "categorical_features = [0, 1] \n",
    "e\n",
    "resamplers = [\n",
    "    SMOTE(random_state=42),\n",
    "    SMOTETomek(random_state=42),\n",
    "    SMOTENC(categorical_features=categorical_features, random_state=42),\n",
    "    ADASYN(random_state=42),\n",
    "    SMOTEENN(random_state=42),\n",
    "    RandomUnderSampler(random_state=42),\n",
    "    NearMiss(),\n",
    "    TomekLinks(),\n",
    "    ClusterCentroids(random_state=42)\n",
    "]\n",
    "\n",
    "classifiers = [\n",
    "    (\"RandomForest\", RandomForestClassifier(random_state=42)),\n",
    "    (\"LogisticRegression\", LogisticRegression(random_state=42)),\n",
    "    (\"XGBoost\", XGBClassifier(random_state=42, use_label_encoder=False, eval_metric='logloss')),\n",
    "    (\"CatBoost\", CatBoostClassifier(random_state=42, verbose=0)),\n",
    "    (\"KNeighbors\", KNeighborsClassifier()),\n",
    "    (\"DecisionTree\", DecisionTreeClassifier(random_state=42)),\n",
    "    (\"GaussianNB\", GaussianNB()),\n",
    "    (\"GradientBoosting\", GradientBoostingClassifier(random_state=42)),\n",
    "    (\"AdaBoost\", AdaBoostClassifier(random_state=42)),\n",
    "    (\"Bagging\", BaggingClassifier(random_state=42))\n",
    "]\n",
    "\n",
    "X = train.drop(columns=['fraud'], axis=1)\n",
    "y = train['fraud']\n",
    "\n",
    "results = []\n",
    "\n",
    "for scaler in tqdm(scalers, desc='Scalers'):\n",
    "    X_scaled = scaler.fit_transform(X)\n",
    "    X_train, X_test, y_train, y_test = train_test_split(X_scaled, y, test_size=0.25, random_state=42, stratify=y)\n",
    "\n",
    "    for resampler in tqdm(resamplers, desc='Resamplers', leave=False):\n",
    "        try:\n",
    "            X_resampled, y_resampled = resampler.fit_resample(X_train, y_train)\n",
    "\n",
    "            for name, classifier in tqdm(classifiers, desc='Classifiers', leave=False):\n",
    "                classifier.fit(X_resampled, y_resampled)\n",
    "\n",
    "                y_pred = classifier.predict(X_test)\n",
    "                balanced_acc = balanced_accuracy_score(y_test, y_pred)\n",
    "                class_report = classification_report(y_test, y_pred)\n",
    "\n",
    "                result = {\n",
    "                    \"Scaler\": scaler.__class__.__name__,\n",
    "                    \"Resampler\": resampler.__class__.__name__,\n",
    "                    \"Classifier\": name,\n",
    "                    \"Balanced Accuracy\": balanced_acc,\n",
    "                    \"Classification Report\": class_report\n",
    "                }\n",
    "                results.append(result)\n",
    "\n",
    "                print(f\"Scaler: {scaler.__class__.__name__}\")\n",
    "                print(f\"Resampler: {resampler.__class__.__name__}\")\n",
    "                print(f\"Classifier: {name}\")\n",
    "                print(f\"Balanced Accuracy: {balanced_acc}\")\n",
    "                print(f\"Classification Report:\\n{class_report}\")\n",
    "                print(\"=\"*80)\n",
    "        except Exception as e:\n",
    "            print(f\"Error with resampler {resampler.__class__.__name__}: {e}\")\n",
    "\n",
    "results_df = pd.DataFrame(results)\n"
   ]
  },
  {
   "cell_type": "code",
   "execution_count": null,
   "metadata": {},
   "outputs": [],
   "source": []
  }
 ],
 "metadata": {
  "kernelspec": {
   "display_name": "Python 3",
   "language": "python",
   "name": "python3"
  },
  "language_info": {
   "codemirror_mode": {
    "name": "ipython",
    "version": 3
   },
   "file_extension": ".py",
   "mimetype": "text/x-python",
   "name": "python",
   "nbconvert_exporter": "python",
   "pygments_lexer": "ipython3",
   "version": "3.11.9"
  }
 },
 "nbformat": 4,
 "nbformat_minor": 2
}
